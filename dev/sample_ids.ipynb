{
 "cells": [
  {
   "cell_type": "code",
   "execution_count": 1,
   "metadata": {},
   "outputs": [],
   "source": [
    "import os\n",
    "import pandas as pd\n",
    "import os.path as osp\n",
    "from pyspark.sql import SparkSession\n",
    "from pyspark.sql import functions as F\n",
    "os.environ['JAVA_HOME'] = osp.join(os.environ['CONDA_PREFIX'].replace('ukb-analysis', 'pyspark'), 'jre')\n",
    "spark = SparkSession.builder.getOrCreate()"
   ]
  },
  {
   "cell_type": "code",
   "execution_count": 63,
   "metadata": {},
   "outputs": [
    {
     "data": {
      "text/plain": [
       "['eid',\n",
       " 'x22000_0_0',\n",
       " 'x22007_0_0',\n",
       " 'x22008_0_0',\n",
       " 'x22001_0_0',\n",
       " 'x22021_0_0',\n",
       " 'x22006_0_0',\n",
       " 'x22019_0_0',\n",
       " 'x22027_0_0',\n",
       " 'x22003_0_0',\n",
       " 'x22004_0_0',\n",
       " 'x22005_0_0',\n",
       " 'x22020_0_0',\n",
       " 'x22022_0_0',\n",
       " 'x22023_0_0',\n",
       " 'x22025_0_0',\n",
       " 'x22026_0_0',\n",
       " 'x22024_0_0',\n",
       " 'x22028_0_0',\n",
       " 'x22029_0_0',\n",
       " 'x22030_0_0']"
      ]
     },
     "execution_count": 63,
     "metadata": {},
     "output_type": "execute_result"
    }
   ],
   "source": [
    "df_sqc.columns"
   ]
  },
  {
   "cell_type": "code",
   "execution_count": 61,
   "metadata": {},
   "outputs": [
    {
     "ename": "AssertionError",
     "evalue": "Series are different\n\nSeries values are different (50.0 %)\n[index]: [0, 1]\n[left]:  [x, y]\n[right]: [x, z]",
     "output_type": "error",
     "traceback": [
      "\u001b[0;31m---------------------------------------------------------------------------\u001b[0m",
      "\u001b[0;31mAssertionError\u001b[0m                            Traceback (most recent call last)",
      "\u001b[0;32m<ipython-input-61-8d4f0a7e2d38>\u001b[0m in \u001b[0;36m<module>\u001b[0;34m\u001b[0m\n\u001b[0;32m----> 1\u001b[0;31m \u001b[0mpd\u001b[0m\u001b[0;34m.\u001b[0m\u001b[0mtesting\u001b[0m\u001b[0;34m.\u001b[0m\u001b[0massert_series_equal\u001b[0m\u001b[0;34m(\u001b[0m\u001b[0mpd\u001b[0m\u001b[0;34m.\u001b[0m\u001b[0mSeries\u001b[0m\u001b[0;34m(\u001b[0m\u001b[0;34m[\u001b[0m\u001b[0;34m'x'\u001b[0m\u001b[0;34m,\u001b[0m \u001b[0;34m'y'\u001b[0m\u001b[0;34m]\u001b[0m\u001b[0;34m)\u001b[0m\u001b[0;34m,\u001b[0m \u001b[0mpd\u001b[0m\u001b[0;34m.\u001b[0m\u001b[0mSeries\u001b[0m\u001b[0;34m(\u001b[0m\u001b[0;34m[\u001b[0m\u001b[0;34m'x'\u001b[0m\u001b[0;34m,\u001b[0m \u001b[0;34m'z'\u001b[0m\u001b[0;34m]\u001b[0m\u001b[0;34m)\u001b[0m\u001b[0;34m)\u001b[0m\u001b[0;34m\u001b[0m\u001b[0;34m\u001b[0m\u001b[0m\n\u001b[0m",
      "    \u001b[0;31m[... skipping hidden 1 frame]\u001b[0m\n",
      "\u001b[0;32mpandas/_libs/testing.pyx\u001b[0m in \u001b[0;36mpandas._libs.testing.assert_almost_equal\u001b[0;34m()\u001b[0m\n",
      "\u001b[0;32mpandas/_libs/testing.pyx\u001b[0m in \u001b[0;36mpandas._libs.testing.assert_almost_equal\u001b[0;34m()\u001b[0m\n",
      "    \u001b[0;31m[... skipping hidden 1 frame]\u001b[0m\n",
      "\u001b[0;31mAssertionError\u001b[0m: Series are different\n\nSeries values are different (50.0 %)\n[index]: [0, 1]\n[left]:  [x, y]\n[right]: [x, z]"
     ]
    }
   ],
   "source": [
    "pd.testing.assert_series_equal(pd.Series(['x', 'y']), pd.Series(['x', 'z']))"
   ]
  },
  {
   "cell_type": "code",
   "execution_count": 6,
   "metadata": {},
   "outputs": [
    {
     "data": {
      "text/plain": [
       "['eid',\n",
       " 'x3_0_0',\n",
       " 'x3_1_0',\n",
       " 'x3_2_0',\n",
       " 'x3_3_0',\n",
       " 'x4_0_0',\n",
       " 'x4_1_0',\n",
       " 'x4_2_0',\n",
       " 'x4_3_0',\n",
       " 'x5_0_0']"
      ]
     },
     "execution_count": 6,
     "metadata": {},
     "output_type": "execute_result"
    }
   ],
   "source": [
    "df = spark.read.parquet('/home/eczech/repos/ukb-gwas-pipeline-nealelab/rs-ukb/prep-data/main/ukb.parquet')\n",
    "df.columns[:10]"
   ]
  },
  {
   "cell_type": "code",
   "execution_count": 8,
   "metadata": {},
   "outputs": [
    {
     "name": "stdout",
     "output_type": "stream",
     "text": [
      "CPU times: user 3.89 ms, sys: 5.09 ms, total: 8.98 ms\n",
      "Wall time: 34.8 s\n"
     ]
    },
    {
     "data": {
      "text/plain": [
       "502505"
      ]
     },
     "execution_count": 8,
     "metadata": {},
     "output_type": "execute_result"
    }
   ],
   "source": [
    "%%time\n",
    "df.count()"
   ]
  },
  {
   "cell_type": "code",
   "execution_count": 25,
   "metadata": {},
   "outputs": [
    {
     "name": "stdout",
     "output_type": "stream",
     "text": [
      "root\n",
      " |-- eid: integer (nullable = true)\n",
      " |-- x22000_0_0: string (nullable = true)\n",
      " |-- x22007_0_0: string (nullable = true)\n",
      " |-- x22008_0_0: string (nullable = true)\n",
      " |-- x22001_0_0: string (nullable = true)\n",
      " |-- x22021_0_0: string (nullable = true)\n",
      " |-- x22006_0_0: string (nullable = true)\n",
      " |-- x22019_0_0: string (nullable = true)\n",
      " |-- x22027_0_0: string (nullable = true)\n",
      " |-- x22003_0_0: string (nullable = true)\n",
      " |-- x22004_0_0: string (nullable = true)\n",
      " |-- x22005_0_0: string (nullable = true)\n",
      " |-- x22020_0_0: string (nullable = true)\n",
      " |-- x22022_0_0: string (nullable = true)\n",
      " |-- x22023_0_0: string (nullable = true)\n",
      " |-- x22025_0_0: string (nullable = true)\n",
      " |-- x22026_0_0: string (nullable = true)\n",
      " |-- x22024_0_0: string (nullable = true)\n",
      " |-- x22028_0_0: string (nullable = true)\n",
      " |-- x22029_0_0: string (nullable = true)\n",
      " |-- x22030_0_0: string (nullable = true)\n",
      "\n"
     ]
    }
   ],
   "source": [
    "# Field ids from http://biobank.ctsu.ox.ac.uk/crystal/label.cgi?id=100313\n",
    "cols = [\n",
    "    \"eid\",\n",
    "    \"x22000_0_0\", # Genotype measurement batch\n",
    "    \"x22007_0_0\", # Genotype measurement plate\n",
    "    \"x22008_0_0\", # Genotype measurement well\n",
    "    \"x22001_0_0\", # Genetic sex\n",
    "    \"x22021_0_0\", # Genetic kinship to other participants\n",
    "    \"x22006_0_0\", # Genetic ethnic grouping\n",
    "    \"x22019_0_0\", # Sex chromosome aneuploidy\n",
    "    \"x22027_0_0\", # Outliers for heterozygosity or missing rate\n",
    "    \"x22003_0_0\", # Heterozygosity\n",
    "    \"x22004_0_0\", # Heterozygosity, PCA corrected\n",
    "    \"x22005_0_0\", # Missingness\n",
    "    # \"x22009_0_0\", # Genetic principal components --> Absent for some reaason\n",
    "    \"x22020_0_0\", # Used in genetic principal components\n",
    "    \"x22022_0_0\", # Sex inference X probe-intensity\n",
    "    \"x22023_0_0\", # Sex inference Y probe-intensity\n",
    "    \"x22025_0_0\", # Affymetrix quality control metric \"Cluster.CR\"\n",
    "    \"x22026_0_0\", # Affymetrix quality control metric \"dQC\"\n",
    "    \"x22024_0_0\", # DNA concentration\n",
    "    \"x22028_0_0\", # Use in phasing Chromosomes 1-22\n",
    "    \"x22029_0_0\", # Use in phasing Chromosome X\n",
    "    \"x22030_0_0\", # Use in phasing Chromosome XY\n",
    "    #\"x22002_0_0\", # CEL files --> Absent for some reason\n",
    "]\n",
    "df_sqc = df[cols]\n",
    "assert df_sqc.columns == cols\n",
    "df_sqc.printSchema()"
   ]
  },
  {
   "cell_type": "code",
   "execution_count": 42,
   "metadata": {},
   "outputs": [
    {
     "name": "stdout",
     "output_type": "stream",
     "text": [
      "<class 'pandas.core.frame.DataFrame'>\n",
      "RangeIndex: 502505 entries, 0 to 502504\n",
      "Data columns (total 21 columns):\n",
      " #   Column      Non-Null Count   Dtype \n",
      "---  ------      --------------   ----- \n",
      " 0   eid         502505 non-null  Int32 \n",
      " 1   x22000_0_0  488263 non-null  string\n",
      " 2   x22007_0_0  488263 non-null  string\n",
      " 3   x22008_0_0  488263 non-null  string\n",
      " 4   x22001_0_0  488263 non-null  string\n",
      " 5   x22021_0_0  488263 non-null  string\n",
      " 6   x22006_0_0  409615 non-null  string\n",
      " 7   x22019_0_0  651 non-null     string\n",
      " 8   x22027_0_0  968 non-null     string\n",
      " 9   x22003_0_0  488263 non-null  string\n",
      " 10  x22004_0_0  488263 non-null  string\n",
      " 11  x22005_0_0  488263 non-null  string\n",
      " 12  x22020_0_0  407127 non-null  string\n",
      " 13  x22022_0_0  488263 non-null  string\n",
      " 14  x22023_0_0  488263 non-null  string\n",
      " 15  x22025_0_0  488263 non-null  string\n",
      " 16  x22026_0_0  488263 non-null  string\n",
      " 17  x22024_0_0  488263 non-null  string\n",
      " 18  x22028_0_0  488263 non-null  string\n",
      " 19  x22029_0_0  488263 non-null  string\n",
      " 20  x22030_0_0  488263 non-null  string\n",
      "dtypes: Int32(1), string(20)\n",
      "memory usage: 79.1 MB\n"
     ]
    }
   ],
   "source": [
    "pdf_sqc = df_sqc.toPandas()\n",
    "pdf_sqc.info()"
   ]
  },
  {
   "cell_type": "code",
   "execution_count": 45,
   "metadata": {},
   "outputs": [
    {
     "data": {
      "text/html": [
       "<div>\n",
       "<style scoped>\n",
       "    .dataframe tbody tr th:only-of-type {\n",
       "        vertical-align: middle;\n",
       "    }\n",
       "\n",
       "    .dataframe tbody tr th {\n",
       "        vertical-align: top;\n",
       "    }\n",
       "\n",
       "    .dataframe thead th {\n",
       "        text-align: right;\n",
       "    }\n",
       "</style>\n",
       "<table border=\"1\" class=\"dataframe\">\n",
       "  <thead>\n",
       "    <tr style=\"text-align: right;\">\n",
       "      <th></th>\n",
       "      <th>eid</th>\n",
       "      <th>x22000_0_0</th>\n",
       "      <th>x22007_0_0</th>\n",
       "      <th>x22008_0_0</th>\n",
       "      <th>x22001_0_0</th>\n",
       "      <th>x22021_0_0</th>\n",
       "      <th>x22006_0_0</th>\n",
       "      <th>x22019_0_0</th>\n",
       "      <th>x22027_0_0</th>\n",
       "      <th>x22003_0_0</th>\n",
       "      <th>...</th>\n",
       "      <th>x22005_0_0</th>\n",
       "      <th>x22020_0_0</th>\n",
       "      <th>x22022_0_0</th>\n",
       "      <th>x22023_0_0</th>\n",
       "      <th>x22025_0_0</th>\n",
       "      <th>x22026_0_0</th>\n",
       "      <th>x22024_0_0</th>\n",
       "      <th>x22028_0_0</th>\n",
       "      <th>x22029_0_0</th>\n",
       "      <th>x22030_0_0</th>\n",
       "    </tr>\n",
       "  </thead>\n",
       "  <tbody>\n",
       "    <tr>\n",
       "      <th>0</th>\n",
       "      <td>4219054</td>\n",
       "      <td>38</td>\n",
       "      <td>SMP4_0012173A</td>\n",
       "      <td>F10</td>\n",
       "      <td>1</td>\n",
       "      <td>0</td>\n",
       "      <td>1</td>\n",
       "      <td>&lt;NA&gt;</td>\n",
       "      <td>&lt;NA&gt;</td>\n",
       "      <td>0.189547</td>\n",
       "      <td>...</td>\n",
       "      <td>0.003946</td>\n",
       "      <td>1</td>\n",
       "      <td>592.7</td>\n",
       "      <td>671.8200000000001</td>\n",
       "      <td>99.523</td>\n",
       "      <td>0.97</td>\n",
       "      <td>24.82</td>\n",
       "      <td>1</td>\n",
       "      <td>1</td>\n",
       "      <td>1</td>\n",
       "    </tr>\n",
       "    <tr>\n",
       "      <th>1</th>\n",
       "      <td>4219069</td>\n",
       "      <td>68</td>\n",
       "      <td>SMP4_0012961A</td>\n",
       "      <td>G12</td>\n",
       "      <td>1</td>\n",
       "      <td>0</td>\n",
       "      <td>1</td>\n",
       "      <td>&lt;NA&gt;</td>\n",
       "      <td>&lt;NA&gt;</td>\n",
       "      <td>0.188485</td>\n",
       "      <td>...</td>\n",
       "      <td>0.01233</td>\n",
       "      <td>1</td>\n",
       "      <td>357.16</td>\n",
       "      <td>406.66</td>\n",
       "      <td>98.711</td>\n",
       "      <td>0.97</td>\n",
       "      <td>31.27</td>\n",
       "      <td>1</td>\n",
       "      <td>1</td>\n",
       "      <td>1</td>\n",
       "    </tr>\n",
       "    <tr>\n",
       "      <th>2</th>\n",
       "      <td>4219076</td>\n",
       "      <td>78</td>\n",
       "      <td>SMP4_0016227A</td>\n",
       "      <td>E04</td>\n",
       "      <td>1</td>\n",
       "      <td>1</td>\n",
       "      <td>1</td>\n",
       "      <td>&lt;NA&gt;</td>\n",
       "      <td>&lt;NA&gt;</td>\n",
       "      <td>0.186575</td>\n",
       "      <td>...</td>\n",
       "      <td>0.007893000000000001</td>\n",
       "      <td>1</td>\n",
       "      <td>486.65</td>\n",
       "      <td>423.79</td>\n",
       "      <td>98.995</td>\n",
       "      <td>0.98</td>\n",
       "      <td>47.48</td>\n",
       "      <td>1</td>\n",
       "      <td>1</td>\n",
       "      <td>1</td>\n",
       "    </tr>\n",
       "  </tbody>\n",
       "</table>\n",
       "<p>3 rows × 21 columns</p>\n",
       "</div>"
      ],
      "text/plain": [
       "       eid x22000_0_0     x22007_0_0 x22008_0_0 x22001_0_0 x22021_0_0  \\\n",
       "0  4219054         38  SMP4_0012173A        F10          1          0   \n",
       "1  4219069         68  SMP4_0012961A        G12          1          0   \n",
       "2  4219076         78  SMP4_0016227A        E04          1          1   \n",
       "\n",
       "  x22006_0_0 x22019_0_0 x22027_0_0 x22003_0_0  ...            x22005_0_0  \\\n",
       "0          1       <NA>       <NA>   0.189547  ...              0.003946   \n",
       "1          1       <NA>       <NA>   0.188485  ...               0.01233   \n",
       "2          1       <NA>       <NA>   0.186575  ...  0.007893000000000001   \n",
       "\n",
       "  x22020_0_0 x22022_0_0         x22023_0_0 x22025_0_0 x22026_0_0 x22024_0_0  \\\n",
       "0          1      592.7  671.8200000000001     99.523       0.97      24.82   \n",
       "1          1     357.16             406.66     98.711       0.97      31.27   \n",
       "2          1     486.65             423.79     98.995       0.98      47.48   \n",
       "\n",
       "  x22028_0_0 x22029_0_0 x22030_0_0  \n",
       "0          1          1          1  \n",
       "1          1          1          1  \n",
       "2          1          1          1  \n",
       "\n",
       "[3 rows x 21 columns]"
      ]
     },
     "execution_count": 45,
     "metadata": {},
     "output_type": "execute_result"
    }
   ],
   "source": [
    "pdf_sqc.head(3)"
   ]
  },
  {
   "cell_type": "code",
   "execution_count": 49,
   "metadata": {},
   "outputs": [
    {
     "data": {
      "text/html": [
       "<div>\n",
       "<style scoped>\n",
       "    .dataframe tbody tr th:only-of-type {\n",
       "        vertical-align: middle;\n",
       "    }\n",
       "\n",
       "    .dataframe tbody tr th {\n",
       "        vertical-align: top;\n",
       "    }\n",
       "\n",
       "    .dataframe thead th {\n",
       "        text-align: right;\n",
       "    }\n",
       "</style>\n",
       "<table border=\"1\" class=\"dataframe\">\n",
       "  <thead>\n",
       "    <tr style=\"text-align: right;\">\n",
       "      <th></th>\n",
       "      <th>plate</th>\n",
       "      <th>well</th>\n",
       "    </tr>\n",
       "  </thead>\n",
       "  <tbody>\n",
       "    <tr>\n",
       "      <th>0</th>\n",
       "      <td>SMP4_0011041A</td>\n",
       "      <td>G06</td>\n",
       "    </tr>\n",
       "    <tr>\n",
       "      <th>1</th>\n",
       "      <td>SMP4_0012545A</td>\n",
       "      <td>F08</td>\n",
       "    </tr>\n",
       "    <tr>\n",
       "      <th>2</th>\n",
       "      <td>SMP4_0016507A</td>\n",
       "      <td>H11</td>\n",
       "    </tr>\n",
       "    <tr>\n",
       "      <th>3</th>\n",
       "      <td>SMP4_0011613A</td>\n",
       "      <td>E07</td>\n",
       "    </tr>\n",
       "    <tr>\n",
       "      <th>4</th>\n",
       "      <td>SMP4_0012223B</td>\n",
       "      <td>A01</td>\n",
       "    </tr>\n",
       "  </tbody>\n",
       "</table>\n",
       "</div>"
      ],
      "text/plain": [
       "           plate well\n",
       "0  SMP4_0011041A  G06\n",
       "1  SMP4_0012545A  F08\n",
       "2  SMP4_0016507A  H11\n",
       "3  SMP4_0011613A  E07\n",
       "4  SMP4_0012223B  A01"
      ]
     },
     "execution_count": 49,
     "metadata": {},
     "output_type": "execute_result"
    }
   ],
   "source": [
    "pdf_samp = pd.read_csv('/home/eczech/repos/ukb-gwas-pipeline-nealelab/rs-ukb/pipe-data/external/nealelab_v3_20180731/european_samples.tsv', sep='\\t')\n",
    "pdf_samp.head()"
   ]
  },
  {
   "cell_type": "code",
   "execution_count": 56,
   "metadata": {},
   "outputs": [
    {
     "data": {
      "text/html": [
       "<div>\n",
       "<style scoped>\n",
       "    .dataframe tbody tr th:only-of-type {\n",
       "        vertical-align: middle;\n",
       "    }\n",
       "\n",
       "    .dataframe tbody tr th {\n",
       "        vertical-align: top;\n",
       "    }\n",
       "\n",
       "    .dataframe thead th {\n",
       "        text-align: right;\n",
       "    }\n",
       "</style>\n",
       "<table border=\"1\" class=\"dataframe\">\n",
       "  <thead>\n",
       "    <tr style=\"text-align: right;\">\n",
       "      <th></th>\n",
       "      <th>plate</th>\n",
       "      <th>well</th>\n",
       "      <th>eid</th>\n",
       "      <th>status</th>\n",
       "    </tr>\n",
       "  </thead>\n",
       "  <tbody>\n",
       "    <tr>\n",
       "      <th>0</th>\n",
       "      <td>SMP4_0011041A</td>\n",
       "      <td>G06</td>\n",
       "      <td>2161076</td>\n",
       "      <td>both</td>\n",
       "    </tr>\n",
       "    <tr>\n",
       "      <th>1</th>\n",
       "      <td>SMP4_0012545A</td>\n",
       "      <td>F08</td>\n",
       "      <td>2439038</td>\n",
       "      <td>both</td>\n",
       "    </tr>\n",
       "    <tr>\n",
       "      <th>2</th>\n",
       "      <td>SMP4_0016507A</td>\n",
       "      <td>H11</td>\n",
       "      <td>3322194</td>\n",
       "      <td>both</td>\n",
       "    </tr>\n",
       "    <tr>\n",
       "      <th>3</th>\n",
       "      <td>SMP4_0011613A</td>\n",
       "      <td>E07</td>\n",
       "      <td>5434719</td>\n",
       "      <td>both</td>\n",
       "    </tr>\n",
       "    <tr>\n",
       "      <th>4</th>\n",
       "      <td>SMP4_0012223B</td>\n",
       "      <td>A01</td>\n",
       "      <td>4395114</td>\n",
       "      <td>both</td>\n",
       "    </tr>\n",
       "  </tbody>\n",
       "</table>\n",
       "</div>"
      ],
      "text/plain": [
       "           plate well      eid status\n",
       "0  SMP4_0011041A  G06  2161076   both\n",
       "1  SMP4_0012545A  F08  2439038   both\n",
       "2  SMP4_0016507A  H11  3322194   both\n",
       "3  SMP4_0011613A  E07  5434719   both\n",
       "4  SMP4_0012223B  A01  4395114   both"
      ]
     },
     "execution_count": 56,
     "metadata": {},
     "output_type": "execute_result"
    }
   ],
   "source": [
    "cols = {\n",
    "    \"x22007_0_0\": 'plate',\n",
    "    \"x22008_0_0\": 'well'\n",
    "}\n",
    "pdf_ms = pd.merge(\n",
    "    pdf_samp.rename(columns={'plate_name': 'plate'}),\n",
    "    pdf_sqc.rename(columns=cols)[['eid', 'plate', 'well']],\n",
    "    how='outer',\n",
    "    indicator='status'\n",
    ")\n",
    "pdf_ms['status'] = pdf_ms['status'].map(dict(both='both', left_only='current_only', right_only='reference_only'))\n",
    "pdf_ms.head()"
   ]
  },
  {
   "cell_type": "code",
   "execution_count": 57,
   "metadata": {},
   "outputs": [
    {
     "data": {
      "text/plain": [
       "both              358010\n",
       "reference_only    144499\n",
       "current_only        3551\n",
       "Name: status, dtype: int64"
      ]
     },
     "execution_count": 57,
     "metadata": {},
     "output_type": "execute_result"
    }
   ],
   "source": [
    "pdf_ms['status'].value_counts()"
   ]
  },
  {
   "cell_type": "code",
   "execution_count": null,
   "metadata": {},
   "outputs": [],
   "source": []
  }
 ],
 "metadata": {
  "kernelspec": {
   "display_name": "pyspark",
   "language": "python",
   "name": "pyspark"
  },
  "language_info": {
   "codemirror_mode": {
    "name": "ipython",
    "version": 3
   },
   "file_extension": ".py",
   "mimetype": "text/x-python",
   "name": "python",
   "nbconvert_exporter": "python",
   "pygments_lexer": "ipython3",
   "version": "3.8.5"
  }
 },
 "nbformat": 4,
 "nbformat_minor": 4
}
