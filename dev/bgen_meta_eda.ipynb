{
 "cells": [
  {
   "cell_type": "markdown",
   "metadata": {},
   "source": [
    "## BGEN Sample and Variant Metadata EDA"
   ]
  },
  {
   "cell_type": "markdown",
   "metadata": {},
   "source": [
    "#### Sample EDA"
   ]
  },
  {
   "cell_type": "code",
   "execution_count": null,
   "metadata": {},
   "outputs": [],
   "source": [
    "import pandas as pd"
   ]
  },
  {
   "cell_type": "code",
   "execution_count": 4,
   "metadata": {},
   "outputs": [],
   "source": [
    "files = !gsutil ls gs://rs-ukb/raw-data/gt-imputation/*.sample"
   ]
  },
  {
   "cell_type": "code",
   "execution_count": 5,
   "metadata": {},
   "outputs": [
    {
     "data": {
      "text/plain": [
       "['gs://rs-ukb/raw-data/gt-imputation/ukb59384_imp_chr10_v3_s487296.sample',\n",
       " 'gs://rs-ukb/raw-data/gt-imputation/ukb59384_imp_chr11_v3_s487296.sample',\n",
       " 'gs://rs-ukb/raw-data/gt-imputation/ukb59384_imp_chr12_v3_s487296.sample',\n",
       " 'gs://rs-ukb/raw-data/gt-imputation/ukb59384_imp_chr13_v3_s487296.sample',\n",
       " 'gs://rs-ukb/raw-data/gt-imputation/ukb59384_imp_chr14_v3_s487296.sample',\n",
       " 'gs://rs-ukb/raw-data/gt-imputation/ukb59384_imp_chr15_v3_s487296.sample',\n",
       " 'gs://rs-ukb/raw-data/gt-imputation/ukb59384_imp_chr16_v3_s487296.sample',\n",
       " 'gs://rs-ukb/raw-data/gt-imputation/ukb59384_imp_chr17_v3_s487296.sample',\n",
       " 'gs://rs-ukb/raw-data/gt-imputation/ukb59384_imp_chr18_v3_s487296.sample',\n",
       " 'gs://rs-ukb/raw-data/gt-imputation/ukb59384_imp_chr19_v3_s487296.sample',\n",
       " 'gs://rs-ukb/raw-data/gt-imputation/ukb59384_imp_chr1_v3_s487296.sample',\n",
       " 'gs://rs-ukb/raw-data/gt-imputation/ukb59384_imp_chr20_v3_s487296.sample',\n",
       " 'gs://rs-ukb/raw-data/gt-imputation/ukb59384_imp_chr21_v3_s487296.sample',\n",
       " 'gs://rs-ukb/raw-data/gt-imputation/ukb59384_imp_chr22_v3_s487296.sample',\n",
       " 'gs://rs-ukb/raw-data/gt-imputation/ukb59384_imp_chr2_v3_s487296.sample',\n",
       " 'gs://rs-ukb/raw-data/gt-imputation/ukb59384_imp_chr3_v3_s487296.sample',\n",
       " 'gs://rs-ukb/raw-data/gt-imputation/ukb59384_imp_chr4_v3_s487296.sample',\n",
       " 'gs://rs-ukb/raw-data/gt-imputation/ukb59384_imp_chr5_v3_s487296.sample',\n",
       " 'gs://rs-ukb/raw-data/gt-imputation/ukb59384_imp_chr6_v3_s487296.sample',\n",
       " 'gs://rs-ukb/raw-data/gt-imputation/ukb59384_imp_chr7_v3_s487296.sample',\n",
       " 'gs://rs-ukb/raw-data/gt-imputation/ukb59384_imp_chr8_v3_s487296.sample',\n",
       " 'gs://rs-ukb/raw-data/gt-imputation/ukb59384_imp_chr9_v3_s487296.sample',\n",
       " 'gs://rs-ukb/raw-data/gt-imputation/ukb59384_imp_chrXY_v3_s486331.sample',\n",
       " 'gs://rs-ukb/raw-data/gt-imputation/ukb59384_imp_chrX_v3_s486645.sample']"
      ]
     },
     "execution_count": 5,
     "metadata": {},
     "output_type": "execute_result"
    }
   ],
   "source": [
    "files"
   ]
  },
  {
   "cell_type": "code",
   "execution_count": 6,
   "metadata": {},
   "outputs": [],
   "source": [
    "def load(path):\n",
    "    cols = [(\"id1\", \"int32\"), (\"id2\", \"int32\"), (\"missing\", str), (\"sex\", str)]\n",
    "    return pd.read_csv(\n",
    "        path,\n",
    "        sep=\" \",\n",
    "        dtype=dict(cols),\n",
    "        names=[c[0] for c in cols],\n",
    "        header=0,\n",
    "        skiprows=1,  # Skip the first non-header row\n",
    "    )"
   ]
  },
  {
   "cell_type": "code",
   "execution_count": 15,
   "metadata": {},
   "outputs": [
    {
     "name": "stdout",
     "output_type": "stream",
     "text": [
      "<class 'pandas.core.frame.DataFrame'>\n",
      "Int64Index: 11696198 entries, 0 to 486756\n",
      "Data columns (total 5 columns):\n",
      " #   Column   Non-Null Count     Dtype \n",
      "---  ------   --------------     ----- \n",
      " 0   id1      11696198 non-null  int32 \n",
      " 1   id2      11696198 non-null  int32 \n",
      " 2   missing  11696198 non-null  object\n",
      " 3   sex      11696198 non-null  object\n",
      " 4   file     11696198 non-null  object\n",
      "dtypes: int32(2), object(3)\n",
      "memory usage: 446.2+ MB\n"
     ]
    }
   ],
   "source": [
    "pd.set_option('max.info_rows', 100000000)\n",
    "df = pd.concat([\n",
    "    load(path).assign(file=path.split('/')[-1])\n",
    "    for path in files\n",
    "])\n",
    "df.info()"
   ]
  },
  {
   "cell_type": "code",
   "execution_count": 13,
   "metadata": {},
   "outputs": [
    {
     "data": {
      "text/plain": [
       "file\n",
       "ukb59384_imp_chr10_v3_s487296.sample    487409\n",
       "ukb59384_imp_chr11_v3_s487296.sample    487409\n",
       "ukb59384_imp_chr12_v3_s487296.sample    487409\n",
       "ukb59384_imp_chr13_v3_s487296.sample    487409\n",
       "ukb59384_imp_chr14_v3_s487296.sample    487409\n",
       "ukb59384_imp_chr15_v3_s487296.sample    487409\n",
       "ukb59384_imp_chr16_v3_s487296.sample    487409\n",
       "ukb59384_imp_chr17_v3_s487296.sample    487409\n",
       "ukb59384_imp_chr18_v3_s487296.sample    487409\n",
       "ukb59384_imp_chr19_v3_s487296.sample    487409\n",
       "ukb59384_imp_chr1_v3_s487296.sample     487409\n",
       "ukb59384_imp_chr20_v3_s487296.sample    487409\n",
       "ukb59384_imp_chr21_v3_s487296.sample    487409\n",
       "ukb59384_imp_chr22_v3_s487296.sample    487409\n",
       "ukb59384_imp_chr2_v3_s487296.sample     487409\n",
       "ukb59384_imp_chr3_v3_s487296.sample     487409\n",
       "ukb59384_imp_chr4_v3_s487296.sample     487409\n",
       "ukb59384_imp_chr5_v3_s487296.sample     487409\n",
       "ukb59384_imp_chr6_v3_s487296.sample     487409\n",
       "ukb59384_imp_chr7_v3_s487296.sample     487409\n",
       "ukb59384_imp_chr8_v3_s487296.sample     487409\n",
       "ukb59384_imp_chr9_v3_s487296.sample     487409\n",
       "ukb59384_imp_chrXY_v3_s486331.sample    486443\n",
       "ukb59384_imp_chrX_v3_s486645.sample     486757\n",
       "dtype: int64"
      ]
     },
     "execution_count": 13,
     "metadata": {},
     "output_type": "execute_result"
    }
   ],
   "source": [
    "df.groupby('file').size()"
   ]
  },
  {
   "cell_type": "code",
   "execution_count": 14,
   "metadata": {},
   "outputs": [
    {
     "data": {
      "text/plain": [
       "True    11696198\n",
       "dtype: int64"
      ]
     },
     "execution_count": 14,
     "metadata": {},
     "output_type": "execute_result"
    }
   ],
   "source": [
    "(df['id1'] == df['id2']).value_counts()"
   ]
  },
  {
   "cell_type": "code",
   "execution_count": 16,
   "metadata": {},
   "outputs": [
    {
     "data": {
      "text/plain": [
       "0    11696198\n",
       "Name: missing, dtype: int64"
      ]
     },
     "execution_count": 16,
     "metadata": {},
     "output_type": "execute_result"
    }
   ],
   "source": [
    "df['missing'].value_counts()"
   ]
  },
  {
   "cell_type": "code",
   "execution_count": 17,
   "metadata": {},
   "outputs": [
    {
     "data": {
      "text/plain": [
       "2    6342279\n",
       "1    5351185\n",
       "0       2734\n",
       "Name: sex, dtype: int64"
      ]
     },
     "execution_count": 17,
     "metadata": {},
     "output_type": "execute_result"
    }
   ],
   "source": [
    "df['sex'].value_counts()"
   ]
  },
  {
   "cell_type": "code",
   "execution_count": 30,
   "metadata": {},
   "outputs": [
    {
     "data": {
      "text/plain": [
       "6025055"
      ]
     },
     "execution_count": 30,
     "metadata": {},
     "output_type": "execute_result"
    }
   ],
   "source": [
    "df['id1'].max()"
   ]
  },
  {
   "cell_type": "markdown",
   "metadata": {},
   "source": [
    "#### Variant EDA\n",
    "\n",
    "Run w/ 32 cpus + 128 G RAM."
   ]
  },
  {
   "cell_type": "code",
   "execution_count": null,
   "metadata": {},
   "outputs": [],
   "source": [
    "import os\n",
    "import os.path as osp\n",
    "os.environ['JAVA_HOME'] = osp.join(os.environ['CONDA_PREFIX'].replace('ukb-analysis', 'pyspark'), 'jre')\n",
    "os.environ['SPARK_DRIVER_MEMORY'] = '100G'\n",
    "from pyspark.sql.session import SparkSession\n",
    "from pyspark.sql.types import StringType, StructType, IntegerType, FloatType, StructField\n",
    "import pyspark.sql.functions as F\n",
    "spark = SparkSession.builder.config('spark.driver.maxResultSize', '10G').getOrCreate()"
   ]
  },
  {
   "cell_type": "code",
   "execution_count": 2,
   "metadata": {},
   "outputs": [
    {
     "name": "stdout",
     "output_type": "stream",
     "text": [
      "Copying gs://rs-ukb/raw-data/gt-imputation/ukb_mfi_chr10_v3.txt...\n",
      "==> NOTE: You are downloading one or more large file(s), which would            \n",
      "run significantly faster if you enabled sliced object downloads. This\n",
      "feature is enabled by default but requires that compiled crcmod be\n",
      "installed (see \"gsutil help crcmod\").\n",
      "\n",
      "Copying gs://rs-ukb/raw-data/gt-imputation/ukb_mfi_chr11_v3.txt...\n",
      "Copying gs://rs-ukb/raw-data/gt-imputation/ukb_mfi_chr12_v3.txt...              \n",
      "Copying gs://rs-ukb/raw-data/gt-imputation/ukb_mfi_chr13_v3.txt...              \n",
      "Copying gs://rs-ukb/raw-data/gt-imputation/ukb_mfi_chr14_v3.txt...              \n",
      "Copying gs://rs-ukb/raw-data/gt-imputation/ukb_mfi_chr15_v3.txt...              \n",
      "Copying gs://rs-ukb/raw-data/gt-imputation/ukb_mfi_chr16_v3.txt...              \n",
      "Copying gs://rs-ukb/raw-data/gt-imputation/ukb_mfi_chr17_v3.txt...              \n",
      "Copying gs://rs-ukb/raw-data/gt-imputation/ukb_mfi_chr18_v3.txt...              \n",
      "Copying gs://rs-ukb/raw-data/gt-imputation/ukb_mfi_chr19_v3.txt...              \n",
      "Copying gs://rs-ukb/raw-data/gt-imputation/ukb_mfi_chr1_v3.txt...               \n",
      "Copying gs://rs-ukb/raw-data/gt-imputation/ukb_mfi_chr20_v3.txt...              \n",
      "Copying gs://rs-ukb/raw-data/gt-imputation/ukb_mfi_chr21_v3.txt...              \n",
      "Copying gs://rs-ukb/raw-data/gt-imputation/ukb_mfi_chr3_v3.txt...               \n",
      "Copying gs://rs-ukb/raw-data/gt-imputation/ukb_mfi_chr22_v3.txt...              \n",
      "Copying gs://rs-ukb/raw-data/gt-imputation/ukb_mfi_chr4_v3.txt...               \n",
      "Copying gs://rs-ukb/raw-data/gt-imputation/ukb_mfi_chr5_v3.txt...\n",
      "Copying gs://rs-ukb/raw-data/gt-imputation/ukb_mfi_chr2_v3.txt...               \n",
      "Copying gs://rs-ukb/raw-data/gt-imputation/ukb_mfi_chr6_v3.txt...               \n",
      "Copying gs://rs-ukb/raw-data/gt-imputation/ukb_mfi_chr7_v3.txt...               \n",
      "Copying gs://rs-ukb/raw-data/gt-imputation/ukb_mfi_chr8_v3.txt...               \n",
      "Copying gs://rs-ukb/raw-data/gt-imputation/ukb_mfi_chrXY_v3.txt...              \n",
      "Copying gs://rs-ukb/raw-data/gt-imputation/ukb_mfi_chr9_v3.txt...               \n",
      "Copying gs://rs-ukb/raw-data/gt-imputation/ukb_mfi_chrX_v3.txt...               \n",
      "\\ [24/24 files][  5.8 GiB/  5.8 GiB] 100% Done     0.0 B/s                      \n",
      "Operation completed over 24 objects/5.8 GiB.                                     \n"
     ]
    }
   ],
   "source": [
    "!gsutil -m cp gs://rs-ukb/raw-data/gt-imputation/ukb_mfi_chr*_v3.txt $HOME/data/rs-ukb-local/bgen/meta/"
   ]
  },
  {
   "cell_type": "code",
   "execution_count": 11,
   "metadata": {},
   "outputs": [
    {
     "data": {
      "text/plain": [
       "DataFrame[id: string, rsid: string, position: int, allele1_ref: string, allele2_alt: string, maf: float, minor_allele: string, info: float]"
      ]
     },
     "execution_count": 11,
     "metadata": {},
     "output_type": "execute_result"
    }
   ],
   "source": [
    "schema = StructType([\n",
    "    StructField(\"id\", StringType()),\n",
    "    StructField(\"rsid\", StringType()),\n",
    "    StructField(\"position\", IntegerType()),\n",
    "    StructField(\"allele1_ref\", StringType()),\n",
    "    StructField(\"allele2_alt\", StringType()),\n",
    "    StructField(\"maf\", FloatType()),\n",
    "    StructField(\"minor_allele\", StringType()),\n",
    "    StructField(\"info\", FloatType())\n",
    "])\n",
    "df = spark.read.csv('/home/eczech/data/rs-ukb-local/bgen/meta/*.txt', sep='\\t', schema=schema)\n",
    "df"
   ]
  },
  {
   "cell_type": "code",
   "execution_count": 15,
   "metadata": {},
   "outputs": [
    {
     "data": {
      "text/plain": [
       "97059328"
      ]
     },
     "execution_count": 15,
     "metadata": {},
     "output_type": "execute_result"
    }
   ],
   "source": [
    "df.count()"
   ]
  },
  {
   "cell_type": "code",
   "execution_count": 5,
   "metadata": {},
   "outputs": [
    {
     "data": {
      "text/html": [
       "<div>\n",
       "<style scoped>\n",
       "    .dataframe tbody tr th:only-of-type {\n",
       "        vertical-align: middle;\n",
       "    }\n",
       "\n",
       "    .dataframe tbody tr th {\n",
       "        vertical-align: top;\n",
       "    }\n",
       "\n",
       "    .dataframe thead th {\n",
       "        text-align: right;\n",
       "    }\n",
       "</style>\n",
       "<table border=\"1\" class=\"dataframe\">\n",
       "  <thead>\n",
       "    <tr style=\"text-align: right;\">\n",
       "      <th></th>\n",
       "      <th>avg(CAST((id IS NOT NULL) AS INT))</th>\n",
       "      <th>avg(CAST((rsid IS NOT NULL) AS INT))</th>\n",
       "      <th>avg(CAST((position IS NOT NULL) AS INT))</th>\n",
       "      <th>avg(CAST((allele1_ref IS NOT NULL) AS INT))</th>\n",
       "      <th>avg(CAST((allele2_ref IS NOT NULL) AS INT))</th>\n",
       "      <th>avg(CAST((maf IS NOT NULL) AS INT))</th>\n",
       "      <th>avg(CAST((minor_allele IS NOT NULL) AS INT))</th>\n",
       "      <th>avg(CAST((info IS NOT NULL) AS INT))</th>\n",
       "    </tr>\n",
       "  </thead>\n",
       "  <tbody>\n",
       "    <tr>\n",
       "      <th>0</th>\n",
       "      <td>1.0</td>\n",
       "      <td>1.0</td>\n",
       "      <td>1.0</td>\n",
       "      <td>1.0</td>\n",
       "      <td>1.0</td>\n",
       "      <td>1.0</td>\n",
       "      <td>1.0</td>\n",
       "      <td>0.999701</td>\n",
       "    </tr>\n",
       "  </tbody>\n",
       "</table>\n",
       "</div>"
      ],
      "text/plain": [
       "   avg(CAST((id IS NOT NULL) AS INT))  avg(CAST((rsid IS NOT NULL) AS INT))  \\\n",
       "0                                 1.0                                   1.0   \n",
       "\n",
       "   avg(CAST((position IS NOT NULL) AS INT))  \\\n",
       "0                                       1.0   \n",
       "\n",
       "   avg(CAST((allele1_ref IS NOT NULL) AS INT))  \\\n",
       "0                                          1.0   \n",
       "\n",
       "   avg(CAST((allele2_ref IS NOT NULL) AS INT))  \\\n",
       "0                                          1.0   \n",
       "\n",
       "   avg(CAST((maf IS NOT NULL) AS INT))  \\\n",
       "0                                  1.0   \n",
       "\n",
       "   avg(CAST((minor_allele IS NOT NULL) AS INT))  \\\n",
       "0                                           1.0   \n",
       "\n",
       "   avg(CAST((info IS NOT NULL) AS INT))  \n",
       "0                              0.999701  "
      ]
     },
     "execution_count": 5,
     "metadata": {},
     "output_type": "execute_result"
    }
   ],
   "source": [
    "df.agg(*[F.mean(F.col(c).isNotNull().cast('int')) for c in df.columns]).toPandas()"
   ]
  },
  {
   "cell_type": "code",
   "execution_count": 5,
   "metadata": {},
   "outputs": [
    {
     "data": {
      "text/html": [
       "<div>\n",
       "<style scoped>\n",
       "    .dataframe tbody tr th:only-of-type {\n",
       "        vertical-align: middle;\n",
       "    }\n",
       "\n",
       "    .dataframe tbody tr th {\n",
       "        vertical-align: top;\n",
       "    }\n",
       "\n",
       "    .dataframe thead th {\n",
       "        text-align: right;\n",
       "    }\n",
       "</style>\n",
       "<table border=\"1\" class=\"dataframe\">\n",
       "  <thead>\n",
       "    <tr style=\"text-align: right;\">\n",
       "      <th></th>\n",
       "      <th>length(rsid)</th>\n",
       "      <th>count</th>\n",
       "    </tr>\n",
       "  </thead>\n",
       "  <tbody>\n",
       "    <tr>\n",
       "      <th>0</th>\n",
       "      <td>6</td>\n",
       "      <td>7194</td>\n",
       "    </tr>\n",
       "    <tr>\n",
       "      <th>1</th>\n",
       "      <td>3</td>\n",
       "      <td>4</td>\n",
       "    </tr>\n",
       "    <tr>\n",
       "      <th>2</th>\n",
       "      <td>5</td>\n",
       "      <td>684</td>\n",
       "    </tr>\n",
       "    <tr>\n",
       "      <th>3</th>\n",
       "      <td>9</td>\n",
       "      <td>3975378</td>\n",
       "    </tr>\n",
       "    <tr>\n",
       "      <th>4</th>\n",
       "      <td>4</td>\n",
       "      <td>85</td>\n",
       "    </tr>\n",
       "    <tr>\n",
       "      <th>5</th>\n",
       "      <td>8</td>\n",
       "      <td>593915</td>\n",
       "    </tr>\n",
       "    <tr>\n",
       "      <th>6</th>\n",
       "      <td>7</td>\n",
       "      <td>22347</td>\n",
       "    </tr>\n",
       "    <tr>\n",
       "      <th>7</th>\n",
       "      <td>10</td>\n",
       "      <td>8245149</td>\n",
       "    </tr>\n",
       "    <tr>\n",
       "      <th>8</th>\n",
       "      <td>11</td>\n",
       "      <td>78735359</td>\n",
       "    </tr>\n",
       "  </tbody>\n",
       "</table>\n",
       "</div>"
      ],
      "text/plain": [
       "   length(rsid)     count\n",
       "0             6      7194\n",
       "1             3         4\n",
       "2             5       684\n",
       "3             9   3975378\n",
       "4             4        85\n",
       "5             8    593915\n",
       "6             7     22347\n",
       "7            10   8245149\n",
       "8            11  78735359"
      ]
     },
     "execution_count": 5,
     "metadata": {},
     "output_type": "execute_result"
    }
   ],
   "source": [
    "dfr = df.filter(F.col('rsid').startswith('rs')).groupby(F.length(F.col(\"rsid\"))).count().toPandas()\n",
    "dfr"
   ]
  },
  {
   "cell_type": "code",
   "execution_count": 4,
   "metadata": {},
   "outputs": [
    {
     "name": "stdout",
     "output_type": "stream",
     "text": [
      "+----------------------------------------------------------------------------------------------------------------------------------------------------------------------------------------------------------------------------------------------------------+-----+\n",
      "|                                                                                                                                                                                                                                                      rsid|rslen|\n",
      "+----------------------------------------------------------------------------------------------------------------------------------------------------------------------------------------------------------------------------------------------------------+-----+\n",
      "|                                                                                         3:10282976_A_ACTCACGCCTGTAATCCCAGCACTTTGGGAGCCCCAGGCGGGTGGATCACTTGAGGTCAGGAGTTCGAGACTAGCCTGGCCAATGTCGTGAAACCCTGTCTCTACTAAAAATACAGAAAAAAAAAAAAAAAAAGGCCAGGCCTGGTGG|  161|\n",
      "|                                                                                                                                             3:26469887_CACTAACAATGAAATATAACTTTATCTTTTTAAATTTGGGTGTTTATTTTTGACTCTAACAGCCATCTCTTTGGAGAAGTAATTAGCTTCTTAGTA_C|  109|\n",
      "|                                                                        3:31240161_T_TGACTATACCATGCTGTCCTTCTCCTTCCAAGGGGCCTTCGGATAGGCTGATGCTATGGAGTTGGAATCTTAAGCTGGAGGATGAGCCAATCAAAGTCATAAAGGGAAGCCATATGTCACACACTTGGAAGTCCATGTGTAGACATCTGATCTGTGCCATGTGTA|  178|\n",
      "|                                                                                                                           3:56147220_T_TCAAAGCTCAGGAGTTTGATAGTTCTTGGGCAGTGAGAGTGAGTAGTAGAATGTTTAGTGAGCCTAGGGTGTTGTGAGTGTAAATTAGTGCGATGAGTAGGGGAAGGGAGCCTA|  127|\n",
      "|                                                                                                                                           3:84483419_T_TATTTCTCCTAATGCTACCACTCCCCTAGCCTCCCACCCCCTAACAGGCCCCAGTGTGTGATGTTCTCCTCCTTGTGCCCCCATCATCTACGTTAGGC|  111|\n",
      "|3:88571179_G_GGTCTACATGCCTATTTTTATACCAGAACCATGCTGTGTTGATGACTATGGCCTTATAGTATAGTTTGAAGTCAGATAATGTGATGCCTCCAGATTTGTTCTTCTTGCGTAGTCTTGCTTTGGTTGTTTTTTGGGCTATTTTTTGGTTCCATATGAAATTTAGGACTGTTTTTTTCAAGTTCTTTCAAGAATGATGGTGGTAGTTTGATGTGAATTGCATTGAATTTGTATATT...|  355|\n",
      "|                                                                                                                                                3:88609651_G_GGCTCACTTTTGGAGCCGAGATTGCGCCACTGCAGTCCGCAGTCCGGCCTGGGCGACAGAGCGAGACTCCGTCTCAAAAAAAAAAAAAAAAAA|  106|\n",
      "|                                                                                                                                      3:100790442_C_CACAAATTATTTCTCCCATCCAAGTACTAACCAGGCCCGACCCTGCTTAGCTTCCGAGATCAGACGAGATCGGGCGCGTTCAGGGTGGTATGGCCGTAGACA|  116|\n",
      "|                                                                                                                                         3:128173061_TCTCCAGAGCCAGGGGAAAAAGATAGAGAAAGCCAGTCCCAGAGAGAGGCAGGGACAAACCTGAGGTCTCCAGCAGGGGGGCCAAGCGGGTCCTGCACC_T|  113|\n",
      "|                                                                                                                                                 12:78084543_T_TATATATATGATTATATATATATGTATTCATTATTTATGTATAATCATTTACAATCATCCATGGTTGTAGTTTAGAATAATCCCCACTTTA|  105|\n",
      "+----------------------------------------------------------------------------------------------------------------------------------------------------------------------------------------------------------------------------------------------------------+-----+\n",
      "\n"
     ]
    }
   ],
   "source": [
    "(\n",
    "    df\n",
    "    .withColumn('rslen', F.length(F.col(\"rsid\")))\n",
    "    .filter(F.col('rslen') > 100)\n",
    "    .limit(10)\n",
    "    .select('rsid', 'rslen')\n",
    "    .show(truncate=250)\n",
    ")"
   ]
  },
  {
   "cell_type": "code",
   "execution_count": 9,
   "metadata": {},
   "outputs": [
    {
     "data": {
      "text/html": [
       "<div>\n",
       "<style scoped>\n",
       "    .dataframe tbody tr th:only-of-type {\n",
       "        vertical-align: middle;\n",
       "    }\n",
       "\n",
       "    .dataframe tbody tr th {\n",
       "        vertical-align: top;\n",
       "    }\n",
       "\n",
       "    .dataframe thead th {\n",
       "        text-align: right;\n",
       "    }\n",
       "</style>\n",
       "<table border=\"1\" class=\"dataframe\">\n",
       "  <thead>\n",
       "    <tr style=\"text-align: right;\">\n",
       "      <th></th>\n",
       "      <th>length(allele1_ref)</th>\n",
       "      <th>count</th>\n",
       "    </tr>\n",
       "  </thead>\n",
       "  <tbody>\n",
       "    <tr>\n",
       "      <th>14</th>\n",
       "      <td>103</td>\n",
       "      <td>1</td>\n",
       "    </tr>\n",
       "    <tr>\n",
       "      <th>78</th>\n",
       "      <td>98</td>\n",
       "      <td>1</td>\n",
       "    </tr>\n",
       "    <tr>\n",
       "      <th>5</th>\n",
       "      <td>108</td>\n",
       "      <td>1</td>\n",
       "    </tr>\n",
       "    <tr>\n",
       "      <th>19</th>\n",
       "      <td>111</td>\n",
       "      <td>1</td>\n",
       "    </tr>\n",
       "    <tr>\n",
       "      <th>57</th>\n",
       "      <td>130</td>\n",
       "      <td>1</td>\n",
       "    </tr>\n",
       "    <tr>\n",
       "      <th>...</th>\n",
       "      <td>...</td>\n",
       "      <td>...</td>\n",
       "    </tr>\n",
       "    <tr>\n",
       "      <th>48</th>\n",
       "      <td>4</td>\n",
       "      <td>279653</td>\n",
       "    </tr>\n",
       "    <tr>\n",
       "      <th>35</th>\n",
       "      <td>5</td>\n",
       "      <td>331843</td>\n",
       "    </tr>\n",
       "    <tr>\n",
       "      <th>27</th>\n",
       "      <td>3</td>\n",
       "      <td>445552</td>\n",
       "    </tr>\n",
       "    <tr>\n",
       "      <th>92</th>\n",
       "      <td>2</td>\n",
       "      <td>1175688</td>\n",
       "    </tr>\n",
       "    <tr>\n",
       "      <th>21</th>\n",
       "      <td>1</td>\n",
       "      <td>94434853</td>\n",
       "    </tr>\n",
       "  </tbody>\n",
       "</table>\n",
       "<p>103 rows × 2 columns</p>\n",
       "</div>"
      ],
      "text/plain": [
       "    length(allele1_ref)     count\n",
       "14                  103         1\n",
       "78                   98         1\n",
       "5                   108         1\n",
       "19                  111         1\n",
       "57                  130         1\n",
       "..                  ...       ...\n",
       "48                    4    279653\n",
       "35                    5    331843\n",
       "27                    3    445552\n",
       "92                    2   1175688\n",
       "21                    1  94434853\n",
       "\n",
       "[103 rows x 2 columns]"
      ]
     },
     "execution_count": 9,
     "metadata": {},
     "output_type": "execute_result"
    }
   ],
   "source": [
    "dfr = df.groupby(F.length(F.col(\"allele1_ref\"))).count().toPandas()\n",
    "dfr.sort_values('count')"
   ]
  },
  {
   "cell_type": "code",
   "execution_count": 8,
   "metadata": {},
   "outputs": [
    {
     "data": {
      "text/html": [
       "<div>\n",
       "<style scoped>\n",
       "    .dataframe tbody tr th:only-of-type {\n",
       "        vertical-align: middle;\n",
       "    }\n",
       "\n",
       "    .dataframe tbody tr th {\n",
       "        vertical-align: top;\n",
       "    }\n",
       "\n",
       "    .dataframe thead th {\n",
       "        text-align: right;\n",
       "    }\n",
       "</style>\n",
       "<table border=\"1\" class=\"dataframe\">\n",
       "  <thead>\n",
       "    <tr style=\"text-align: right;\">\n",
       "      <th></th>\n",
       "      <th>length(allele1_ref)</th>\n",
       "      <th>count</th>\n",
       "    </tr>\n",
       "  </thead>\n",
       "  <tbody>\n",
       "    <tr>\n",
       "      <th>21</th>\n",
       "      <td>1</td>\n",
       "      <td>94434853</td>\n",
       "    </tr>\n",
       "    <tr>\n",
       "      <th>92</th>\n",
       "      <td>2</td>\n",
       "      <td>1175688</td>\n",
       "    </tr>\n",
       "    <tr>\n",
       "      <th>27</th>\n",
       "      <td>3</td>\n",
       "      <td>445552</td>\n",
       "    </tr>\n",
       "    <tr>\n",
       "      <th>48</th>\n",
       "      <td>4</td>\n",
       "      <td>279653</td>\n",
       "    </tr>\n",
       "    <tr>\n",
       "      <th>35</th>\n",
       "      <td>5</td>\n",
       "      <td>331843</td>\n",
       "    </tr>\n",
       "    <tr>\n",
       "      <th>...</th>\n",
       "      <td>...</td>\n",
       "      <td>...</td>\n",
       "    </tr>\n",
       "    <tr>\n",
       "      <th>7</th>\n",
       "      <td>101</td>\n",
       "      <td>5</td>\n",
       "    </tr>\n",
       "    <tr>\n",
       "      <th>14</th>\n",
       "      <td>103</td>\n",
       "      <td>1</td>\n",
       "    </tr>\n",
       "    <tr>\n",
       "      <th>5</th>\n",
       "      <td>108</td>\n",
       "      <td>1</td>\n",
       "    </tr>\n",
       "    <tr>\n",
       "      <th>19</th>\n",
       "      <td>111</td>\n",
       "      <td>1</td>\n",
       "    </tr>\n",
       "    <tr>\n",
       "      <th>57</th>\n",
       "      <td>130</td>\n",
       "      <td>1</td>\n",
       "    </tr>\n",
       "  </tbody>\n",
       "</table>\n",
       "<p>103 rows × 2 columns</p>\n",
       "</div>"
      ],
      "text/plain": [
       "    length(allele1_ref)     count\n",
       "21                    1  94434853\n",
       "92                    2   1175688\n",
       "27                    3    445552\n",
       "48                    4    279653\n",
       "35                    5    331843\n",
       "..                  ...       ...\n",
       "7                   101         5\n",
       "14                  103         1\n",
       "5                   108         1\n",
       "19                  111         1\n",
       "57                  130         1\n",
       "\n",
       "[103 rows x 2 columns]"
      ]
     },
     "execution_count": 8,
     "metadata": {},
     "output_type": "execute_result"
    }
   ],
   "source": [
    "dfr.sort_values('length(allele1_ref)')"
   ]
  },
  {
   "cell_type": "code",
   "execution_count": 13,
   "metadata": {},
   "outputs": [
    {
     "data": {
      "text/html": [
       "<div>\n",
       "<style scoped>\n",
       "    .dataframe tbody tr th:only-of-type {\n",
       "        vertical-align: middle;\n",
       "    }\n",
       "\n",
       "    .dataframe tbody tr th {\n",
       "        vertical-align: top;\n",
       "    }\n",
       "\n",
       "    .dataframe thead th {\n",
       "        text-align: right;\n",
       "    }\n",
       "</style>\n",
       "<table border=\"1\" class=\"dataframe\">\n",
       "  <thead>\n",
       "    <tr style=\"text-align: right;\">\n",
       "      <th></th>\n",
       "      <th>length(allele2_alt)</th>\n",
       "      <th>count</th>\n",
       "    </tr>\n",
       "  </thead>\n",
       "  <tbody>\n",
       "    <tr>\n",
       "      <th>0</th>\n",
       "      <td>148</td>\n",
       "      <td>1</td>\n",
       "    </tr>\n",
       "    <tr>\n",
       "      <th>33</th>\n",
       "      <td>146</td>\n",
       "      <td>1</td>\n",
       "    </tr>\n",
       "    <tr>\n",
       "      <th>130</th>\n",
       "      <td>414</td>\n",
       "      <td>1</td>\n",
       "    </tr>\n",
       "    <tr>\n",
       "      <th>128</th>\n",
       "      <td>662</td>\n",
       "      <td>1</td>\n",
       "    </tr>\n",
       "    <tr>\n",
       "      <th>37</th>\n",
       "      <td>218</td>\n",
       "      <td>1</td>\n",
       "    </tr>\n",
       "    <tr>\n",
       "      <th>...</th>\n",
       "      <td>...</td>\n",
       "      <td>...</td>\n",
       "    </tr>\n",
       "    <tr>\n",
       "      <th>80</th>\n",
       "      <td>4</td>\n",
       "      <td>78205</td>\n",
       "    </tr>\n",
       "    <tr>\n",
       "      <th>57</th>\n",
       "      <td>5</td>\n",
       "      <td>107754</td>\n",
       "    </tr>\n",
       "    <tr>\n",
       "      <th>43</th>\n",
       "      <td>3</td>\n",
       "      <td>179151</td>\n",
       "    </tr>\n",
       "    <tr>\n",
       "      <th>149</th>\n",
       "      <td>2</td>\n",
       "      <td>812419</td>\n",
       "    </tr>\n",
       "    <tr>\n",
       "      <th>34</th>\n",
       "      <td>1</td>\n",
       "      <td>95737105</td>\n",
       "    </tr>\n",
       "  </tbody>\n",
       "</table>\n",
       "<p>167 rows × 2 columns</p>\n",
       "</div>"
      ],
      "text/plain": [
       "     length(allele2_alt)     count\n",
       "0                    148         1\n",
       "33                   146         1\n",
       "130                  414         1\n",
       "128                  662         1\n",
       "37                   218         1\n",
       "..                   ...       ...\n",
       "80                     4     78205\n",
       "57                     5    107754\n",
       "43                     3    179151\n",
       "149                    2    812419\n",
       "34                     1  95737105\n",
       "\n",
       "[167 rows x 2 columns]"
      ]
     },
     "execution_count": 13,
     "metadata": {},
     "output_type": "execute_result"
    }
   ],
   "source": [
    "dfr = df.groupby(F.length(F.col(\"allele2_alt\"))).count().toPandas()\n",
    "dfr.sort_values('count')"
   ]
  },
  {
   "cell_type": "code",
   "execution_count": 14,
   "metadata": {},
   "outputs": [
    {
     "data": {
      "text/html": [
       "<div>\n",
       "<style scoped>\n",
       "    .dataframe tbody tr th:only-of-type {\n",
       "        vertical-align: middle;\n",
       "    }\n",
       "\n",
       "    .dataframe tbody tr th {\n",
       "        vertical-align: top;\n",
       "    }\n",
       "\n",
       "    .dataframe thead th {\n",
       "        text-align: right;\n",
       "    }\n",
       "</style>\n",
       "<table border=\"1\" class=\"dataframe\">\n",
       "  <thead>\n",
       "    <tr style=\"text-align: right;\">\n",
       "      <th></th>\n",
       "      <th>length(allele2_alt)</th>\n",
       "      <th>count</th>\n",
       "    </tr>\n",
       "  </thead>\n",
       "  <tbody>\n",
       "    <tr>\n",
       "      <th>34</th>\n",
       "      <td>1</td>\n",
       "      <td>95737105</td>\n",
       "    </tr>\n",
       "    <tr>\n",
       "      <th>149</th>\n",
       "      <td>2</td>\n",
       "      <td>812419</td>\n",
       "    </tr>\n",
       "    <tr>\n",
       "      <th>43</th>\n",
       "      <td>3</td>\n",
       "      <td>179151</td>\n",
       "    </tr>\n",
       "    <tr>\n",
       "      <th>80</th>\n",
       "      <td>4</td>\n",
       "      <td>78205</td>\n",
       "    </tr>\n",
       "    <tr>\n",
       "      <th>57</th>\n",
       "      <td>5</td>\n",
       "      <td>107754</td>\n",
       "    </tr>\n",
       "    <tr>\n",
       "      <th>...</th>\n",
       "      <td>...</td>\n",
       "      <td>...</td>\n",
       "    </tr>\n",
       "    <tr>\n",
       "      <th>130</th>\n",
       "      <td>414</td>\n",
       "      <td>1</td>\n",
       "    </tr>\n",
       "    <tr>\n",
       "      <th>24</th>\n",
       "      <td>417</td>\n",
       "      <td>1</td>\n",
       "    </tr>\n",
       "    <tr>\n",
       "      <th>18</th>\n",
       "      <td>577</td>\n",
       "      <td>1</td>\n",
       "    </tr>\n",
       "    <tr>\n",
       "      <th>53</th>\n",
       "      <td>647</td>\n",
       "      <td>1</td>\n",
       "    </tr>\n",
       "    <tr>\n",
       "      <th>128</th>\n",
       "      <td>662</td>\n",
       "      <td>1</td>\n",
       "    </tr>\n",
       "  </tbody>\n",
       "</table>\n",
       "<p>167 rows × 2 columns</p>\n",
       "</div>"
      ],
      "text/plain": [
       "     length(allele2_alt)     count\n",
       "34                     1  95737105\n",
       "149                    2    812419\n",
       "43                     3    179151\n",
       "80                     4     78205\n",
       "57                     5    107754\n",
       "..                   ...       ...\n",
       "130                  414         1\n",
       "24                   417         1\n",
       "18                   577         1\n",
       "53                   647         1\n",
       "128                  662         1\n",
       "\n",
       "[167 rows x 2 columns]"
      ]
     },
     "execution_count": 14,
     "metadata": {},
     "output_type": "execute_result"
    }
   ],
   "source": [
    "dfr.sort_values('length(allele2_alt)')"
   ]
  },
  {
   "cell_type": "code",
   "execution_count": null,
   "metadata": {},
   "outputs": [],
   "source": [
    "(\n",
    "    df\n",
    "    .withColumn('eq_ref', F.col('minor_allele') == F.col('allele1_ref'))\n",
    "    .withColumn('eq_alt', F.col('minor_allele') == F.col('allele2_alt'))\n",
    "    .groupby(['eq_ref', 'eq_alt']).count().show()\n",
    ")"
   ]
  },
  {
   "cell_type": "code",
   "execution_count": 28,
   "metadata": {},
   "outputs": [
    {
     "data": {
      "text/html": [
       "<div>\n",
       "<style scoped>\n",
       "    .dataframe tbody tr th:only-of-type {\n",
       "        vertical-align: middle;\n",
       "    }\n",
       "\n",
       "    .dataframe tbody tr th {\n",
       "        vertical-align: top;\n",
       "    }\n",
       "\n",
       "    .dataframe thead th {\n",
       "        text-align: right;\n",
       "    }\n",
       "</style>\n",
       "<table border=\"1\" class=\"dataframe\">\n",
       "  <thead>\n",
       "    <tr style=\"text-align: right;\">\n",
       "      <th></th>\n",
       "      <th>maf_bin</th>\n",
       "      <th>count</th>\n",
       "    </tr>\n",
       "  </thead>\n",
       "  <tbody>\n",
       "    <tr>\n",
       "      <th>0</th>\n",
       "      <td>0.07</td>\n",
       "      <td>299571</td>\n",
       "    </tr>\n",
       "    <tr>\n",
       "      <th>1</th>\n",
       "      <td>0.47</td>\n",
       "      <td>120402</td>\n",
       "    </tr>\n",
       "    <tr>\n",
       "      <th>2</th>\n",
       "      <td>0.00</td>\n",
       "      <td>85139691</td>\n",
       "    </tr>\n",
       "    <tr>\n",
       "      <th>3</th>\n",
       "      <td>0.16</td>\n",
       "      <td>178341</td>\n",
       "    </tr>\n",
       "    <tr>\n",
       "      <th>4</th>\n",
       "      <td>0.18</td>\n",
       "      <td>169911</td>\n",
       "    </tr>\n",
       "  </tbody>\n",
       "</table>\n",
       "</div>"
      ],
      "text/plain": [
       "   maf_bin     count\n",
       "0     0.07    299571\n",
       "1     0.47    120402\n",
       "2     0.00  85139691\n",
       "3     0.16    178341\n",
       "4     0.18    169911"
      ]
     },
     "execution_count": 28,
     "metadata": {},
     "output_type": "execute_result"
    }
   ],
   "source": [
    "dfr = df.withColumn('maf_bin', .01 * F.round(F.col('maf') / .01)).groupby('maf_bin').count().toPandas()\n",
    "dfr.head()"
   ]
  },
  {
   "cell_type": "code",
   "execution_count": 27,
   "metadata": {},
   "outputs": [
    {
     "data": {
      "image/png": "[encoded data removed]",
      "text/plain": [
       "<Figure size 1152x288 with 1 Axes>"
      ]
     },
     "metadata": {
      "needs_background": "light"
     },
     "output_type": "display_data"
    }
   ],
   "source": [
    "ax = dfr.set_index('maf_bin')['count'].sort_index().plot(figsize=(16, 4))\n",
    "ax.set_yscale('log')"
   ]
  }
 ],
 "metadata": {
  "kernelspec": {
   "display_name": "pyspark",
   "language": "python",
   "name": "pyspark"
  },
  "language_info": {
   "codemirror_mode": {
    "name": "ipython",
    "version": 3
   },
   "file_extension": ".py",
   "mimetype": "text/x-python",
   "name": "python",
   "nbconvert_exporter": "python",
   "pygments_lexer": "ipython3",
   "version": "3.8.5"
  }
 },
 "nbformat": 4,
 "nbformat_minor": 4
}
