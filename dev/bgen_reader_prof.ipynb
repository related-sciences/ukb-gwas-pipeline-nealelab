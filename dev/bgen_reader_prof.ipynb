{
 "cells": [
  {
   "cell_type": "code",
   "execution_count": 1,
   "metadata": {},
   "outputs": [
    {
     "data": {
      "text/html": [
       "\n",
       "    <div class=\"bk-root\">\n",
       "        <a href=\"https://bokeh.org\" target=\"_blank\" class=\"bk-logo bk-logo-small bk-logo-notebook\"></a>\n",
       "        <span id=\"1001\">Loading BokehJS ...</span>\n",
       "    </div>"
      ]
     },
     "metadata": {},
     "output_type": "display_data"
    },
    {
     "data": {
      "application/javascript": [
       "\n",
       "(function(root) {\n",
       "  function now() {\n",
       "    return new Date();\n",
       "  }\n",
       "\n",
       "  var force = true;\n",
       "\n",
       "  if (typeof root._bokeh_onload_callbacks === \"undefined\" || force === true) {\n",
       "    root._bokeh_onload_callbacks = [];\n",
       "    root._bokeh_is_loading = undefined;\n",
       "  }\n",
       "\n",
       "  var JS_MIME_TYPE = 'application/javascript';\n",
       "  var HTML_MIME_TYPE = 'text/html';\n",
       "  var EXEC_MIME_TYPE = 'application/vnd.bokehjs_exec.v0+json';\n",
       "  var CLASS_NAME = 'output_bokeh rendered_html';\n",
       "\n",
       "  /**\n",
       "   * Render data to the DOM node\n",
       "   */\n",
       "  function render(props, node) {\n",
       "    var script = document.createElement(\"script\");\n",
       "    node.appendChild(script);\n",
       "  }\n",
       "\n",
       "  /**\n",
       "   * Handle when an output is cleared or removed\n",
       "   */\n",
       "  function handleClearOutput(event, handle) {\n",
       "    var cell = handle.cell;\n",
       "\n",
       "    var id = cell.output_area._bokeh_element_id;\n",
       "    var server_id = cell.output_area._bokeh_server_id;\n",
       "    // Clean up Bokeh references\n",
       "    if (id != null && id in Bokeh.index) {\n",
       "      Bokeh.index[id].model.document.clear();\n",
       "      delete Bokeh.index[id];\n",
       "    }\n",
       "\n",
       "    if (server_id !== undefined) {\n",
       "      // Clean up Bokeh references\n",
       "      var cmd = \"from bokeh.io.state import curstate; print(curstate().uuid_to_server['\" + server_id + \"'].get_sessions()[0].document.roots[0]._id)\";\n",
       "      cell.notebook.kernel.execute(cmd, {\n",
       "        iopub: {\n",
       "          output: function(msg) {\n",
       "            var id = msg.content.text.trim();\n",
       "            if (id in Bokeh.index) {\n",
       "              Bokeh.index[id].model.document.clear();\n",
       "              delete Bokeh.index[id];\n",
       "            }\n",
       "          }\n",
       "        }\n",
       "      });\n",
       "      // Destroy server and session\n",
       "      var cmd = \"import bokeh.io.notebook as ion; ion.destroy_server('\" + server_id + \"')\";\n",
       "      cell.notebook.kernel.execute(cmd);\n",
       "    }\n",
       "  }\n",
       "\n",
       "  /**\n",
       "   * Handle when a new output is added\n",
       "   */\n",
       "  function handleAddOutput(event, handle) {\n",
       "    var output_area = handle.output_area;\n",
       "    var output = handle.output;\n",
       "\n",
       "    // limit handleAddOutput to display_data with EXEC_MIME_TYPE content only\n",
       "    if ((output.output_type != \"display_data\") || (!output.data.hasOwnProperty(EXEC_MIME_TYPE))) {\n",
       "      return\n",
       "    }\n",
       "\n",
       "    var toinsert = output_area.element.find(\".\" + CLASS_NAME.split(' ')[0]);\n",
       "\n",
       "    if (output.metadata[EXEC_MIME_TYPE][\"id\"] !== undefined) {\n",
       "      toinsert[toinsert.length - 1].firstChild.textContent = output.data[JS_MIME_TYPE];\n",
       "      // store reference to embed id on output_area\n",
       "      output_area._bokeh_element_id = output.metadata[EXEC_MIME_TYPE][\"id\"];\n",
       "    }\n",
       "    if (output.metadata[EXEC_MIME_TYPE][\"server_id\"] !== undefined) {\n",
       "      var bk_div = document.createElement(\"div\");\n",
       "      bk_div.innerHTML = output.data[HTML_MIME_TYPE];\n",
       "      var script_attrs = bk_div.children[0].attributes;\n",
       "      for (var i = 0; i < script_attrs.length; i++) {\n",
       "        toinsert[toinsert.length - 1].firstChild.setAttribute(script_attrs[i].name, script_attrs[i].value);\n",
       "        toinsert[toinsert.length - 1].firstChild.textContent = bk_div.children[0].textContent\n",
       "      }\n",
       "      // store reference to server id on output_area\n",
       "      output_area._bokeh_server_id = output.metadata[EXEC_MIME_TYPE][\"server_id\"];\n",
       "    }\n",
       "  }\n",
       "\n",
       "  function register_renderer(events, OutputArea) {\n",
       "\n",
       "    function append_mime(data, metadata, element) {\n",
       "      // create a DOM node to render to\n",
       "      var toinsert = this.create_output_subarea(\n",
       "        metadata,\n",
       "        CLASS_NAME,\n",
       "        EXEC_MIME_TYPE\n",
       "      );\n",
       "      this.keyboard_manager.register_events(toinsert);\n",
       "      // Render to node\n",
       "      var props = {data: data, metadata: metadata[EXEC_MIME_TYPE]};\n",
       "      render(props, toinsert[toinsert.length - 1]);\n",
       "      element.append(toinsert);\n",
       "      return toinsert\n",
       "    }\n",
       "\n",
       "    /* Handle when an output is cleared or removed */\n",
       "    events.on('clear_output.CodeCell', handleClearOutput);\n",
       "    events.on('delete.Cell', handleClearOutput);\n",
       "\n",
       "    /* Handle when a new output is added */\n",
       "    events.on('output_added.OutputArea', handleAddOutput);\n",
       "\n",
       "    /**\n",
       "     * Register the mime type and append_mime function with output_area\n",
       "     */\n",
       "    OutputArea.prototype.register_mime_type(EXEC_MIME_TYPE, append_mime, {\n",
       "      /* Is output safe? */\n",
       "      safe: true,\n",
       "      /* Index of renderer in `output_area.display_order` */\n",
       "      index: 0\n",
       "    });\n",
       "  }\n",
       "\n",
       "  // register the mime type if in Jupyter Notebook environment and previously unregistered\n",
       "  if (root.Jupyter !== undefined) {\n",
       "    var events = require('base/js/events');\n",
       "    var OutputArea = require('notebook/js/outputarea').OutputArea;\n",
       "\n",
       "    if (OutputArea.prototype.mime_types().indexOf(EXEC_MIME_TYPE) == -1) {\n",
       "      register_renderer(events, OutputArea);\n",
       "    }\n",
       "  }\n",
       "\n",
       "  \n",
       "  if (typeof (root._bokeh_timeout) === \"undefined\" || force === true) {\n",
       "    root._bokeh_timeout = Date.now() + 5000;\n",
       "    root._bokeh_failed_load = false;\n",
       "  }\n",
       "\n",
       "  var NB_LOAD_WARNING = {'data': {'text/html':\n",
       "     \"<div style='background-color: #fdd'>\\n\"+\n",
       "     \"<p>\\n\"+\n",
       "     \"BokehJS does not appear to have successfully loaded. If loading BokehJS from CDN, this \\n\"+\n",
       "     \"may be due to a slow or bad network connection. Possible fixes:\\n\"+\n",
       "     \"</p>\\n\"+\n",
       "     \"<ul>\\n\"+\n",
       "     \"<li>re-rerun `output_notebook()` to attempt to load from CDN again, or</li>\\n\"+\n",
       "     \"<li>use INLINE resources instead, as so:</li>\\n\"+\n",
       "     \"</ul>\\n\"+\n",
       "     \"<code>\\n\"+\n",
       "     \"from bokeh.resources import INLINE\\n\"+\n",
       "     \"output_notebook(resources=INLINE)\\n\"+\n",
       "     \"</code>\\n\"+\n",
       "     \"</div>\"}};\n",
       "\n",
       "  function display_loaded() {\n",
       "    var el = document.getElementById(\"1001\");\n",
       "    if (el != null) {\n",
       "      el.textContent = \"BokehJS is loading...\";\n",
       "    }\n",
       "    if (root.Bokeh !== undefined) {\n",
       "      if (el != null) {\n",
       "        el.textContent = \"BokehJS \" + root.Bokeh.version + \" successfully loaded.\";\n",
       "      }\n",
       "    } else if (Date.now() < root._bokeh_timeout) {\n",
       "      setTimeout(display_loaded, 100)\n",
       "    }\n",
       "  }\n",
       "\n",
       "\n",
       "  function run_callbacks() {\n",
       "    try {\n",
       "      root._bokeh_onload_callbacks.forEach(function(callback) {\n",
       "        if (callback != null)\n",
       "          callback();\n",
       "      });\n",
       "    } finally {\n",
       "      delete root._bokeh_onload_callbacks\n",
       "    }\n",
       "    console.debug(\"Bokeh: all callbacks have finished\");\n",
       "  }\n",
       "\n",
       "  function load_libs(css_urls, js_urls, callback) {\n",
       "    if (css_urls == null) css_urls = [];\n",
       "    if (js_urls == null) js_urls = [];\n",
       "\n",
       "    root._bokeh_onload_callbacks.push(callback);\n",
       "    if (root._bokeh_is_loading > 0) {\n",
       "      console.debug(\"Bokeh: BokehJS is being loaded, scheduling callback at\", now());\n",
       "      return null;\n",
       "    }\n",
       "    if (js_urls == null || js_urls.length === 0) {\n",
       "      run_callbacks();\n",
       "      return null;\n",
       "    }\n",
       "    console.debug(\"Bokeh: BokehJS not loaded, scheduling load and callback at\", now());\n",
       "    root._bokeh_is_loading = css_urls.length + js_urls.length;\n",
       "\n",
       "    function on_load() {\n",
       "      root._bokeh_is_loading--;\n",
       "      if (root._bokeh_is_loading === 0) {\n",
       "        console.debug(\"Bokeh: all BokehJS libraries/stylesheets loaded\");\n",
       "        run_callbacks()\n",
       "      }\n",
       "    }\n",
       "\n",
       "    function on_error() {\n",
       "      console.error(\"failed to load \" + url);\n",
       "    }\n",
       "\n",
       "    for (var i = 0; i < css_urls.length; i++) {\n",
       "      var url = css_urls[i];\n",
       "      const element = document.createElement(\"link\");\n",
       "      element.onload = on_load;\n",
       "      element.onerror = on_error;\n",
       "      element.rel = \"stylesheet\";\n",
       "      element.type = \"text/css\";\n",
       "      element.href = url;\n",
       "      console.debug(\"Bokeh: injecting link tag for BokehJS stylesheet: \", url);\n",
       "      document.body.appendChild(element);\n",
       "    }\n",
       "\n",
       "    const hashes = {\"https://cdn.bokeh.org/bokeh/release/bokeh-2.1.1.min.js\": \"kLr4fYcqcSpbuI95brIH3vnnYCquzzSxHPU6XGQCIkQRGJwhg0StNbj1eegrHs12\", \"https://cdn.bokeh.org/bokeh/release/bokeh-widgets-2.1.1.min.js\": \"xIGPmVtaOm+z0BqfSOMn4lOR6ciex448GIKG4eE61LsAvmGj48XcMQZtKcE/UXZe\", \"https://cdn.bokeh.org/bokeh/release/bokeh-tables-2.1.1.min.js\": \"Dc9u1wF/0zApGIWoBbH77iWEHtdmkuYWG839Uzmv8y8yBLXebjO9ZnERsde5Ln/P\", \"https://cdn.bokeh.org/bokeh/release/bokeh-gl-2.1.1.min.js\": \"cT9JaBz7GiRXdENrJLZNSC6eMNF3nh3fa5fTF51Svp+ukxPdwcU5kGXGPBgDCa2j\"};\n",
       "\n",
       "    for (var i = 0; i < js_urls.length; i++) {\n",
       "      var url = js_urls[i];\n",
       "      var element = document.createElement('script');\n",
       "      element.onload = on_load;\n",
       "      element.onerror = on_error;\n",
       "      element.async = false;\n",
       "      element.src = url;\n",
       "      if (url in hashes) {\n",
       "        element.crossOrigin = \"anonymous\";\n",
       "        element.integrity = \"sha384-\" + hashes[url];\n",
       "      }\n",
       "      console.debug(\"Bokeh: injecting script tag for BokehJS library: \", url);\n",
       "      document.head.appendChild(element);\n",
       "    }\n",
       "  };\n",
       "\n",
       "  function inject_raw_css(css) {\n",
       "    const element = document.createElement(\"style\");\n",
       "    element.appendChild(document.createTextNode(css));\n",
       "    document.body.appendChild(element);\n",
       "  }\n",
       "\n",
       "  \n",
       "  var js_urls = [\"https://cdn.bokeh.org/bokeh/release/bokeh-2.1.1.min.js\", \"https://cdn.bokeh.org/bokeh/release/bokeh-widgets-2.1.1.min.js\", \"https://cdn.bokeh.org/bokeh/release/bokeh-tables-2.1.1.min.js\", \"https://cdn.bokeh.org/bokeh/release/bokeh-gl-2.1.1.min.js\"];\n",
       "  var css_urls = [];\n",
       "  \n",
       "\n",
       "  var inline_js = [\n",
       "    function(Bokeh) {\n",
       "      Bokeh.set_log_level(\"info\");\n",
       "    },\n",
       "    function(Bokeh) {\n",
       "    \n",
       "    \n",
       "    }\n",
       "  ];\n",
       "\n",
       "  function run_inline_js() {\n",
       "    \n",
       "    if (root.Bokeh !== undefined || force === true) {\n",
       "      \n",
       "    for (var i = 0; i < inline_js.length; i++) {\n",
       "      inline_js[i].call(root, root.Bokeh);\n",
       "    }\n",
       "    if (force === true) {\n",
       "        display_loaded();\n",
       "      }} else if (Date.now() < root._bokeh_timeout) {\n",
       "      setTimeout(run_inline_js, 100);\n",
       "    } else if (!root._bokeh_failed_load) {\n",
       "      console.log(\"Bokeh: BokehJS failed to load within specified timeout.\");\n",
       "      root._bokeh_failed_load = true;\n",
       "    } else if (force !== true) {\n",
       "      var cell = $(document.getElementById(\"1001\")).parents('.cell').data().cell;\n",
       "      cell.output_area.append_execute_result(NB_LOAD_WARNING)\n",
       "    }\n",
       "\n",
       "  }\n",
       "\n",
       "  if (root._bokeh_is_loading === 0) {\n",
       "    console.debug(\"Bokeh: BokehJS loaded, going straight to plotting\");\n",
       "    run_inline_js();\n",
       "  } else {\n",
       "    load_libs(css_urls, js_urls, function() {\n",
       "      console.debug(\"Bokeh: BokehJS plotting callback run at\", now());\n",
       "      run_inline_js();\n",
       "    });\n",
       "  }\n",
       "}(window));"
      ],
      "application/vnd.bokehjs_load.v0+json": "\n(function(root) {\n  function now() {\n    return new Date();\n  }\n\n  var force = true;\n\n  if (typeof root._bokeh_onload_callbacks === \"undefined\" || force === true) {\n    root._bokeh_onload_callbacks = [];\n    root._bokeh_is_loading = undefined;\n  }\n\n  \n\n  \n  if (typeof (root._bokeh_timeout) === \"undefined\" || force === true) {\n    root._bokeh_timeout = Date.now() + 5000;\n    root._bokeh_failed_load = false;\n  }\n\n  var NB_LOAD_WARNING = {'data': {'text/html':\n     \"<div style='background-color: #fdd'>\\n\"+\n     \"<p>\\n\"+\n     \"BokehJS does not appear to have successfully loaded. If loading BokehJS from CDN, this \\n\"+\n     \"may be due to a slow or bad network connection. Possible fixes:\\n\"+\n     \"</p>\\n\"+\n     \"<ul>\\n\"+\n     \"<li>re-rerun `output_notebook()` to attempt to load from CDN again, or</li>\\n\"+\n     \"<li>use INLINE resources instead, as so:</li>\\n\"+\n     \"</ul>\\n\"+\n     \"<code>\\n\"+\n     \"from bokeh.resources import INLINE\\n\"+\n     \"output_notebook(resources=INLINE)\\n\"+\n     \"</code>\\n\"+\n     \"</div>\"}};\n\n  function display_loaded() {\n    var el = document.getElementById(\"1001\");\n    if (el != null) {\n      el.textContent = \"BokehJS is loading...\";\n    }\n    if (root.Bokeh !== undefined) {\n      if (el != null) {\n        el.textContent = \"BokehJS \" + root.Bokeh.version + \" successfully loaded.\";\n      }\n    } else if (Date.now() < root._bokeh_timeout) {\n      setTimeout(display_loaded, 100)\n    }\n  }\n\n\n  function run_callbacks() {\n    try {\n      root._bokeh_onload_callbacks.forEach(function(callback) {\n        if (callback != null)\n          callback();\n      });\n    } finally {\n      delete root._bokeh_onload_callbacks\n    }\n    console.debug(\"Bokeh: all callbacks have finished\");\n  }\n\n  function load_libs(css_urls, js_urls, callback) {\n    if (css_urls == null) css_urls = [];\n    if (js_urls == null) js_urls = [];\n\n    root._bokeh_onload_callbacks.push(callback);\n    if (root._bokeh_is_loading > 0) {\n      console.debug(\"Bokeh: BokehJS is being loaded, scheduling callback at\", now());\n      return null;\n    }\n    if (js_urls == null || js_urls.length === 0) {\n      run_callbacks();\n      return null;\n    }\n    console.debug(\"Bokeh: BokehJS not loaded, scheduling load and callback at\", now());\n    root._bokeh_is_loading = css_urls.length + js_urls.length;\n\n    function on_load() {\n      root._bokeh_is_loading--;\n      if (root._bokeh_is_loading === 0) {\n        console.debug(\"Bokeh: all BokehJS libraries/stylesheets loaded\");\n        run_callbacks()\n      }\n    }\n\n    function on_error() {\n      console.error(\"failed to load \" + url);\n    }\n\n    for (var i = 0; i < css_urls.length; i++) {\n      var url = css_urls[i];\n      const element = document.createElement(\"link\");\n      element.onload = on_load;\n      element.onerror = on_error;\n      element.rel = \"stylesheet\";\n      element.type = \"text/css\";\n      element.href = url;\n      console.debug(\"Bokeh: injecting link tag for BokehJS stylesheet: \", url);\n      document.body.appendChild(element);\n    }\n\n    const hashes = {\"https://cdn.bokeh.org/bokeh/release/bokeh-2.1.1.min.js\": \"kLr4fYcqcSpbuI95brIH3vnnYCquzzSxHPU6XGQCIkQRGJwhg0StNbj1eegrHs12\", \"https://cdn.bokeh.org/bokeh/release/bokeh-widgets-2.1.1.min.js\": \"xIGPmVtaOm+z0BqfSOMn4lOR6ciex448GIKG4eE61LsAvmGj48XcMQZtKcE/UXZe\", \"https://cdn.bokeh.org/bokeh/release/bokeh-tables-2.1.1.min.js\": \"Dc9u1wF/0zApGIWoBbH77iWEHtdmkuYWG839Uzmv8y8yBLXebjO9ZnERsde5Ln/P\", \"https://cdn.bokeh.org/bokeh/release/bokeh-gl-2.1.1.min.js\": \"cT9JaBz7GiRXdENrJLZNSC6eMNF3nh3fa5fTF51Svp+ukxPdwcU5kGXGPBgDCa2j\"};\n\n    for (var i = 0; i < js_urls.length; i++) {\n      var url = js_urls[i];\n      var element = document.createElement('script');\n      element.onload = on_load;\n      element.onerror = on_error;\n      element.async = false;\n      element.src = url;\n      if (url in hashes) {\n        element.crossOrigin = \"anonymous\";\n        element.integrity = \"sha384-\" + hashes[url];\n      }\n      console.debug(\"Bokeh: injecting script tag for BokehJS library: \", url);\n      document.head.appendChild(element);\n    }\n  };\n\n  function inject_raw_css(css) {\n    const element = document.createElement(\"style\");\n    element.appendChild(document.createTextNode(css));\n    document.body.appendChild(element);\n  }\n\n  \n  var js_urls = [\"https://cdn.bokeh.org/bokeh/release/bokeh-2.1.1.min.js\", \"https://cdn.bokeh.org/bokeh/release/bokeh-widgets-2.1.1.min.js\", \"https://cdn.bokeh.org/bokeh/release/bokeh-tables-2.1.1.min.js\", \"https://cdn.bokeh.org/bokeh/release/bokeh-gl-2.1.1.min.js\"];\n  var css_urls = [];\n  \n\n  var inline_js = [\n    function(Bokeh) {\n      Bokeh.set_log_level(\"info\");\n    },\n    function(Bokeh) {\n    \n    \n    }\n  ];\n\n  function run_inline_js() {\n    \n    if (root.Bokeh !== undefined || force === true) {\n      \n    for (var i = 0; i < inline_js.length; i++) {\n      inline_js[i].call(root, root.Bokeh);\n    }\n    if (force === true) {\n        display_loaded();\n      }} else if (Date.now() < root._bokeh_timeout) {\n      setTimeout(run_inline_js, 100);\n    } else if (!root._bokeh_failed_load) {\n      console.log(\"Bokeh: BokehJS failed to load within specified timeout.\");\n      root._bokeh_failed_load = true;\n    } else if (force !== true) {\n      var cell = $(document.getElementById(\"1001\")).parents('.cell').data().cell;\n      cell.output_area.append_execute_result(NB_LOAD_WARNING)\n    }\n\n  }\n\n  if (root._bokeh_is_loading === 0) {\n    console.debug(\"Bokeh: BokehJS loaded, going straight to plotting\");\n    run_inline_js();\n  } else {\n    load_libs(css_urls, js_urls, function() {\n      console.debug(\"Bokeh: BokehJS plotting callback run at\", now());\n      run_inline_js();\n    });\n  }\n}(window));"
     },
     "metadata": {},
     "output_type": "display_data"
    }
   ],
   "source": [
    "import os\n",
    "import numpy as np\n",
    "import xarray as xr\n",
    "import pandas as pd\n",
    "from pathlib import Path\n",
    "from bokeh.io import output_notebook\n",
    "from dask.diagnostics import ResourceProfiler, ProgressBar\n",
    "%load_ext autoreload\n",
    "%autoreload 2\n",
    "output_notebook()"
   ]
  },
  {
   "cell_type": "code",
   "execution_count": null,
   "metadata": {},
   "outputs": [],
   "source": [
    "bgen_path='/home/eczech/data/rs-ukb-local/bgen/ukb_imp_chrXY_v3.bgen'"
   ]
  },
  {
   "cell_type": "code",
   "execution_count": 4,
   "metadata": {},
   "outputs": [
    {
     "data": {
      "text/plain": [
       "(1024, 131072)"
      ]
     },
     "execution_count": 4,
     "metadata": {},
     "output_type": "execute_result"
    }
   ],
   "source": [
    "n_bytes = 536870912 # 512MiB\n",
    "#n_bytes = 268435456 # 256MiB\n",
    "n_variants = 1024\n",
    "n_samples = (n_bytes // 4) // n_variants\n",
    "n_variants, n_samples"
   ]
  },
  {
   "cell_type": "markdown",
   "metadata": {},
   "source": [
    "### Profiling\n",
    "\n",
    "Whole file: 17min 47s for pybgen on 8 cores"
   ]
  },
  {
   "cell_type": "code",
   "execution_count": 5,
   "metadata": {},
   "outputs": [],
   "source": [
    "def get_arr(ds):\n",
    "    return ds['call_dosage'][:10_000].mean(dim='samples').data"
   ]
  },
  {
   "cell_type": "markdown",
   "metadata": {},
   "source": [
    "----\n",
    "\n",
    "PyBGEN"
   ]
  },
  {
   "cell_type": "code",
   "execution_count": 6,
   "metadata": {},
   "outputs": [
    {
     "data": {
      "text/html": [
       "<table>\n",
       "<tr>\n",
       "<td>\n",
       "<table>\n",
       "  <thead>\n",
       "    <tr><td> </td><th> Array </th><th> Chunk </th></tr>\n",
       "  </thead>\n",
       "  <tbody>\n",
       "    <tr><th> Bytes </th><td> 40.00 kB </td> <td> 4.10 kB </td></tr>\n",
       "    <tr><th> Shape </th><td> (10000,) </td> <td> (1024,) </td></tr>\n",
       "    <tr><th> Count </th><td> 271 Tasks </td><td> 10 Chunks </td></tr>\n",
       "    <tr><th> Type </th><td> float32 </td><td> numpy.ndarray </td></tr>\n",
       "  </tbody>\n",
       "</table>\n",
       "</td>\n",
       "<td>\n",
       "<svg width=\"170\" height=\"75\" style=\"stroke:rgb(0,0,0);stroke-width:1\" >\n",
       "\n",
       "  <!-- Horizontal lines -->\n",
       "  <line x1=\"0\" y1=\"0\" x2=\"120\" y2=\"0\" style=\"stroke-width:2\" />\n",
       "  <line x1=\"0\" y1=\"25\" x2=\"120\" y2=\"25\" style=\"stroke-width:2\" />\n",
       "\n",
       "  <!-- Vertical lines -->\n",
       "  <line x1=\"0\" y1=\"0\" x2=\"0\" y2=\"25\" style=\"stroke-width:2\" />\n",
       "  <line x1=\"12\" y1=\"0\" x2=\"12\" y2=\"25\" />\n",
       "  <line x1=\"24\" y1=\"0\" x2=\"24\" y2=\"25\" />\n",
       "  <line x1=\"36\" y1=\"0\" x2=\"36\" y2=\"25\" />\n",
       "  <line x1=\"49\" y1=\"0\" x2=\"49\" y2=\"25\" />\n",
       "  <line x1=\"61\" y1=\"0\" x2=\"61\" y2=\"25\" />\n",
       "  <line x1=\"73\" y1=\"0\" x2=\"73\" y2=\"25\" />\n",
       "  <line x1=\"86\" y1=\"0\" x2=\"86\" y2=\"25\" />\n",
       "  <line x1=\"98\" y1=\"0\" x2=\"98\" y2=\"25\" />\n",
       "  <line x1=\"110\" y1=\"0\" x2=\"110\" y2=\"25\" />\n",
       "  <line x1=\"120\" y1=\"0\" x2=\"120\" y2=\"25\" style=\"stroke-width:2\" />\n",
       "\n",
       "  <!-- Colored Rectangle -->\n",
       "  <polygon points=\"0.000000,0.000000 120.000000,0.000000 120.000000,25.412617 0.000000,25.412617\" style=\"fill:#ECB172A0;stroke-width:0\"/>\n",
       "\n",
       "  <!-- Text -->\n",
       "  <text x=\"60.000000\" y=\"45.412617\" font-size=\"1.0rem\" font-weight=\"100\" text-anchor=\"middle\" >10000</text>\n",
       "  <text x=\"140.000000\" y=\"12.706308\" font-size=\"1.0rem\" font-weight=\"100\" text-anchor=\"middle\" transform=\"rotate(0,140.000000,12.706308)\">1</text>\n",
       "</svg>\n",
       "</td>\n",
       "</tr>\n",
       "</table>"
      ],
      "text/plain": [
       "dask.array<mean_agg-aggregate, shape=(10000,), dtype=float32, chunksize=(1024,), chunktype=numpy.ndarray>"
      ]
     },
     "execution_count": 6,
     "metadata": {},
     "output_type": "execute_result"
    }
   ],
   "source": [
    "from sgkit_bgen.pybgen import read_bgen as pybgen_read_bgen\n",
    "ds = pybgen_read_bgen(path=bgen_path, chunks=(n_variants, n_samples))\n",
    "arr = get_arr(ds)\n",
    "arr"
   ]
  },
  {
   "cell_type": "code",
   "execution_count": 7,
   "metadata": {},
   "outputs": [
    {
     "name": "stdout",
     "output_type": "stream",
     "text": [
      "[########################################] | 100% Completed |  6min 55.7s\n",
      "CPU times: user 46.1 s, sys: 1.63 s, total: 47.7 s\n",
      "Wall time: 6min 56s\n"
     ]
    }
   ],
   "source": [
    "%%time\n",
    "with ProgressBar(), ResourceProfiler() as prof:\n",
    "    m = arr.compute(scheduler='processes')"
   ]
  },
  {
   "cell_type": "code",
   "execution_count": 8,
   "metadata": {},
   "outputs": [
    {
     "data": {
      "text/html": [
       "\n",
       "\n",
       "\n",
       "\n",
       "\n",
       "\n",
       "  <div class=\"bk-root\" id=\"644e2536-7dbb-4b28-9363-1bfdeca3bf57\" data-root-id=\"1002\"></div>\n"
      ]
     },
     "metadata": {},
     "output_type": "display_data"
    },
    {
     "data": {
      "application/javascript": [
       "(function(root) {\n",
       "  function embed_document(root) {\n",
       "    \n",
       "  var docs_json = {\"fbda836d-ac2c-4366-a53c-9c1efa9cd17d\":{\"roots\":{\"references\":[{\"attributes\":{\"below\":[{\"id\":\"1013\"}],\"center\":[{\"id\":\"1016\"},{\"id\":\"1020\"},{\"id\":\"1042\"}],\"extra_y_ranges\":{\"memory\":{\"id\":\"1044\"}},\"left\":[{\"id\":\"1017\"}],\"plot_height\":300,\"plot_width\":800,\"renderers\":[{\"id\":\"1033\"},{\"id\":\"1048\"}],\"right\":[{\"id\":\"1060\"}],\"title\":{\"id\":\"1003\"},\"toolbar\":{\"id\":\"1025\"},\"toolbar_location\":\"above\",\"x_range\":{\"id\":\"1005\"},\"x_scale\":{\"id\":\"1009\"},\"y_range\":{\"id\":\"1007\"},\"y_scale\":{\"id\":\"1011\"}},\"id\":\"1002\",\"subtype\":\"Figure\",\"type\":\"Plot\"},{\"attributes\":{\"line_alpha\":0.1,\"line_color\":\"#29788E\",\"line_width\":4,\"x\":{\"field\":\"x\"},\"y\":{\"field\":\"y\"}},\"id\":\"1047\",\"type\":\"Line\"},{\"attributes\":{\"end\":399.2},\"id\":\"1007\",\"type\":\"Range1d\"},{\"attributes\":{\"label\":{\"value\":\"Memory\"},\"renderers\":[{\"id\":\"1048\"}]},\"id\":\"1059\",\"type\":\"LegendItem\"},{\"attributes\":{\"text\":\"Profile Results\"},\"id\":\"1003\",\"type\":\"Title\"},{\"attributes\":{\"source\":{\"id\":\"1045\"}},\"id\":\"1049\",\"type\":\"CDSView\"},{\"attributes\":{},\"id\":\"1018\",\"type\":\"BasicTicker\"},{\"attributes\":{},\"id\":\"1057\",\"type\":\"Selection\"},{\"attributes\":{},\"id\":\"1041\",\"type\":\"UnionRenderers\"},{\"attributes\":{},\"id\":\"1058\",\"type\":\"UnionRenderers\"},{\"attributes\":{\"label\":{\"value\":\"% CPU\"},\"renderers\":[{\"id\":\"1033\"}]},\"id\":\"1043\",\"type\":\"LegendItem\"},{\"attributes\":{\"axis_label\":\"Memory (MB)\",\"formatter\":{\"id\":\"1066\"},\"ticker\":{\"id\":\"1067\"},\"y_range_name\":\"memory\"},\"id\":\"1060\",\"type\":\"LinearAxis\"},{\"attributes\":{\"items\":[{\"id\":\"1043\"},{\"id\":\"1059\"}]},\"id\":\"1042\",\"type\":\"Legend\"},{\"attributes\":{},\"id\":\"1011\",\"type\":\"LinearScale\"},{\"attributes\":{\"line_color\":\"#440154\",\"line_width\":4,\"x\":{\"field\":\"x\"},\"y\":{\"field\":\"y\"}},\"id\":\"1031\",\"type\":\"Line\"},{\"attributes\":{\"axis_label\":\"Time (s)\",\"formatter\":{\"id\":\"1036\"},\"ticker\":{\"id\":\"1014\"}},\"id\":\"1013\",\"type\":\"LinearAxis\"},{\"attributes\":{},\"id\":\"1066\",\"type\":\"BasicTickFormatter\"},{\"attributes\":{\"source\":{\"id\":\"1030\"}},\"id\":\"1034\",\"type\":\"CDSView\"},{\"attributes\":{},\"id\":\"1067\",\"type\":\"BasicTicker\"},{\"attributes\":{},\"id\":\"1036\",\"type\":\"BasicTickFormatter\"},{\"attributes\":{},\"id\":\"1014\",\"type\":\"BasicTicker\"},{\"attributes\":{},\"id\":\"1040\",\"type\":\"Selection\"},{\"attributes\":{\"axis\":{\"id\":\"1013\"},\"ticker\":null},\"id\":\"1016\",\"type\":\"Grid\"},{\"attributes\":{\"end\":415.83197520199974},\"id\":\"1005\",\"type\":\"Range1d\"},{\"attributes\":{\"data_source\":{\"id\":\"1030\"},\"glyph\":{\"id\":\"1031\"},\"hover_glyph\":null,\"muted_glyph\":null,\"nonselection_glyph\":{\"id\":\"1032\"},\"selection_glyph\":null,\"view\":{\"id\":\"1034\"}},\"id\":\"1033\",\"type\":\"GlyphRenderer\"},{\"attributes\":{\"axis\":{\"id\":\"1017\"},\"dimension\":1,\"ticker\":null},\"id\":\"1020\",\"type\":\"Grid\"},{\"attributes\":{},\"id\":\"1038\",\"type\":\"BasicTickFormatter\"},{\"attributes\":{\"end\":3643.428864,\"start\":343.384064},\"id\":\"1044\",\"type\":\"Range1d\"},{\"attributes\":{\"axis_label\":\"% CPU\",\"formatter\":{\"id\":\"1038\"},\"ticker\":{\"id\":\"1018\"}},\"id\":\"1017\",\"type\":\"LinearAxis\"},{\"attributes\":{\"active_drag\":\"auto\",\"active_inspect\":\"auto\",\"active_multi\":null,\"active_scroll\":\"auto\",\"active_tap\":\"auto\",\"tools\":[{\"id\":\"1021\"},{\"id\":\"1022\"},{\"id\":\"1023\"},{\"id\":\"1024\"}]},\"id\":\"1025\",\"type\":\"Toolbar\"},{\"attributes\":{\"line_alpha\":0.1,\"line_color\":\"#440154\",\"line_width\":4,\"x\":{\"field\":\"x\"},\"y\":{\"field\":\"y\"}},\"id\":\"1032\",\"type\":\"Line\"},{\"attributes\":{\"data\":{\"x\":[0.0,1.007268015999216,2.00924075399962,3.0111785709996184,4.013114973999109,5.015036910999697,6.017069930998332,7.019054493999647,8.021031613998275,9.02293147599994,10.025041905999387,11.026956245999827,12.028887587999634,13.030787875999522,14.032827565999469,15.034734750999633,16.036708020999868,17.038619404998826,18.04062216999955,19.042522580999503,20.043486334998306,21.045426688999214,22.047356205999677,23.04923330999918,24.051174320999053,25.053184368000075,26.055173006998302,27.057126981999318,28.059435154998937,29.061450983999748,30.06349211399902,31.065430101998572,32.06726740299928,33.069240623999576,34.071497817998534,35.07352072899994,36.07545700399896,37.07735258199864,38.07927829699838,39.08129456200004,40.083204702999865,41.08511602099861,42.087057914999605,43.08956508299889,44.0914861379988,45.093332185999316,46.09530674399866,47.097238368000035,48.099220873999,49.10148411099908,50.103447415998744,51.10575574899849,52.10751607699967,53.10946157699982,54.1114095289995,55.113574113998766,56.115529327998956,57.1175627169996,58.11950276699827,59.12161597599879,60.123478004999924,61.12563002399838,62.12749588599945,63.12947563299895,64.13145193799937,65.13340204299857,66.13550993099852,67.13765059599973,68.1394683489998,69.14146005199837,70.14350682499935,71.1457107089991,72.14748912899995,73.14943587099879,74.15148591199977,75.15337133699904,76.1552789089983,77.15720204199897,78.1591344239987,79.16109590299857,80.16302578799878,81.16504677199919,82.16694239499884,83.16887924999901,84.17079014099909,85.17287944099917,86.17477931299982,87.17681068099955,88.17874881499847,89.1807449349999,90.18328503699922,91.18525638499887,92.18738845400003,93.18937837599879,94.19141945199954,95.19381324499955,96.19550892699954,97.1977292369993,98.19951597699946,99.20148172299923,100.20348509299947,101.20563520999895,102.2074869199987,103.20943786599855,104.2114088849994,105.21338689000004,106.21535226199921,107.21733955799937,108.21927475599841,109.22120133499993,110.22314816399921,111.22549222699854,112.22749022299831,113.22941159799848,114.23138781299895,115.23341327399976,116.23752767699989,117.23944848899919,118.24136453099891,119.24331568699927,120.24528059699878,121.24728191799841,122.24921979200008,123.25153195899838,124.25361355799942,125.25549511200006,126.257437242999,127.25952254999902,128.26171442199848,129.26353669699893,130.26579125999888,131.26773348999996,132.26986329600004,133.27149495799858,134.2734279739998,135.27553740599978,136.27778753099847,137.2795176769996,138.28170747999866,139.28348895599993,140.28544296399923,141.2874915329994,142.28938846099845,143.29144717499912,144.29335342599916,145.2952505279991,146.29717572999834,147.2990923519992,148.30114057599894,149.3032195179985,150.30512019899834,151.30714711899964,152.30924699399839,153.31146467399958,154.31353595699875,155.3154572909989,156.31735102199855,157.31948217199897,158.32138217399915,159.3232735749989,160.32515153399982,161.32705329099917,162.3290065229994,163.33128352199856,164.33339840199915,165.33547635399918,166.33742379299838,167.33935172099882,168.34124572699875,169.34319640399917,170.34541537699988,171.34748647999913,172.3493936679988,173.35143342899937,174.35334906999924,175.35549102299956,176.3582308569985,177.35948836999887,178.36147688599885,179.3634322709986,180.36542762499994,181.36741172499933,182.36931148799886,183.3714946199998,184.37357077899833,185.37545851899995,186.37939395099966,187.38128969799982,188.3832484509985,189.38565245599966,190.38748006599963,191.3893556289986,192.39125731899912,193.39336593400003,194.39674229899902,195.39866335799888,196.4010452449984,197.40295724799944,198.40498518099957,199.4072838609991,200.40931001599893,201.41121547999865,202.41379273599887,203.4155351679983,204.4175153039996,205.4194335079992,206.42132449999917,207.42335291699965,208.42544718599856,209.42736707999939,210.4292463109996,211.4311456159994,212.43309090899857,213.435272318,214.43715674199848,215.4390989479998,216.4411187809983,217.4431119339988,218.44511588999922,219.4471167879983,220.44929903799857,221.45120988599956,222.45311325799958,223.45503474899851,224.4572342779993,225.45941816399863,226.46137027499935,227.46329449199948,228.46519887799877,229.4672061199999,230.4693576669997,231.47126348099846,232.47320533099992,233.47511568499976,234.47703200399883,235.47896179399868,236.4809094909997,237.4827766669987,238.4846656109985,239.48657275299956,240.48922016699908,241.4912782779993,242.49336674799997,243.49530416499874,244.49719658499998,245.49908187099936,246.5010031689999,247.5024517389993,248.5034833259997,249.50547122599892,250.50747547299943,251.50940384899877,252.5115161649992,253.51376586999868,254.51549744199838,255.5176989419997,256.5195029959996,257.52151249099916,258.5234772519998,259.5254188509989,260.52727701599906,261.52915104599924,262.5311140449994,263.5330685509998,264.5350184379986,265.53696027299884,266.53910922499927,267.54176313899916,268.54346503799934,269.545491891,270.547482426,271.54938865799886,272.5512824689995,273.55326896899896,274.5552230829999,275.5572952779985,276.5592348099999,277.561582377999,278.56345532399973,279.5654912309983,280.56749030299943,281.5693808629985,282.57134721299917,283.573469981,284.5755195089987,285.5776341619985,286.5794861509985,287.5813834319997,288.5832501389996,289.5851496899995,290.58702722399903,291.5891482399984,292.5912078299989,293.59339019699837,294.5954898109994,295.5969924429992,296.5989288189994,297.60070555699895,298.6025586989999,299.6034781210001,300.6054045809997,301.60727858799874,302.6092107679997,303.6110826159984,304.612984555999,305.614861267999,306.6168699559985,307.6187569799986,308.6206697859998,309.62257595899973,310.6234828559991,311.62564529799965,312.62747895199936,313.6293769999993,314.63216544399984,315.63402521399985,316.635487132,317.6374449039995,318.63953710699934,319.64144631199997,320.64347928999996,321.64538505499877,322.6470474279995,323.6490068059993,324.65089903199987,325.6531351479989,326.6550237729989,327.6569664999988,328.65884388299855,329.66075821199956,330.66261677500006,331.66451464499914,332.6664684259995,333.66751915499844,334.66964670499874,335.67148916899896,336.6734416039999,337.6754825729986,338.6783616979992,339.6794897759992,340.6813738289984,341.68322900399835,342.6858863749985,343.68748197700006,344.6896726099985,345.69149441399895,346.69360565699935,347.69549397399896,348.69777781099947,349.6995489539986,350.70167452499845,351.70349650799835,352.7055250889989,353.7075158709995,354.7095812429998,355.71148611899844,356.7133869219997,357.7154934249993,358.7174595519991,359.719364700999,360.7212412259996,361.7232615949997,362.7254113609997,363.72729094499846,364.7294259859991,365.73131723499864,366.7335360899997,367.73549102799916,368.7374065059994,369.73947964299987,370.7416308519987,371.7434849209985,372.74540738999895,373.7474950509986,374.7494164789987,375.7514139729992,376.7539962769988,377.7554981539997,378.7577658699993,379.7594875349987,380.7613958949987,381.7634178239987,382.7655565489986,383.7677160839994,384.7696132359997,385.77148137599943,386.7733506429995,387.775234277,388.77755413999876,389.7794807269984,390.7813756689993,391.783277225999,392.78534747499907,393.7872783669991,394.78944153799966,395.7914188219984,396.79327941599877,397.7954659139996,398.79752843999995,399.79948714799866,400.8014826489998,401.80343300299864,402.80556104699826,403.8075493619999,404.8094355309986,405.8113544409989,406.8132325099996,407.8169509219988,408.8188417449983,409.82079319699915,410.82268251999994,411.8247450809995,412.82666869199966,413.8287082329989,414.8306386949989,415.83197520199974],\"y\":[0.0,84.4,264.5,337.3,394.2,398.2,393.2,396.2,397.2,394.2,395.2,396.2,396.2,396.2,394.2,398.2,386.2,398.2,395.2,395.2,396.6,393.2,396.2,396.2,394.2,396.2,397.2,395.2,393.2,398.2,396.2,394.2,398.2,387.2,395.2,388.2,394.2,396.2,397.2,392.2,398.2,395.2,395.09999999999997,394.2,382.2,382.2,395.29999999999995,366.3,395.2,394.2,396.2,395.2,396.2,395.2,396.2,395.2,396.2,395.2,396.2,397.2,394.2,398.2,395.2,395.2,396.2,396.2,392.2,397.2,397.2,394.2,396.2,396.2,396.2,396.2,394.2,397.2,394.2,398.2,393.2,394.2,397.2,395.2,398.2,394.2,397.2,395.2,383.2,374.3,394.2,370.2,376.1,394.20000000000005,399.2,389.2,395.2,394.2,396.2,395.2,396.2,394.2,395.2,397.2,394.2,396.2,395.2,392.2,397.2,397.2,397.2,392.2,397.2,394.2,397.2,395.2,396.2,395.2,395.4,395.2,394.2,397.2,393.2,396.2,395.2,398.2,394.2,394.2,396.2,396.2,394.2,370.3,397.2,352.3,389.2,396.3,395.2,397.2,396.2,394.2,394.2,397.6,396.2,394.2,395.2,396.2,395.2,397.2,394.2,396.2,394.2,395.2,396.2,397.2,393.2,385.2,398.2,393.2,394.2,397.2,394.2,395.2,393.2,396.2,396.2,395.2,395.2,395.2,396.2,396.2,395.2,395.2,391.0,396.5,398.1,354.3,394.2,397.2,392.8,396.6,396.2,395.2,394.2,396.2,395.2,396.2,398.2,396.2,393.4,397.2,396.2,392.2,397.2,392.2,398.2,394.2,396.8,395.2,396.2,395.2,396.2,394.2,398.2,394.0,395.2,397.2,395.2,389.2,394.2,396.2,397.2,395.2,396.2,396.2,383.2,392.2,397.2,380.2,353.3,399.2,393.2,395.2,399.2,396.2,392.2,397.2,394.2,396.2,396.2,395.2,389.2,398.2,396.2,396.2,395.2,395.2,396.2,395.2,394.2,397.2,397.2,394.2,397.2,396.2,394.2,398.2,395.2,395.2,397.2,393.6,396.6,395.09999999999997,397.5,396.2,394.2,399.2,380.2,395.2,395.3,395.2,397.2,395.20000000000005,396.2,396.2,396.2,396.2,396.2,394.2,398.0,395.2,395.2,396.2,398.2,395.2,392.2,393.2,395.2,393.2,394.2,397.2,395.2,396.1,395.5,397.2,396.2,396.2,395.2,395.2,395.2,396.2,396.2,395.2,394.2,397.2,396.2,396.2,395.2,397.6,396.2,394.3,365.3,364.6,397.2,397.2,393.2,398.2,395.2,396.2,397.2,394.2,396.2,396.2,397.6,395.2,398.2,394.2,395.8,394.2,398.6,396.0,396.4,394.2,397.2,397.2,395.2,395.2,398.2,388.2,395.2,396.2,397.2,395.2,394.2,395.2,391.2,394.6,396.2,395.2,396.2,397.2,395.8,397.6,357.3,397.0,395.2,394.29999999999995,394.2,399.2,394.2,398.2,394.2,396.2,394.2,398.2,396.2,394.2,397.2,397.2,394.2,395.2,396.2,398.2,396.2,395.2,393.2,397.2,396.2,396.2,396.2,398.4,395.2,394.2,398.2,397.2,395.2,394.2,397.2,396.0,394.2,398.2,396.2,394.4,397.2,396.2,375.1,280.4,326.3,396.2,395.2,396.2,395.2,396.2,396.2,397.2,391.2,392.2,396.2,397.2,394.2,394.2,398.2,396.2,396.2,395.2,396.2,394.2,395.2,396.2,395.2,396.4,395.2,396.2,396.2,389.2,301.4,301.4,301.4,223.70000000000002]},\"selected\":{\"id\":\"1040\"},\"selection_policy\":{\"id\":\"1041\"}},\"id\":\"1030\",\"type\":\"ColumnDataSource\"},{\"attributes\":{\"line_color\":\"#29788E\",\"line_width\":4,\"x\":{\"field\":\"x\"},\"y\":{\"field\":\"y\"}},\"id\":\"1046\",\"type\":\"Line\"},{\"attributes\":{\"data\":{\"x\":[0.0,1.007268015999216,2.00924075399962,3.0111785709996184,4.013114973999109,5.015036910999697,6.017069930998332,7.019054493999647,8.021031613998275,9.02293147599994,10.025041905999387,11.026956245999827,12.028887587999634,13.030787875999522,14.032827565999469,15.034734750999633,16.036708020999868,17.038619404998826,18.04062216999955,19.042522580999503,20.043486334998306,21.045426688999214,22.047356205999677,23.04923330999918,24.051174320999053,25.053184368000075,26.055173006998302,27.057126981999318,28.059435154998937,29.061450983999748,30.06349211399902,31.065430101998572,32.06726740299928,33.069240623999576,34.071497817998534,35.07352072899994,36.07545700399896,37.07735258199864,38.07927829699838,39.08129456200004,40.083204702999865,41.08511602099861,42.087057914999605,43.08956508299889,44.0914861379988,45.093332185999316,46.09530674399866,47.097238368000035,48.099220873999,49.10148411099908,50.103447415998744,51.10575574899849,52.10751607699967,53.10946157699982,54.1114095289995,55.113574113998766,56.115529327998956,57.1175627169996,58.11950276699827,59.12161597599879,60.123478004999924,61.12563002399838,62.12749588599945,63.12947563299895,64.13145193799937,65.13340204299857,66.13550993099852,67.13765059599973,68.1394683489998,69.14146005199837,70.14350682499935,71.1457107089991,72.14748912899995,73.14943587099879,74.15148591199977,75.15337133699904,76.1552789089983,77.15720204199897,78.1591344239987,79.16109590299857,80.16302578799878,81.16504677199919,82.16694239499884,83.16887924999901,84.17079014099909,85.17287944099917,86.17477931299982,87.17681068099955,88.17874881499847,89.1807449349999,90.18328503699922,91.18525638499887,92.18738845400003,93.18937837599879,94.19141945199954,95.19381324499955,96.19550892699954,97.1977292369993,98.19951597699946,99.20148172299923,100.20348509299947,101.20563520999895,102.2074869199987,103.20943786599855,104.2114088849994,105.21338689000004,106.21535226199921,107.21733955799937,108.21927475599841,109.22120133499993,110.22314816399921,111.22549222699854,112.22749022299831,113.22941159799848,114.23138781299895,115.23341327399976,116.23752767699989,117.23944848899919,118.24136453099891,119.24331568699927,120.24528059699878,121.24728191799841,122.24921979200008,123.25153195899838,124.25361355799942,125.25549511200006,126.257437242999,127.25952254999902,128.26171442199848,129.26353669699893,130.26579125999888,131.26773348999996,132.26986329600004,133.27149495799858,134.2734279739998,135.27553740599978,136.27778753099847,137.2795176769996,138.28170747999866,139.28348895599993,140.28544296399923,141.2874915329994,142.28938846099845,143.29144717499912,144.29335342599916,145.2952505279991,146.29717572999834,147.2990923519992,148.30114057599894,149.3032195179985,150.30512019899834,151.30714711899964,152.30924699399839,153.31146467399958,154.31353595699875,155.3154572909989,156.31735102199855,157.31948217199897,158.32138217399915,159.3232735749989,160.32515153399982,161.32705329099917,162.3290065229994,163.33128352199856,164.33339840199915,165.33547635399918,166.33742379299838,167.33935172099882,168.34124572699875,169.34319640399917,170.34541537699988,171.34748647999913,172.3493936679988,173.35143342899937,174.35334906999924,175.35549102299956,176.3582308569985,177.35948836999887,178.36147688599885,179.3634322709986,180.36542762499994,181.36741172499933,182.36931148799886,183.3714946199998,184.37357077899833,185.37545851899995,186.37939395099966,187.38128969799982,188.3832484509985,189.38565245599966,190.38748006599963,191.3893556289986,192.39125731899912,193.39336593400003,194.39674229899902,195.39866335799888,196.4010452449984,197.40295724799944,198.40498518099957,199.4072838609991,200.40931001599893,201.41121547999865,202.41379273599887,203.4155351679983,204.4175153039996,205.4194335079992,206.42132449999917,207.42335291699965,208.42544718599856,209.42736707999939,210.4292463109996,211.4311456159994,212.43309090899857,213.435272318,214.43715674199848,215.4390989479998,216.4411187809983,217.4431119339988,218.44511588999922,219.4471167879983,220.44929903799857,221.45120988599956,222.45311325799958,223.45503474899851,224.4572342779993,225.45941816399863,226.46137027499935,227.46329449199948,228.46519887799877,229.4672061199999,230.4693576669997,231.47126348099846,232.47320533099992,233.47511568499976,234.47703200399883,235.47896179399868,236.4809094909997,237.4827766669987,238.4846656109985,239.48657275299956,240.48922016699908,241.4912782779993,242.49336674799997,243.49530416499874,244.49719658499998,245.49908187099936,246.5010031689999,247.5024517389993,248.5034833259997,249.50547122599892,250.50747547299943,251.50940384899877,252.5115161649992,253.51376586999868,254.51549744199838,255.5176989419997,256.5195029959996,257.52151249099916,258.5234772519998,259.5254188509989,260.52727701599906,261.52915104599924,262.5311140449994,263.5330685509998,264.5350184379986,265.53696027299884,266.53910922499927,267.54176313899916,268.54346503799934,269.545491891,270.547482426,271.54938865799886,272.5512824689995,273.55326896899896,274.5552230829999,275.5572952779985,276.5592348099999,277.561582377999,278.56345532399973,279.5654912309983,280.56749030299943,281.5693808629985,282.57134721299917,283.573469981,284.5755195089987,285.5776341619985,286.5794861509985,287.5813834319997,288.5832501389996,289.5851496899995,290.58702722399903,291.5891482399984,292.5912078299989,293.59339019699837,294.5954898109994,295.5969924429992,296.5989288189994,297.60070555699895,298.6025586989999,299.6034781210001,300.6054045809997,301.60727858799874,302.6092107679997,303.6110826159984,304.612984555999,305.614861267999,306.6168699559985,307.6187569799986,308.6206697859998,309.62257595899973,310.6234828559991,311.62564529799965,312.62747895199936,313.6293769999993,314.63216544399984,315.63402521399985,316.635487132,317.6374449039995,318.63953710699934,319.64144631199997,320.64347928999996,321.64538505499877,322.6470474279995,323.6490068059993,324.65089903199987,325.6531351479989,326.6550237729989,327.6569664999988,328.65884388299855,329.66075821199956,330.66261677500006,331.66451464499914,332.6664684259995,333.66751915499844,334.66964670499874,335.67148916899896,336.6734416039999,337.6754825729986,338.6783616979992,339.6794897759992,340.6813738289984,341.68322900399835,342.6858863749985,343.68748197700006,344.6896726099985,345.69149441399895,346.69360565699935,347.69549397399896,348.69777781099947,349.6995489539986,350.70167452499845,351.70349650799835,352.7055250889989,353.7075158709995,354.7095812429998,355.71148611899844,356.7133869219997,357.7154934249993,358.7174595519991,359.719364700999,360.7212412259996,361.7232615949997,362.7254113609997,363.72729094499846,364.7294259859991,365.73131723499864,366.7335360899997,367.73549102799916,368.7374065059994,369.73947964299987,370.7416308519987,371.7434849209985,372.74540738999895,373.7474950509986,374.7494164789987,375.7514139729992,376.7539962769988,377.7554981539997,378.7577658699993,379.7594875349987,380.7613958949987,381.7634178239987,382.7655565489986,383.7677160839994,384.7696132359997,385.77148137599943,386.7733506429995,387.775234277,388.77755413999876,389.7794807269984,390.7813756689993,391.783277225999,392.78534747499907,393.7872783669991,394.78944153799966,395.7914188219984,396.79327941599877,397.7954659139996,398.79752843999995,399.79948714799866,400.8014826489998,401.80343300299864,402.80556104699826,403.8075493619999,404.8094355309986,405.8113544409989,406.8132325099996,407.8169509219988,408.8188417449983,409.82079319699915,410.82268251999994,411.8247450809995,412.82666869199966,413.8287082329989,414.8306386949989,415.83197520199974],\"y\":[343.384064,462.389248,600.768512,763.363328,891.84256,1063.50592,1199.49312,1245.630464,1298.059264,1344.32768,1392.562176,1447.088128,1493.229568,1545.658368,1594.085376,1644.417024,1692.65152,1738.788864,1789.120512,1839.45216,1889.783808,1938.018304,1990.656,2038.890496,2089.222144,2137.45664,2187.788288,2238.119936,2286.354432,2332.491776,2387.017728,2435.252224,2483.48672,2533.818368,2579.955712,2628.190208,2680.619008,2728.853504,2779.185152,2829.5168,2877.751296,2930.180096,2976.31744,3643.428864,1882.619904,1968.574464,1613.135872,1107.06688,1191.624704,1245.929472,1298.358272,1346.592768,1392.730112,1443.180544,1491.41504,1541.77536,1592.107008,1640.341504,1690.673152,1738.907648,1789.29664,1835.433984,1885.765632,1936.09728,1986.428928,2034.663424,2082.89792,2131.132416,2183.561216,2231.795712,2280.030208,2330.361856,2380.693504,2428.928,2479.259648,2531.688448,2577.825792,2626.060288,2676.391936,2724.626432,2772.860928,2825.289728,2875.621376,2925.953024,2974.18752,3364.302848,1872.719872,1960.288256,2032.685056,1058.803712,1145.847808,1241.014272,1289.248768,1339.580416,1386.10688,1436.438528,1482.62912,1530.863616,1581.195264,1629.42976,1679.761408,1730.093056,1778.327552,1828.6592,1878.990848,1929.322496,1979.654144,2029.985792,2078.220288,2130.649088,2180.980736,2229.215232,2279.54688,2329.878528,2380.210176,2430.541824,2480.873472,2531.20512,2581.536768,2633.965568,2682.200064,2730.43456,2780.766208,2826.903552,2881.429504,2931.761152,2977.898496,3101.696,3093.680128,1956.814848,1444.51584,1062.690816,1152.512,1240.420352,1288.851456,1339.363328,1387.80672,1438.191616,1490.620416,1538.854912,1587.089408,1639.518208,1687.752704,1740.181504,1790.513152,1840.8448,1893.2736,1941.508096,1991.839744,2044.268544,2094.600192,2147.028992,2197.36064,2245.595136,2298.023936,2348.355584,2396.59008,2449.01888,2499.350528,2551.779328,2600.013824,2650.345472,2702.774272,2753.10592,2803.437568,2853.769216,2902.003712,2954.432512,3061.4528,2417.410048,1939.193856,2023.985152,2254.708736,1129.332736,1221.521408,1272.061952,1322.590208,1370.824704,1419.0592,1471.488,1517.81376,1565.835264,1616.166912,1666.49856,1712.635904,1758.78144,1811.21024,1857.347584,1909.809152,1958.043648,2006.30272,2058.73152,2104.868864,2155.200512,2205.53216,2251.669504,2304.098304,2352.3328,2402.664448,2450.898944,2499.129344,2549.460992,2599.79264,2650.124288,2698.358784,2748.690432,2794.827776,2843.062272,2893.39392,2943.729664,2991.947776,2429.997056,1927.33184,2021.19168,2195.0464,1081.004032,1164.812288,1263.939584,1314.480128,1367.052288,1413.214208,1467.74016,1514.070016,1566.498816,1610.727424,1660.854272,1715.380224,1761.517568,1809.752064,1860.083712,1908.318208,1960.747008,2008.981504,2061.410304,2109.6448,2162.09408,2208.227328,2258.558976,2308.890624,2359.222272,2409.55392,2457.788416,2508.120064,2558.451712,2606.686208,2657.017856,2707.3536,2757.685248,2808.016896,2854.15424,2908.680192,2954.817536,3047.07584,2574.168064,1930.752,2032.697344,1479.999488,1755.820032,1177.432064,1262.628864,1312.960512,1365.389312,1411.526656,1464.225792,1514.57792,1564.909568,1613.193216,1663.524864,1709.662208,1762.091008,1810.325504,1854.550016,1908.85888,1957.093376,2007.425024,2055.65952,2103.894016,2156.322816,2202.46016,2254.88896,2303.123456,2349.293568,2403.81952,2449.956864,2500.288512,2546.425856,2596.757504,2644.992,2695.323648,2743.558144,2795.986944,2842.124288,2892.455936,2936.684544,3274.174464,2442.514432,2525.401088,2062.045184,1457.614848,1106.624512,1152.344064,1250.156544,1300.488192,1348.816896,1397.264384,1447.378944,1499.992064,1548.22656,1594.417152,1648.943104,1691.103232,1745.408,1795.739648,1843.974144,1894.305792,1944.63744,1994.969088,2047.397888,2095.632384,2145.992704,2194.2272,2246.656,2296.987648,2345.222144,2395.553792,2443.788288,2494.119936,2544.451584,2594.787328,2640.863232,2691.227648,2743.656448,2791.89504,2840.129536,2886.26688,2938.69568,3265.921024,2440.577024,2523.389952,2011.643904,1458.311168,1773.502464,1163.677696,1246.093312,1298.522112,1348.85376,1399.185408,1447.456768,1495.764992,1548.193792,1596.428288,1644.662784,1697.189888,1745.424384,1789.648896,1839.980544,1890.062336,1938.296832,1988.62848,2038.960128,2091.388928,2137.526272,2192.052224,2238.189568,2288.586752,2341.015552,2391.3472,2439.581696,2489.913344,2538.14784,2572.931072,2636.693504,2687.025152,2735.24736,2783.481856,2835.910656,2884.145152,2932.379648,3047.784448,2433.35168,2516.897792,2739.17952,1395.4048,1048.363008,1133.060096,1216.299008,1273.71264,1319.849984,1370.60352,1420.935168,1467.072512,1513.209856,1563.541504,1611.776,1662.107648,1710.317568,1756.454912,1808.883712,1851.039744,1903.24736,1953.579008,2001.813504,2050.048,2100.379648,2146.516992,2201.042944,2249.27744,2293.538816,2347.835392,2393.972736,2446.401536,2025.996288,2065.842176,2107.785216,2146.11968,893.243392]},\"selected\":{\"id\":\"1057\"},\"selection_policy\":{\"id\":\"1058\"}},\"id\":\"1045\",\"type\":\"ColumnDataSource\"},{\"attributes\":{},\"id\":\"1021\",\"type\":\"SaveTool\"},{\"attributes\":{},\"id\":\"1022\",\"type\":\"ResetTool\"},{\"attributes\":{},\"id\":\"1009\",\"type\":\"LinearScale\"},{\"attributes\":{\"data_source\":{\"id\":\"1045\"},\"glyph\":{\"id\":\"1046\"},\"hover_glyph\":null,\"muted_glyph\":null,\"nonselection_glyph\":{\"id\":\"1047\"},\"selection_glyph\":null,\"view\":{\"id\":\"1049\"},\"y_range_name\":\"memory\"},\"id\":\"1048\",\"type\":\"GlyphRenderer\"},{\"attributes\":{\"dimensions\":\"width\"},\"id\":\"1023\",\"type\":\"WheelZoomTool\"},{\"attributes\":{\"dimensions\":\"width\"},\"id\":\"1024\",\"type\":\"PanTool\"}],\"root_ids\":[\"1002\"]},\"title\":\"Bokeh Application\",\"version\":\"2.1.1\"}};\n",
       "  var render_items = [{\"docid\":\"fbda836d-ac2c-4366-a53c-9c1efa9cd17d\",\"root_ids\":[\"1002\"],\"roots\":{\"1002\":\"644e2536-7dbb-4b28-9363-1bfdeca3bf57\"}}];\n",
       "  root.Bokeh.embed.embed_items_notebook(docs_json, render_items);\n",
       "\n",
       "  }\n",
       "  if (root.Bokeh !== undefined) {\n",
       "    embed_document(root);\n",
       "  } else {\n",
       "    var attempts = 0;\n",
       "    var timer = setInterval(function(root) {\n",
       "      if (root.Bokeh !== undefined) {\n",
       "        clearInterval(timer);\n",
       "        embed_document(root);\n",
       "      } else {\n",
       "        attempts++;\n",
       "        if (attempts > 100) {\n",
       "          clearInterval(timer);\n",
       "          console.log(\"Bokeh: ERROR: Unable to run BokehJS code because BokehJS library is missing\");\n",
       "        }\n",
       "      }\n",
       "    }, 10, root)\n",
       "  }\n",
       "})(window);"
      ],
      "application/vnd.bokehjs_exec.v0+json": ""
     },
     "metadata": {
      "application/vnd.bokehjs_exec.v0+json": {
       "id": "1002"
      }
     },
     "output_type": "display_data"
    },
    {
     "data": {
      "text/html": [
       "<div style=\"display: table;\"><div style=\"display: table-row;\"><div style=\"display: table-cell;\"><b title=\"bokeh.plotting.figure.Figure\">Figure</b>(</div><div style=\"display: table-cell;\">id&nbsp;=&nbsp;'1002', <span id=\"1139\" style=\"cursor: pointer;\">&hellip;)</span></div></div><div class=\"1138\" style=\"display: none;\"><div style=\"display: table-cell;\"></div><div style=\"display: table-cell;\">above&nbsp;=&nbsp;[],</div></div><div class=\"1138\" style=\"display: none;\"><div style=\"display: table-cell;\"></div><div style=\"display: table-cell;\">align&nbsp;=&nbsp;'start',</div></div><div class=\"1138\" style=\"display: none;\"><div style=\"display: table-cell;\"></div><div style=\"display: table-cell;\">aspect_ratio&nbsp;=&nbsp;None,</div></div><div class=\"1138\" style=\"display: none;\"><div style=\"display: table-cell;\"></div><div style=\"display: table-cell;\">aspect_scale&nbsp;=&nbsp;1,</div></div><div class=\"1138\" style=\"display: none;\"><div style=\"display: table-cell;\"></div><div style=\"display: table-cell;\">background&nbsp;=&nbsp;None,</div></div><div class=\"1138\" style=\"display: none;\"><div style=\"display: table-cell;\"></div><div style=\"display: table-cell;\">background_fill_alpha&nbsp;=&nbsp;1.0,</div></div><div class=\"1138\" style=\"display: none;\"><div style=\"display: table-cell;\"></div><div style=\"display: table-cell;\">background_fill_color&nbsp;=&nbsp;'#ffffff',</div></div><div class=\"1138\" style=\"display: none;\"><div style=\"display: table-cell;\"></div><div style=\"display: table-cell;\">below&nbsp;=&nbsp;[LinearAxis(id='1013', ...)],</div></div><div class=\"1138\" style=\"display: none;\"><div style=\"display: table-cell;\"></div><div style=\"display: table-cell;\">border_fill_alpha&nbsp;=&nbsp;1.0,</div></div><div class=\"1138\" style=\"display: none;\"><div style=\"display: table-cell;\"></div><div style=\"display: table-cell;\">border_fill_color&nbsp;=&nbsp;'#ffffff',</div></div><div class=\"1138\" style=\"display: none;\"><div style=\"display: table-cell;\"></div><div style=\"display: table-cell;\">center&nbsp;=&nbsp;[Grid(id='1016', ...), Grid(id='1020', ...), Legend(id='1042', ...)],</div></div><div class=\"1138\" style=\"display: none;\"><div style=\"display: table-cell;\"></div><div style=\"display: table-cell;\">css_classes&nbsp;=&nbsp;[],</div></div><div class=\"1138\" style=\"display: none;\"><div style=\"display: table-cell;\"></div><div style=\"display: table-cell;\">disabled&nbsp;=&nbsp;False,</div></div><div class=\"1138\" style=\"display: none;\"><div style=\"display: table-cell;\"></div><div style=\"display: table-cell;\">extra_x_ranges&nbsp;=&nbsp;{},</div></div><div class=\"1138\" style=\"display: none;\"><div style=\"display: table-cell;\"></div><div style=\"display: table-cell;\">extra_y_ranges&nbsp;=&nbsp;{'memory': Range1d(id='1044', ...)},</div></div><div class=\"1138\" style=\"display: none;\"><div style=\"display: table-cell;\"></div><div style=\"display: table-cell;\">frame_height&nbsp;=&nbsp;None,</div></div><div class=\"1138\" style=\"display: none;\"><div style=\"display: table-cell;\"></div><div style=\"display: table-cell;\">frame_width&nbsp;=&nbsp;None,</div></div><div class=\"1138\" style=\"display: none;\"><div style=\"display: table-cell;\"></div><div style=\"display: table-cell;\">height&nbsp;=&nbsp;None,</div></div><div class=\"1138\" style=\"display: none;\"><div style=\"display: table-cell;\"></div><div style=\"display: table-cell;\">height_policy&nbsp;=&nbsp;'auto',</div></div><div class=\"1138\" style=\"display: none;\"><div style=\"display: table-cell;\"></div><div style=\"display: table-cell;\">hidpi&nbsp;=&nbsp;True,</div></div><div class=\"1138\" style=\"display: none;\"><div style=\"display: table-cell;\"></div><div style=\"display: table-cell;\">js_event_callbacks&nbsp;=&nbsp;{},</div></div><div class=\"1138\" style=\"display: none;\"><div style=\"display: table-cell;\"></div><div style=\"display: table-cell;\">js_property_callbacks&nbsp;=&nbsp;{},</div></div><div class=\"1138\" style=\"display: none;\"><div style=\"display: table-cell;\"></div><div style=\"display: table-cell;\">left&nbsp;=&nbsp;[LinearAxis(id='1017', ...)],</div></div><div class=\"1138\" style=\"display: none;\"><div style=\"display: table-cell;\"></div><div style=\"display: table-cell;\">lod_factor&nbsp;=&nbsp;10,</div></div><div class=\"1138\" style=\"display: none;\"><div style=\"display: table-cell;\"></div><div style=\"display: table-cell;\">lod_interval&nbsp;=&nbsp;300,</div></div><div class=\"1138\" style=\"display: none;\"><div style=\"display: table-cell;\"></div><div style=\"display: table-cell;\">lod_threshold&nbsp;=&nbsp;2000,</div></div><div class=\"1138\" style=\"display: none;\"><div style=\"display: table-cell;\"></div><div style=\"display: table-cell;\">lod_timeout&nbsp;=&nbsp;500,</div></div><div class=\"1138\" style=\"display: none;\"><div style=\"display: table-cell;\"></div><div style=\"display: table-cell;\">margin&nbsp;=&nbsp;(0, 0, 0, 0),</div></div><div class=\"1138\" style=\"display: none;\"><div style=\"display: table-cell;\"></div><div style=\"display: table-cell;\">match_aspect&nbsp;=&nbsp;False,</div></div><div class=\"1138\" style=\"display: none;\"><div style=\"display: table-cell;\"></div><div style=\"display: table-cell;\">max_height&nbsp;=&nbsp;None,</div></div><div class=\"1138\" style=\"display: none;\"><div style=\"display: table-cell;\"></div><div style=\"display: table-cell;\">max_width&nbsp;=&nbsp;None,</div></div><div class=\"1138\" style=\"display: none;\"><div style=\"display: table-cell;\"></div><div style=\"display: table-cell;\">min_border&nbsp;=&nbsp;5,</div></div><div class=\"1138\" style=\"display: none;\"><div style=\"display: table-cell;\"></div><div style=\"display: table-cell;\">min_border_bottom&nbsp;=&nbsp;None,</div></div><div class=\"1138\" style=\"display: none;\"><div style=\"display: table-cell;\"></div><div style=\"display: table-cell;\">min_border_left&nbsp;=&nbsp;None,</div></div><div class=\"1138\" style=\"display: none;\"><div style=\"display: table-cell;\"></div><div style=\"display: table-cell;\">min_border_right&nbsp;=&nbsp;None,</div></div><div class=\"1138\" style=\"display: none;\"><div style=\"display: table-cell;\"></div><div style=\"display: table-cell;\">min_border_top&nbsp;=&nbsp;None,</div></div><div class=\"1138\" style=\"display: none;\"><div style=\"display: table-cell;\"></div><div style=\"display: table-cell;\">min_height&nbsp;=&nbsp;None,</div></div><div class=\"1138\" style=\"display: none;\"><div style=\"display: table-cell;\"></div><div style=\"display: table-cell;\">min_width&nbsp;=&nbsp;None,</div></div><div class=\"1138\" style=\"display: none;\"><div style=\"display: table-cell;\"></div><div style=\"display: table-cell;\">name&nbsp;=&nbsp;None,</div></div><div class=\"1138\" style=\"display: none;\"><div style=\"display: table-cell;\"></div><div style=\"display: table-cell;\">outline_line_alpha&nbsp;=&nbsp;1.0,</div></div><div class=\"1138\" style=\"display: none;\"><div style=\"display: table-cell;\"></div><div style=\"display: table-cell;\">outline_line_cap&nbsp;=&nbsp;'butt',</div></div><div class=\"1138\" style=\"display: none;\"><div style=\"display: table-cell;\"></div><div style=\"display: table-cell;\">outline_line_color&nbsp;=&nbsp;'#e5e5e5',</div></div><div class=\"1138\" style=\"display: none;\"><div style=\"display: table-cell;\"></div><div style=\"display: table-cell;\">outline_line_dash&nbsp;=&nbsp;[],</div></div><div class=\"1138\" style=\"display: none;\"><div style=\"display: table-cell;\"></div><div style=\"display: table-cell;\">outline_line_dash_offset&nbsp;=&nbsp;0,</div></div><div class=\"1138\" style=\"display: none;\"><div style=\"display: table-cell;\"></div><div style=\"display: table-cell;\">outline_line_join&nbsp;=&nbsp;'bevel',</div></div><div class=\"1138\" style=\"display: none;\"><div style=\"display: table-cell;\"></div><div style=\"display: table-cell;\">outline_line_width&nbsp;=&nbsp;1,</div></div><div class=\"1138\" style=\"display: none;\"><div style=\"display: table-cell;\"></div><div style=\"display: table-cell;\">output_backend&nbsp;=&nbsp;'canvas',</div></div><div class=\"1138\" style=\"display: none;\"><div style=\"display: table-cell;\"></div><div style=\"display: table-cell;\">plot_height&nbsp;=&nbsp;300,</div></div><div class=\"1138\" style=\"display: none;\"><div style=\"display: table-cell;\"></div><div style=\"display: table-cell;\">plot_width&nbsp;=&nbsp;800,</div></div><div class=\"1138\" style=\"display: none;\"><div style=\"display: table-cell;\"></div><div style=\"display: table-cell;\">renderers&nbsp;=&nbsp;[GlyphRenderer(id='1033', ...), GlyphRenderer(id='1048', ...)],</div></div><div class=\"1138\" style=\"display: none;\"><div style=\"display: table-cell;\"></div><div style=\"display: table-cell;\">reset_policy&nbsp;=&nbsp;'standard',</div></div><div class=\"1138\" style=\"display: none;\"><div style=\"display: table-cell;\"></div><div style=\"display: table-cell;\">right&nbsp;=&nbsp;[LinearAxis(id='1060', ...)],</div></div><div class=\"1138\" style=\"display: none;\"><div style=\"display: table-cell;\"></div><div style=\"display: table-cell;\">sizing_mode&nbsp;=&nbsp;None,</div></div><div class=\"1138\" style=\"display: none;\"><div style=\"display: table-cell;\"></div><div style=\"display: table-cell;\">subscribed_events&nbsp;=&nbsp;[],</div></div><div class=\"1138\" style=\"display: none;\"><div style=\"display: table-cell;\"></div><div style=\"display: table-cell;\">tags&nbsp;=&nbsp;[],</div></div><div class=\"1138\" style=\"display: none;\"><div style=\"display: table-cell;\"></div><div style=\"display: table-cell;\">title&nbsp;=&nbsp;Title(id='1003', ...),</div></div><div class=\"1138\" style=\"display: none;\"><div style=\"display: table-cell;\"></div><div style=\"display: table-cell;\">title_location&nbsp;=&nbsp;'above',</div></div><div class=\"1138\" style=\"display: none;\"><div style=\"display: table-cell;\"></div><div style=\"display: table-cell;\">toolbar&nbsp;=&nbsp;Toolbar(id='1025', ...),</div></div><div class=\"1138\" style=\"display: none;\"><div style=\"display: table-cell;\"></div><div style=\"display: table-cell;\">toolbar_location&nbsp;=&nbsp;'above',</div></div><div class=\"1138\" style=\"display: none;\"><div style=\"display: table-cell;\"></div><div style=\"display: table-cell;\">toolbar_sticky&nbsp;=&nbsp;True,</div></div><div class=\"1138\" style=\"display: none;\"><div style=\"display: table-cell;\"></div><div style=\"display: table-cell;\">visible&nbsp;=&nbsp;True,</div></div><div class=\"1138\" style=\"display: none;\"><div style=\"display: table-cell;\"></div><div style=\"display: table-cell;\">width&nbsp;=&nbsp;None,</div></div><div class=\"1138\" style=\"display: none;\"><div style=\"display: table-cell;\"></div><div style=\"display: table-cell;\">width_policy&nbsp;=&nbsp;'auto',</div></div><div class=\"1138\" style=\"display: none;\"><div style=\"display: table-cell;\"></div><div style=\"display: table-cell;\">x_range&nbsp;=&nbsp;Range1d(id='1005', ...),</div></div><div class=\"1138\" style=\"display: none;\"><div style=\"display: table-cell;\"></div><div style=\"display: table-cell;\">x_scale&nbsp;=&nbsp;LinearScale(id='1009', ...),</div></div><div class=\"1138\" style=\"display: none;\"><div style=\"display: table-cell;\"></div><div style=\"display: table-cell;\">y_range&nbsp;=&nbsp;Range1d(id='1007', ...),</div></div><div class=\"1138\" style=\"display: none;\"><div style=\"display: table-cell;\"></div><div style=\"display: table-cell;\">y_scale&nbsp;=&nbsp;LinearScale(id='1011', ...))</div></div></div>\n",
       "<script>\n",
       "(function() {\n",
       "  var expanded = false;\n",
       "  var ellipsis = document.getElementById(\"1139\");\n",
       "  ellipsis.addEventListener(\"click\", function() {\n",
       "    var rows = document.getElementsByClassName(\"1138\");\n",
       "    for (var i = 0; i < rows.length; i++) {\n",
       "      var el = rows[i];\n",
       "      el.style.display = expanded ? \"none\" : \"table-row\";\n",
       "    }\n",
       "    ellipsis.innerHTML = expanded ? \"&hellip;)\" : \"&lsaquo;&lsaquo;&lsaquo;\";\n",
       "    expanded = !expanded;\n",
       "  });\n",
       "})();\n",
       "</script>\n"
      ],
      "text/plain": [
       "Figure(id='1002', ...)"
      ]
     },
     "execution_count": 8,
     "metadata": {},
     "output_type": "execute_result"
    }
   ],
   "source": [
    "prof.visualize()"
   ]
  },
  {
   "cell_type": "code",
   "execution_count": 9,
   "metadata": {},
   "outputs": [
    {
     "data": {
      "text/plain": [
       "count    10000.000000\n",
       "mean         0.143656\n",
       "std          0.342490\n",
       "min          0.000014\n",
       "25%          0.000385\n",
       "50%          0.001735\n",
       "75%          0.036393\n",
       "max          1.974507\n",
       "dtype: float64"
      ]
     },
     "execution_count": 9,
     "metadata": {},
     "output_type": "execute_result"
    }
   ],
   "source": [
    "pd.Series(m).describe()"
   ]
  },
  {
   "cell_type": "code",
   "execution_count": 10,
   "metadata": {},
   "outputs": [
    {
     "data": {
      "text/plain": [
       "<AxesSubplot:ylabel='Frequency'>"
      ]
     },
     "execution_count": 10,
     "metadata": {},
     "output_type": "execute_result"
    },
    {
     "data": {
      "image/png": "[encoded data removed]",
      "text/plain": [
       "<Figure size 432x288 with 1 Axes>"
      ]
     },
     "metadata": {
      "needs_background": "light"
     },
     "output_type": "display_data"
    }
   ],
   "source": [
    "pd.Series(m).plot(kind='hist')"
   ]
  },
  {
   "cell_type": "markdown",
   "metadata": {},
   "source": [
    "-----\n",
    "\n",
    "CBGEN"
   ]
  },
  {
   "cell_type": "code",
   "execution_count": 6,
   "metadata": {},
   "outputs": [
    {
     "data": {
      "text/html": [
       "<table>\n",
       "<tr>\n",
       "<td>\n",
       "<table>\n",
       "  <thead>\n",
       "    <tr><td> </td><th> Array </th><th> Chunk </th></tr>\n",
       "  </thead>\n",
       "  <tbody>\n",
       "    <tr><th> Bytes </th><td> 40.00 kB </td> <td> 4.10 kB </td></tr>\n",
       "    <tr><th> Shape </th><td> (10000,) </td> <td> (1024,) </td></tr>\n",
       "    <tr><th> Count </th><td> 271 Tasks </td><td> 10 Chunks </td></tr>\n",
       "    <tr><th> Type </th><td> float32 </td><td> numpy.ndarray </td></tr>\n",
       "  </tbody>\n",
       "</table>\n",
       "</td>\n",
       "<td>\n",
       "<svg width=\"170\" height=\"75\" style=\"stroke:rgb(0,0,0);stroke-width:1\" >\n",
       "\n",
       "  <!-- Horizontal lines -->\n",
       "  <line x1=\"0\" y1=\"0\" x2=\"120\" y2=\"0\" style=\"stroke-width:2\" />\n",
       "  <line x1=\"0\" y1=\"25\" x2=\"120\" y2=\"25\" style=\"stroke-width:2\" />\n",
       "\n",
       "  <!-- Vertical lines -->\n",
       "  <line x1=\"0\" y1=\"0\" x2=\"0\" y2=\"25\" style=\"stroke-width:2\" />\n",
       "  <line x1=\"12\" y1=\"0\" x2=\"12\" y2=\"25\" />\n",
       "  <line x1=\"24\" y1=\"0\" x2=\"24\" y2=\"25\" />\n",
       "  <line x1=\"36\" y1=\"0\" x2=\"36\" y2=\"25\" />\n",
       "  <line x1=\"49\" y1=\"0\" x2=\"49\" y2=\"25\" />\n",
       "  <line x1=\"61\" y1=\"0\" x2=\"61\" y2=\"25\" />\n",
       "  <line x1=\"73\" y1=\"0\" x2=\"73\" y2=\"25\" />\n",
       "  <line x1=\"86\" y1=\"0\" x2=\"86\" y2=\"25\" />\n",
       "  <line x1=\"98\" y1=\"0\" x2=\"98\" y2=\"25\" />\n",
       "  <line x1=\"110\" y1=\"0\" x2=\"110\" y2=\"25\" />\n",
       "  <line x1=\"120\" y1=\"0\" x2=\"120\" y2=\"25\" style=\"stroke-width:2\" />\n",
       "\n",
       "  <!-- Colored Rectangle -->\n",
       "  <polygon points=\"0.000000,0.000000 120.000000,0.000000 120.000000,25.412617 0.000000,25.412617\" style=\"fill:#ECB172A0;stroke-width:0\"/>\n",
       "\n",
       "  <!-- Text -->\n",
       "  <text x=\"60.000000\" y=\"45.412617\" font-size=\"1.0rem\" font-weight=\"100\" text-anchor=\"middle\" >10000</text>\n",
       "  <text x=\"140.000000\" y=\"12.706308\" font-size=\"1.0rem\" font-weight=\"100\" text-anchor=\"middle\" transform=\"rotate(0,140.000000,12.706308)\">1</text>\n",
       "</svg>\n",
       "</td>\n",
       "</tr>\n",
       "</table>"
      ],
      "text/plain": [
       "dask.array<mean_agg-aggregate, shape=(10000,), dtype=float32, chunksize=(1024,), chunktype=numpy.ndarray>"
      ]
     },
     "execution_count": 6,
     "metadata": {},
     "output_type": "execute_result"
    }
   ],
   "source": [
    "from sgkit_bgen.cbgen_reader import read_bgen as cgben_read_bgen\n",
    "ds = cgben_read_bgen(path=bgen_path, chunks=(n_variants, n_samples))\n",
    "arr = get_arr(ds)\n",
    "arr"
   ]
  },
  {
   "cell_type": "code",
   "execution_count": 7,
   "metadata": {},
   "outputs": [
    {
     "name": "stdout",
     "output_type": "stream",
     "text": [
      "[########################################] | 100% Completed |  7min 27.2s\n",
      "CPU times: user 6.28 s, sys: 1.22 s, total: 7.5 s\n",
      "Wall time: 7min 27s\n"
     ]
    }
   ],
   "source": [
    "%%time\n",
    "with ProgressBar(), ResourceProfiler() as prof:\n",
    "    m = arr.compute(scheduler='processes')"
   ]
  },
  {
   "cell_type": "code",
   "execution_count": 8,
   "metadata": {},
   "outputs": [
    {
     "data": {
      "text/html": [
       "\n",
       "\n",
       "\n",
       "\n",
       "\n",
       "\n",
       "  <div class=\"bk-root\" id=\"b7236eeb-31af-4de1-a019-2af33b3b5b1f\" data-root-id=\"1002\"></div>\n"
      ]
     },
     "metadata": {},
     "output_type": "display_data"
    },
    {
     "data": {
      "application/javascript": [
       "(function(root) {\n",
       "  function embed_document(root) {\n",
       "    \n",
       "  var docs_json = {\"1147654c-d34f-49ab-be52-d4f0a736b631\":{\"roots\":{\"references\":[{\"attributes\":{\"below\":[{\"id\":\"1013\"}],\"center\":[{\"id\":\"1016\"},{\"id\":\"1020\"},{\"id\":\"1042\"}],\"extra_y_ranges\":{\"memory\":{\"id\":\"1044\"}},\"left\":[{\"id\":\"1017\"}],\"plot_height\":300,\"plot_width\":800,\"renderers\":[{\"id\":\"1033\"},{\"id\":\"1048\"}],\"right\":[{\"id\":\"1060\"}],\"title\":{\"id\":\"1003\"},\"toolbar\":{\"id\":\"1025\"},\"toolbar_location\":\"above\",\"x_range\":{\"id\":\"1005\"},\"x_scale\":{\"id\":\"1009\"},\"y_range\":{\"id\":\"1007\"},\"y_scale\":{\"id\":\"1011\"}},\"id\":\"1002\",\"subtype\":\"Figure\",\"type\":\"Plot\"},{\"attributes\":{\"dimensions\":\"width\"},\"id\":\"1023\",\"type\":\"WheelZoomTool\"},{\"attributes\":{\"dimensions\":\"width\"},\"id\":\"1024\",\"type\":\"PanTool\"},{\"attributes\":{\"label\":{\"value\":\"Memory\"},\"renderers\":[{\"id\":\"1048\"}]},\"id\":\"1059\",\"type\":\"LegendItem\"},{\"attributes\":{\"source\":{\"id\":\"1045\"}},\"id\":\"1049\",\"type\":\"CDSView\"},{\"attributes\":{\"end\":400.6},\"id\":\"1007\",\"type\":\"Range1d\"},{\"attributes\":{},\"id\":\"1040\",\"type\":\"UnionRenderers\"},{\"attributes\":{},\"id\":\"1057\",\"type\":\"UnionRenderers\"},{\"attributes\":{},\"id\":\"1058\",\"type\":\"Selection\"},{\"attributes\":{},\"id\":\"1009\",\"type\":\"LinearScale\"},{\"attributes\":{\"axis_label\":\"Memory (MB)\",\"formatter\":{\"id\":\"1062\"},\"ticker\":{\"id\":\"1063\"},\"y_range_name\":\"memory\"},\"id\":\"1060\",\"type\":\"LinearAxis\"},{\"attributes\":{},\"id\":\"1011\",\"type\":\"LinearScale\"},{\"attributes\":{\"items\":[{\"id\":\"1043\"},{\"id\":\"1059\"}]},\"id\":\"1042\",\"type\":\"Legend\"},{\"attributes\":{\"line_color\":\"#440154\",\"line_width\":4,\"x\":{\"field\":\"x\"},\"y\":{\"field\":\"y\"}},\"id\":\"1031\",\"type\":\"Line\"},{\"attributes\":{},\"id\":\"1036\",\"type\":\"BasicTickFormatter\"},{\"attributes\":{\"axis_label\":\"Time (s)\",\"formatter\":{\"id\":\"1038\"},\"ticker\":{\"id\":\"1014\"}},\"id\":\"1013\",\"type\":\"LinearAxis\"},{\"attributes\":{},\"id\":\"1038\",\"type\":\"BasicTickFormatter\"},{\"attributes\":{},\"id\":\"1062\",\"type\":\"BasicTickFormatter\"},{\"attributes\":{\"line_alpha\":0.1,\"line_color\":\"#440154\",\"line_width\":4,\"x\":{\"field\":\"x\"},\"y\":{\"field\":\"y\"}},\"id\":\"1032\",\"type\":\"Line\"},{\"attributes\":{},\"id\":\"1018\",\"type\":\"BasicTicker\"},{\"attributes\":{},\"id\":\"1063\",\"type\":\"BasicTicker\"},{\"attributes\":{},\"id\":\"1014\",\"type\":\"BasicTicker\"},{\"attributes\":{\"axis\":{\"id\":\"1013\"},\"ticker\":null},\"id\":\"1016\",\"type\":\"Grid\"},{\"attributes\":{\"data_source\":{\"id\":\"1030\"},\"glyph\":{\"id\":\"1031\"},\"hover_glyph\":null,\"muted_glyph\":null,\"nonselection_glyph\":{\"id\":\"1032\"},\"selection_glyph\":null,\"view\":{\"id\":\"1034\"}},\"id\":\"1033\",\"type\":\"GlyphRenderer\"},{\"attributes\":{\"axis\":{\"id\":\"1017\"},\"dimension\":1,\"ticker\":null},\"id\":\"1020\",\"type\":\"Grid\"},{\"attributes\":{\"source\":{\"id\":\"1030\"}},\"id\":\"1034\",\"type\":\"CDSView\"},{\"attributes\":{\"axis_label\":\"% CPU\",\"formatter\":{\"id\":\"1036\"},\"ticker\":{\"id\":\"1018\"}},\"id\":\"1017\",\"type\":\"LinearAxis\"},{\"attributes\":{\"end\":446.8709169630001},\"id\":\"1005\",\"type\":\"Range1d\"},{\"attributes\":{\"active_drag\":\"auto\",\"active_inspect\":\"auto\",\"active_multi\":null,\"active_scroll\":\"auto\",\"active_tap\":\"auto\",\"tools\":[{\"id\":\"1021\"},{\"id\":\"1022\"},{\"id\":\"1023\"},{\"id\":\"1024\"}]},\"id\":\"1025\",\"type\":\"Toolbar\"},{\"attributes\":{},\"id\":\"1022\",\"type\":\"ResetTool\"},{\"attributes\":{\"line_alpha\":0.1,\"line_color\":\"#29788E\",\"line_width\":4,\"x\":{\"field\":\"x\"},\"y\":{\"field\":\"y\"}},\"id\":\"1047\",\"type\":\"Line\"},{\"attributes\":{\"line_color\":\"#29788E\",\"line_width\":4,\"x\":{\"field\":\"x\"},\"y\":{\"field\":\"y\"}},\"id\":\"1046\",\"type\":\"Line\"},{\"attributes\":{\"label\":{\"value\":\"% CPU\"},\"renderers\":[{\"id\":\"1033\"}]},\"id\":\"1043\",\"type\":\"LegendItem\"},{\"attributes\":{\"data\":{\"x\":[0.0,1.0056742790002318,2.0075085090002176,3.0091951089998474,4.011079375000008,5.012954532000549,6.014828146000582,7.016687815000296,8.018598106999889,9.02048953800022,10.022417363000386,11.024321521000275,12.025214837000021,13.02712788000008,14.029040071000054,15.03098480800054,16.032870338000066,17.034783248000167,18.03666858700035,19.038973867000095,20.041192018999936,21.04313270900002,22.045171559000664,23.047048464,24.048926041999948,25.050837620000493,26.052692681000735,27.054608643999927,28.05648170099994,29.058408937000422,30.06026314800056,31.061199479000607,32.06307182199998,33.06500221600072,34.07056991599984,35.072461664,36.07439586300006,37.076289394000014,38.077209490000314,39.079128655000204,40.08100735300013,41.08292622600038,42.0848111410005,43.08677551300025,44.08867708900016,45.09111478400064,46.09308465600043,47.09517736399994,48.09705993600073,49.09896697300064,50.10083762500017,51.10277370800031,52.10492780200002,53.10685322000063,54.10877792300016,55.11069828900054,56.11260289500024,57.11454280700036,58.11642561000008,59.11835214100029,60.120214110000234,61.12119484699997,62.12306392700066,63.12496452400046,64.12689365200004,65.12881338600073,66.1309598150001,67.13286118900032,68.1348165950003,69.13685101800002,70.13879939400067,71.14086782600043,72.14283298900045,73.14470102399991,74.14663230000042,75.14853475700056,76.1505482270004,77.15248063000035,78.1545945050002,79.1564687730006,80.15839245999996,81.160289423,82.16223386399997,83.16410176699992,84.16520021799988,85.16708297400055,86.16895142500016,87.17087780700058,88.17274396199991,89.17467844900057,90.17658401600056,91.17874499200025,92.18071452100048,93.18258524500015,94.18443811199995,95.18633017600041,96.18825845599986,97.18919883499984,98.19106731300053,99.1929539040002,100.19483020300049,101.19681526800014,102.1987216260004,103.20318700999997,104.20518787400033,105.20741814800022,106.20922846300073,107.21111514899985,108.21303073700074,109.21490468200045,110.21677875700061,111.21869664499991,112.22054232200026,113.22241377099999,114.22432454600039,115.2262297240004,116.22812001300008,117.22918999900048,118.23106767300033,119.23296374000074,120.23488058200019,121.23679702300069,122.23871469500045,123.24058963800053,124.24250180900071,125.24446932800038,126.24638506500014,127.24830013200062,128.24921945900041,129.25110520100043,130.25303282700042,131.25494909700046,132.2568091230005,133.25870454800042,134.26060539399987,135.26256962700063,136.2646470030004,137.26656906300013,138.26843082200048,139.2703310500001,140.27220055500038,141.27320855500056,142.27506714500032,143.27695335800036,144.27880953100066,145.2807773680006,146.28278810900065,147.28468658700058,148.2866272250003,149.2885103890003,150.29044577600052,151.29234795499997,152.29425155199988,153.2960960800001,154.2972030840001,155.2992714790007,156.3012320450007,157.30342595100046,158.30519295500017,159.30704364200028,160.30906841100023,161.3109534820005,162.31283460900067,163.31475459500052,164.31689076300063,165.31930888900024,166.3211952390002,167.3230570020005,168.32491902200036,169.32676973700018,170.32877032000033,171.33071559200016,172.33259534800072,173.33448685200074,174.33640609300073,175.33833000600043,176.34022737099986,177.34251221000068,178.3443896380004,179.34639251299996,180.348273953,181.34919951700067,182.35108161100015,183.35295258899987,184.35492290900038,185.35718934000033,186.35910603400043,187.36119966100068,188.36312577399985,189.36517970600016,190.3670311120004,191.36901630100056,192.3714176530002,193.37319575400034,194.37510336200012,195.3770290120001,196.37890965299994,197.38079126899993,198.38270919500064,199.38464241700058,200.38670548900063,201.38858864300073,202.39063089000047,203.3925381910003,204.3946467350006,205.39658055700056,206.39871674700044,207.40062183100054,208.40251193299991,209.40438813200035,210.40632613800062,211.40847490299984,212.41063492400008,213.41281250200063,214.4149437820006,215.41685661100018,216.41878603500027,217.42068018200007,218.42258062700057,219.42433718200027,220.4263544840005,221.4282559480007,222.4292002530001,223.43106243900002,224.43294542700005,225.43483388500044,226.4372077930002,227.43923888600057,228.44116667600065,229.44306674400013,230.4449659490001,231.44688079300067,232.44877114700012,233.45068849700056,234.45293058800053,235.4550278300003,236.4569359390007,237.45880503900025,238.46070780399987,239.46265447400037,240.46456747699995,241.4664907209999,242.46840892700038,243.47034525800063,244.47224449400073,245.47327869299988,246.4754186680002,247.47723194900027,248.47919277500023,249.4810909530006,250.48294878400065,251.48482623700056,252.48672271600026,253.4886115420004,254.49054830400019,255.49241519899988,256.494369299,257.4962392309999,258.49719014699986,259.4990533420005,260.50100183999984,261.50291631800064,262.5048016790006,263.5067671000006,264.5086864350005,265.51065809100055,266.51254527900073,267.5144675490001,268.51637493700036,269.51831793600013,270.52024437399996,271.52121445600005,272.52355561900004,273.52522932300053,274.5277039450002,275.5292064670002,276.53111906899994,277.5332081030001,278.53511692400025,279.5370397200004,280.539201906,281.541207104,282.54311803200017,283.5450844390007,284.5475719619999,285.5492013580006,286.55109140900004,287.5529912310003,288.5549069150002,289.5568051480004,290.5587699050002,291.5611802500007,292.56311267300043,293.56502150600045,294.566992692,295.5689004880005,296.5708421899999,297.5727408370003,298.5746981709999,299.5766972480005,300.57862930100055,301.58053214100073,302.58250039700033,303.5844282240005,304.5867519359999,305.5886943350006,306.59107034499993,307.5929668530007,308.59490215799997,309.5968294049999,310.5987681530005,311.6006814100001,312.60265107300074,313.60456051500023,314.606513793,315.60843926800044,316.6109378460005,317.61289954099993,318.61528371199984,319.61720526499994,320.6191117520002,321.6210097100002,322.6229514910001,323.62485173000005,324.6268217810002,325.63524094200056,326.63715129200045,327.63908653900035,328.6410401970006,329.64297624700066,330.6448620830006,331.6467666940007,332.64868743399984,333.6506466589999,334.652576984,335.65492682900003,336.6568583500002,337.65887283100074,338.6608015950005,339.6627629630002,340.66466936300003,341.6666069160001,342.6687382810005,343.67075325099995,344.67263684000045,345.6746888960006,346.67667353900015,347.6787656920005,348.68069453499993,349.68259871100054,350.6845317850002,351.6864849530002,352.6883820460007,353.6903335420002,354.69227806100025,355.6944051820001,356.6962871040005,357.6971989470003,358.6991177890004,359.70099905500047,360.70289427199987,361.7048490540001,362.7068557500006,363.7092151960005,364.71112355600053,365.71303866200014,366.7149378080003,367.71690150999984,368.7193583830003,369.7212133010007,370.7231475970002,371.72508492900033,372.7270090330003,373.7289320200007,374.7308618950001,375.7328282560002,376.7347761130004,377.73672000900024,378.73860841199985,379.7407362260001,380.74284186100067,381.7447516940001,382.74679819799985,383.7487207430004,384.7506409540001,385.7525596380001,386.7549739120004,387.756883731,388.7587912429999,389.7606524920002,390.7630049110003,391.76493306700013,392.7669177759999,393.7688355150003,394.77078915699985,395.7727243870004,396.7747298530003,397.7767339380007,398.7787902610007,399.78070179800034,400.7830619790002,401.784953331,402.78686728200046,403.7887679780006,404.79072362700026,405.79291305100014,406.7948530390004,407.79682880400014,408.7987251760005,409.8007081880005,410.8026756620002,411.80460968900024,412.8065852939999,413.8084815680004,414.81043117599984,415.81234288199994,416.8142425390006,417.8161142220006,418.81753801000013,419.8194835490003,420.8212125,421.82312207500036,422.8250207410001,423.8268979130007,424.8288626950007,425.83079288800036,426.8326699899999,427.8346143260005,428.83649593500013,429.8386117990003,430.84050297700014,431.84246829600033,432.8443471549999,433.8463102450005,434.8481799130004,435.8491983240001,436.85107425800015,437.8531419730007,438.8553840029999,439.8572005370006,440.85909424700003,441.8609827830005,442.8629207439999,443.8648195579999,444.86676446100046,445.8685753489999,446.8709169630001],\"y\":[0.0,9.0,392.2,398.2,387.2,396.2,398.2,395.2,395.2,398.2,394.2,395.2,396.6,395.2,397.2,396.2,397.2,396.2,395.2,381.2,394.2,394.2,397.2,394.2,398.2,391.2,397.2,395.2,397.2,396.2,396.2,393.6,397.2,395.70000000000005,394.2,398.2,395.2,394.2,400.6,395.2,394.2,396.2,397.2,395.2,397.2,395.2,397.2,393.2,394.2,399.2,396.2,394.2,395.2,396.2,393.2,394.2,394.2,392.2,397.2,397.2,396.2,395.6,395.2,396.2,394.2,397.2,395.2,395.2,398.2,395.2,396.2,397.2,395.2,397.2,394.2,398.2,394.2,398.2,389.2,391.2,397.2,395.2,395.2,396.2,396.6,395.2,396.2,395.2,394.2,396.2,394.2,396.2,396.2,394.2,395.2,396.2,395.2,394.6,397.2,396.2,394.2,397.2,397.2,395.29999999999995,396.2,393.2,396.2,395.2,396.2,397.2,394.2,395.2,395.2,398.2,395.2,397.2,395.2,395.6,395.2,395.2,394.2,399.2,395.2,397.2,394.2,391.2,383.2,397.2,398.6,392.2,398.2,396.2,392.2,392.2,396.2,394.2,399.2,394.2,393.2,392.2,393.2,395.6,398.2,397.2,395.2,397.2,397.2,395.2,396.2,393.2,396.2,394.2,397.2,394.2,398.6,394.2,396.2,396.2,397.2,393.2,395.2,395.2,394.2,395.2,396.2,394.2,398.2,397.2,396.2,396.2,398.2,393.2,397.2,397.2,395.2,391.2,395.2,395.2,396.2,396.2,394.2,396.6,396.2,396.2,396.2,396.2,399.2,392.2,393.09999999999997,398.29999999999995,397.2,397.2,393.2,398.2,396.2,396.2,397.2,396.2,393.2,395.2,393.2,399.2,394.2,396.2,395.2,396.2,397.2,398.2,394.2,397.2,397.2,395.2,396.2,395.2,393.2,394.2,398.2,396.2,396.2,394.2,398.2,396.2,395.6,395.2,399.2,393.2,397.2,395.2,398.2,396.2,396.2,394.2,400.2,393.2,396.2,396.2,397.2,396.2,398.2,395.2,396.2,393.2,395.2,398.2,396.2,398.6,395.2,395.2,395.2,396.2,396.2,398.2,395.2,397.2,396.2,394.2,398.2,394.2,390.6,394.2,395.2,397.2,396.2,395.2,398.2,395.2,396.2,396.2,394.2,394.2,397.2,396.6,393.2,397.2,397.2,395.40000000000003,395.2,397.2,396.2,396.2,396.2,395.2,397.2,397.2,394.2,398.2,396.2,397.2,395.2,396.2,397.2,394.2,395.2,395.2,397.2,391.2,394.2,395.2,396.2,395.2,396.2,399.2,393.2,398.2,394.2,396.2,396.2,396.2,397.2,397.2,394.2,396.2,399.2,395.2,394.2,397.2,396.2,395.2,390.2,395.2,396.2,397.2,395.2,396.2,397.2,396.8,394.2,393.2,397.2,396.2,397.2,395.2,396.2,395.2,398.2,395.2,396.2,393.2,396.2,399.2,397.2,395.2,395.2,395.2,397.2,394.2,398.2,394.2,396.2,396.2,396.2,397.2,395.2,398.2,392.2,395.2,395.2,397.6,396.2,396.2,397.2,395.2,397.2,397.2,393.2,396.2,396.2,398.2,394.2,398.4,394.2,398.2,393.2,396.2,397.2,396.2,395.2,398.2,387.2,396.2,395.2,398.2,394.2,396.2,395.2,395.2,396.2,397.2,395.2,396.2,395.2,397.2,396.2,396.2,394.2,397.2,396.2,394.2,398.2,398.2,393.2,400.2,394.2,395.2,396.2,396.2,396.2,395.2,397.2,395.2,395.2,397.2,395.2,396.2,395.2,389.2,399.2,395.2,396.6,395.2,396.2,394.2,396.2,395.2,398.2,395.2,397.2,398.2,396.2,395.2,395.2,396.2,396.2,394.2,397.2,397.6,394.2,398.2,387.2,395.2,396.2,398.2,393.2,398.2,318.4,301.4,240.5]},\"selected\":{\"id\":\"1041\"},\"selection_policy\":{\"id\":\"1040\"}},\"id\":\"1030\",\"type\":\"ColumnDataSource\"},{\"attributes\":{\"end\":3497.611264,\"start\":306.786304},\"id\":\"1044\",\"type\":\"Range1d\"},{\"attributes\":{\"data_source\":{\"id\":\"1045\"},\"glyph\":{\"id\":\"1046\"},\"hover_glyph\":null,\"muted_glyph\":null,\"nonselection_glyph\":{\"id\":\"1047\"},\"selection_glyph\":null,\"view\":{\"id\":\"1049\"},\"y_range_name\":\"memory\"},\"id\":\"1048\",\"type\":\"GlyphRenderer\"},{\"attributes\":{},\"id\":\"1041\",\"type\":\"Selection\"},{\"attributes\":{},\"id\":\"1021\",\"type\":\"SaveTool\"},{\"attributes\":{\"data\":{\"x\":[0.0,1.0056742790002318,2.0075085090002176,3.0091951089998474,4.011079375000008,5.012954532000549,6.014828146000582,7.016687815000296,8.018598106999889,9.02048953800022,10.022417363000386,11.024321521000275,12.025214837000021,13.02712788000008,14.029040071000054,15.03098480800054,16.032870338000066,17.034783248000167,18.03666858700035,19.038973867000095,20.041192018999936,21.04313270900002,22.045171559000664,23.047048464,24.048926041999948,25.050837620000493,26.052692681000735,27.054608643999927,28.05648170099994,29.058408937000422,30.06026314800056,31.061199479000607,32.06307182199998,33.06500221600072,34.07056991599984,35.072461664,36.07439586300006,37.076289394000014,38.077209490000314,39.079128655000204,40.08100735300013,41.08292622600038,42.0848111410005,43.08677551300025,44.08867708900016,45.09111478400064,46.09308465600043,47.09517736399994,48.09705993600073,49.09896697300064,50.10083762500017,51.10277370800031,52.10492780200002,53.10685322000063,54.10877792300016,55.11069828900054,56.11260289500024,57.11454280700036,58.11642561000008,59.11835214100029,60.120214110000234,61.12119484699997,62.12306392700066,63.12496452400046,64.12689365200004,65.12881338600073,66.1309598150001,67.13286118900032,68.1348165950003,69.13685101800002,70.13879939400067,71.14086782600043,72.14283298900045,73.14470102399991,74.14663230000042,75.14853475700056,76.1505482270004,77.15248063000035,78.1545945050002,79.1564687730006,80.15839245999996,81.160289423,82.16223386399997,83.16410176699992,84.16520021799988,85.16708297400055,86.16895142500016,87.17087780700058,88.17274396199991,89.17467844900057,90.17658401600056,91.17874499200025,92.18071452100048,93.18258524500015,94.18443811199995,95.18633017600041,96.18825845599986,97.18919883499984,98.19106731300053,99.1929539040002,100.19483020300049,101.19681526800014,102.1987216260004,103.20318700999997,104.20518787400033,105.20741814800022,106.20922846300073,107.21111514899985,108.21303073700074,109.21490468200045,110.21677875700061,111.21869664499991,112.22054232200026,113.22241377099999,114.22432454600039,115.2262297240004,116.22812001300008,117.22918999900048,118.23106767300033,119.23296374000074,120.23488058200019,121.23679702300069,122.23871469500045,123.24058963800053,124.24250180900071,125.24446932800038,126.24638506500014,127.24830013200062,128.24921945900041,129.25110520100043,130.25303282700042,131.25494909700046,132.2568091230005,133.25870454800042,134.26060539399987,135.26256962700063,136.2646470030004,137.26656906300013,138.26843082200048,139.2703310500001,140.27220055500038,141.27320855500056,142.27506714500032,143.27695335800036,144.27880953100066,145.2807773680006,146.28278810900065,147.28468658700058,148.2866272250003,149.2885103890003,150.29044577600052,151.29234795499997,152.29425155199988,153.2960960800001,154.2972030840001,155.2992714790007,156.3012320450007,157.30342595100046,158.30519295500017,159.30704364200028,160.30906841100023,161.3109534820005,162.31283460900067,163.31475459500052,164.31689076300063,165.31930888900024,166.3211952390002,167.3230570020005,168.32491902200036,169.32676973700018,170.32877032000033,171.33071559200016,172.33259534800072,173.33448685200074,174.33640609300073,175.33833000600043,176.34022737099986,177.34251221000068,178.3443896380004,179.34639251299996,180.348273953,181.34919951700067,182.35108161100015,183.35295258899987,184.35492290900038,185.35718934000033,186.35910603400043,187.36119966100068,188.36312577399985,189.36517970600016,190.3670311120004,191.36901630100056,192.3714176530002,193.37319575400034,194.37510336200012,195.3770290120001,196.37890965299994,197.38079126899993,198.38270919500064,199.38464241700058,200.38670548900063,201.38858864300073,202.39063089000047,203.3925381910003,204.3946467350006,205.39658055700056,206.39871674700044,207.40062183100054,208.40251193299991,209.40438813200035,210.40632613800062,211.40847490299984,212.41063492400008,213.41281250200063,214.4149437820006,215.41685661100018,216.41878603500027,217.42068018200007,218.42258062700057,219.42433718200027,220.4263544840005,221.4282559480007,222.4292002530001,223.43106243900002,224.43294542700005,225.43483388500044,226.4372077930002,227.43923888600057,228.44116667600065,229.44306674400013,230.4449659490001,231.44688079300067,232.44877114700012,233.45068849700056,234.45293058800053,235.4550278300003,236.4569359390007,237.45880503900025,238.46070780399987,239.46265447400037,240.46456747699995,241.4664907209999,242.46840892700038,243.47034525800063,244.47224449400073,245.47327869299988,246.4754186680002,247.47723194900027,248.47919277500023,249.4810909530006,250.48294878400065,251.48482623700056,252.48672271600026,253.4886115420004,254.49054830400019,255.49241519899988,256.494369299,257.4962392309999,258.49719014699986,259.4990533420005,260.50100183999984,261.50291631800064,262.5048016790006,263.5067671000006,264.5086864350005,265.51065809100055,266.51254527900073,267.5144675490001,268.51637493700036,269.51831793600013,270.52024437399996,271.52121445600005,272.52355561900004,273.52522932300053,274.5277039450002,275.5292064670002,276.53111906899994,277.5332081030001,278.53511692400025,279.5370397200004,280.539201906,281.541207104,282.54311803200017,283.5450844390007,284.5475719619999,285.5492013580006,286.55109140900004,287.5529912310003,288.5549069150002,289.5568051480004,290.5587699050002,291.5611802500007,292.56311267300043,293.56502150600045,294.566992692,295.5689004880005,296.5708421899999,297.5727408370003,298.5746981709999,299.5766972480005,300.57862930100055,301.58053214100073,302.58250039700033,303.5844282240005,304.5867519359999,305.5886943350006,306.59107034499993,307.5929668530007,308.59490215799997,309.5968294049999,310.5987681530005,311.6006814100001,312.60265107300074,313.60456051500023,314.606513793,315.60843926800044,316.6109378460005,317.61289954099993,318.61528371199984,319.61720526499994,320.6191117520002,321.6210097100002,322.6229514910001,323.62485173000005,324.6268217810002,325.63524094200056,326.63715129200045,327.63908653900035,328.6410401970006,329.64297624700066,330.6448620830006,331.6467666940007,332.64868743399984,333.6506466589999,334.652576984,335.65492682900003,336.6568583500002,337.65887283100074,338.6608015950005,339.6627629630002,340.66466936300003,341.6666069160001,342.6687382810005,343.67075325099995,344.67263684000045,345.6746888960006,346.67667353900015,347.6787656920005,348.68069453499993,349.68259871100054,350.6845317850002,351.6864849530002,352.6883820460007,353.6903335420002,354.69227806100025,355.6944051820001,356.6962871040005,357.6971989470003,358.6991177890004,359.70099905500047,360.70289427199987,361.7048490540001,362.7068557500006,363.7092151960005,364.71112355600053,365.71303866200014,366.7149378080003,367.71690150999984,368.7193583830003,369.7212133010007,370.7231475970002,371.72508492900033,372.7270090330003,373.7289320200007,374.7308618950001,375.7328282560002,376.7347761130004,377.73672000900024,378.73860841199985,379.7407362260001,380.74284186100067,381.7447516940001,382.74679819799985,383.7487207430004,384.7506409540001,385.7525596380001,386.7549739120004,387.756883731,388.7587912429999,389.7606524920002,390.7630049110003,391.76493306700013,392.7669177759999,393.7688355150003,394.77078915699985,395.7727243870004,396.7747298530003,397.7767339380007,398.7787902610007,399.78070179800034,400.7830619790002,401.784953331,402.78686728200046,403.7887679780006,404.79072362700026,405.79291305100014,406.7948530390004,407.79682880400014,408.7987251760005,409.8007081880005,410.8026756620002,411.80460968900024,412.8065852939999,413.8084815680004,414.81043117599984,415.81234288199994,416.8142425390006,417.8161142220006,418.81753801000013,419.8194835490003,420.8212125,421.82312207500036,422.8250207410001,423.8268979130007,424.8288626950007,425.83079288800036,426.8326699899999,427.8346143260005,428.83649593500013,429.8386117990003,430.84050297700014,431.84246829600033,432.8443471549999,433.8463102450005,434.8481799130004,435.8491983240001,436.85107425800015,437.8531419730007,438.8553840029999,439.8572005370006,440.85909424700003,441.8609827830005,442.8629207439999,443.8648195579999,444.86676446100046,445.8685753489999,446.8709169630001],\"y\":[306.786304,575.184896,793.116672,967.450624,1020.448768,1054.507008,1103.306752,1154.154496,1198.215168,1231.478784,1310.736384,1342.840832,1391.808512,1437.253632,1466.2656,1533.05088,1556.885504,1596.768256,1645.314048,1678.78656,1705.734144,1756.061696,1812.475904,1871.95392,1914.978304,1960.968192,1988.23936,2034.978816,2083.1232,2127.396864,2206.203904,2231.857152,2267.742208,2330.267648,2359.308288,2385.154048,2445.193216,2502.647808,2546.515968,2591.862784,2643.161088,2689.196032,2727.297024,2783.215616,2807.853056,2887.954432,3467.75552,2775.220224,1004.425216,1061.904384,1087.606784,1112.047616,1177.833472,1229.963264,1263.628288,1307.2384,1362.235392,1397.20704,1456.508928,1498.566656,1535.71328,1583.796224,1626.84928,1676.890112,1719.795712,1771.020288,1819.209728,1855.475712,1904.115712,1949.40928,1977.360384,2065.887232,2094.338048,2140.356608,2187.91936,2267.471872,2292.948992,2337.705984,2387.533824,2423.435264,2477.723648,2517.385216,2563.653632,2599.632896,2645.835776,2692.018176,2748.801024,2786.082816,2830.778368,2895.863808,2402.185216,2972.082176,992.702464,1067.462656,1079.320576,1113.264128,1175.642112,1223.872512,1290.30144,1333.260288,1356.488704,1416.052736,1485.213696,1505.378304,1547.329536,1593.331712,1641.283584,1687.048192,1734.242304,1783.64416,1819.500544,1873.936384,1921.96608,1969.975296,2006.085632,2050.441216,2092.81024,2155.057152,2203.598848,2251.272192,2287.067136,2337.5872,2393.874432,2430.681088,2477.412352,2546.712576,2579.72224,2599.60832,2647.126016,2694.61504,2727.387136,2792.087552,2817.26976,2894.70464,3001.462784,1613.279232,986.03008,1035.264,1081.1392,1129.209856,1208.795136,1242.451968,1268.596736,1323.585536,1360.40448,1429.131264,1453.129728,1519.792128,1546.993664,1598.509056,1645.338624,1692.5696,1736.86784,1802.264576,1848.87296,1884.700672,1927.630848,1982.902272,2039.341056,2076.319744,2145.263616,2186.1376,2221.215744,2270.547968,2328.457216,2375.18848,2415.75936,2461.63456,2519.752704,2566.053888,2601.43104,2654.37184,2701.98784,2748.731392,2837.737472,2851.966976,2896.248832,2835.173376,1409.916928,1003.393024,1050.238976,1096.245248,1142.284288,1198.641152,1250.840576,1272.786944,1324.904448,1366.519808,1393.676288,1440.894976,1473.605632,1520.173056,1557.671936,1605.562368,1639.374848,1683.386368,1731.629056,1771.667456,1817.370624,1873.256448,1922.801664,1966.87872,1985.31072,2026.65984,2096.377856,2094.682112,2144.60416,2209.144832,2247.155712,2278.367232,2327.392256,2377.617408,2413.621248,2458.755072,2498.617344,2532.380672,2578.432,2632.921088,2653.847552,2691.207168,2723.4304,2794.102784,2817.011712,2873.28256,3444.240384,2272.99328,1368.981504,992.382976,1074.229248,1121.144832,1171.267584,1219.190784,1251.332096,1305.96864,1341.816832,1406.103552,1440.313344,1475.813376,1540.120576,1561.206784,1606.92224,1664.405504,1709.195264,1733.435392,1789.288448,1846.607872,1871.609856,1948.786688,1974.530048,2024.873984,2071.269376,2102.771712,2155.70432,2223.730688,2247.7824,2281.291776,2323.509248,2370.41664,2427.772928,2481.68448,2507.69408,2559.881216,2613.600256,2630.406144,2699.833344,2722.095104,2780.880896,2813.661184,2868.035584,2334.703616,2330.103808,1373.405184,1416.364032,1081.335808,1131.700224,1177.84576,1224.00768,1259.47904,1302.515712,1368.403968,1399.296,1436.03712,1484.034048,1528.008704,1555.51744,1599.451136,1639.50592,1689.714688,1717.170176,1763.229696,1815.437312,1859.108864,1893.072896,1936.809984,1991.43424,2021.60128,2060.496896,2105.05728,2147.590144,2187.350016,2239.34464,2281.091072,2320.920576,2352.35328,2401.701888,2429.988864,2478.432256,2522.136576,2563.944448,2618.433536,2638.569472,2685.82912,2738.065408,2781.548544,2811.240448,2972.729344,2481.426432,1869.656064,2387.27168,1386.172416,1054.937088,1092.096,1135.886336,1192.148992,1246.732288,1270.444032,1315.84,1358.102528,1408.88064,1460.514816,1504.731136,1537.839104,1579.266048,1625.554944,1670.569984,1706.426368,1760.321536,1807.872,1840.726016,1896.873984,1950.265344,1980.78464,2039.324672,2063.396864,2106.937344,2161.29536,2205.401088,2240.724992,2293.448704,2361.851904,2373.742592,2429.935616,2478.239744,2509.950976,2562.473984,2595.749888,2668.351488,2682.925056,2748.592128,2772.099072,2815.438848,3497.611264,2371.633152,2650.95168,1359.622144,1025.097728,1061.289984,1125.453824,1159.282688,1204.998144,1240.915968,1317.1712,1341.231104,1390.03904,1434.955776,1469.636608,1536.036864,1573.92896,1626.517504,1647.468544,1701.195776,1758.715904,1792.28672,1830.445056,1876.639744,1921.712128,1966.219264,2023.91552,2059.313152,2125.676544,2149.04832,2202.447872,2251.603968,2286.22336,2326.298624,2394.218496,2414.993408,2459.582464,2505.629696,2551.574528,2587.439104,2638.56128,2687.483904,2721.83296,2773.0944,2804.105216,2959.978496,2338.562048,2377.269248,2477.924352,1002.06592,1025.929216,1066.192896,1105.629184,1148.030976,1185.468416,1233.985536,1293.582336,1315.078144,1375.27296,1383.292928,1432.907776,1486.9504,1520.340992,1573.515264,1602.592768,1643.343872,1681.620992,1725.93152,1762.443264,1818.505216,1852.235776,1912.471552,1933.471744,1988.972544,2012.217344,2073.063424,2108.022784,2148.585472,2188.886016,2229.579776,2270.437376,2328.65792,2660.179968,1956.368384,2000.67072,1336.881152]},\"selected\":{\"id\":\"1058\"},\"selection_policy\":{\"id\":\"1057\"}},\"id\":\"1045\",\"type\":\"ColumnDataSource\"},{\"attributes\":{\"text\":\"Profile Results\"},\"id\":\"1003\",\"type\":\"Title\"}],\"root_ids\":[\"1002\"]},\"title\":\"Bokeh Application\",\"version\":\"2.1.1\"}};\n",
       "  var render_items = [{\"docid\":\"1147654c-d34f-49ab-be52-d4f0a736b631\",\"root_ids\":[\"1002\"],\"roots\":{\"1002\":\"b7236eeb-31af-4de1-a019-2af33b3b5b1f\"}}];\n",
       "  root.Bokeh.embed.embed_items_notebook(docs_json, render_items);\n",
       "\n",
       "  }\n",
       "  if (root.Bokeh !== undefined) {\n",
       "    embed_document(root);\n",
       "  } else {\n",
       "    var attempts = 0;\n",
       "    var timer = setInterval(function(root) {\n",
       "      if (root.Bokeh !== undefined) {\n",
       "        clearInterval(timer);\n",
       "        embed_document(root);\n",
       "      } else {\n",
       "        attempts++;\n",
       "        if (attempts > 100) {\n",
       "          clearInterval(timer);\n",
       "          console.log(\"Bokeh: ERROR: Unable to run BokehJS code because BokehJS library is missing\");\n",
       "        }\n",
       "      }\n",
       "    }, 10, root)\n",
       "  }\n",
       "})(window);"
      ],
      "application/vnd.bokehjs_exec.v0+json": ""
     },
     "metadata": {
      "application/vnd.bokehjs_exec.v0+json": {
       "id": "1002"
      }
     },
     "output_type": "display_data"
    },
    {
     "data": {
      "text/html": [
       "<div style=\"display: table;\"><div style=\"display: table-row;\"><div style=\"display: table-cell;\"><b title=\"bokeh.plotting.figure.Figure\">Figure</b>(</div><div style=\"display: table-cell;\">id&nbsp;=&nbsp;'1002', <span id=\"1139\" style=\"cursor: pointer;\">&hellip;)</span></div></div><div class=\"1138\" style=\"display: none;\"><div style=\"display: table-cell;\"></div><div style=\"display: table-cell;\">above&nbsp;=&nbsp;[],</div></div><div class=\"1138\" style=\"display: none;\"><div style=\"display: table-cell;\"></div><div style=\"display: table-cell;\">align&nbsp;=&nbsp;'start',</div></div><div class=\"1138\" style=\"display: none;\"><div style=\"display: table-cell;\"></div><div style=\"display: table-cell;\">aspect_ratio&nbsp;=&nbsp;None,</div></div><div class=\"1138\" style=\"display: none;\"><div style=\"display: table-cell;\"></div><div style=\"display: table-cell;\">aspect_scale&nbsp;=&nbsp;1,</div></div><div class=\"1138\" style=\"display: none;\"><div style=\"display: table-cell;\"></div><div style=\"display: table-cell;\">background&nbsp;=&nbsp;None,</div></div><div class=\"1138\" style=\"display: none;\"><div style=\"display: table-cell;\"></div><div style=\"display: table-cell;\">background_fill_alpha&nbsp;=&nbsp;1.0,</div></div><div class=\"1138\" style=\"display: none;\"><div style=\"display: table-cell;\"></div><div style=\"display: table-cell;\">background_fill_color&nbsp;=&nbsp;'#ffffff',</div></div><div class=\"1138\" style=\"display: none;\"><div style=\"display: table-cell;\"></div><div style=\"display: table-cell;\">below&nbsp;=&nbsp;[LinearAxis(id='1013', ...)],</div></div><div class=\"1138\" style=\"display: none;\"><div style=\"display: table-cell;\"></div><div style=\"display: table-cell;\">border_fill_alpha&nbsp;=&nbsp;1.0,</div></div><div class=\"1138\" style=\"display: none;\"><div style=\"display: table-cell;\"></div><div style=\"display: table-cell;\">border_fill_color&nbsp;=&nbsp;'#ffffff',</div></div><div class=\"1138\" style=\"display: none;\"><div style=\"display: table-cell;\"></div><div style=\"display: table-cell;\">center&nbsp;=&nbsp;[Grid(id='1016', ...), Grid(id='1020', ...), Legend(id='1042', ...)],</div></div><div class=\"1138\" style=\"display: none;\"><div style=\"display: table-cell;\"></div><div style=\"display: table-cell;\">css_classes&nbsp;=&nbsp;[],</div></div><div class=\"1138\" style=\"display: none;\"><div style=\"display: table-cell;\"></div><div style=\"display: table-cell;\">disabled&nbsp;=&nbsp;False,</div></div><div class=\"1138\" style=\"display: none;\"><div style=\"display: table-cell;\"></div><div style=\"display: table-cell;\">extra_x_ranges&nbsp;=&nbsp;{},</div></div><div class=\"1138\" style=\"display: none;\"><div style=\"display: table-cell;\"></div><div style=\"display: table-cell;\">extra_y_ranges&nbsp;=&nbsp;{'memory': Range1d(id='1044', ...)},</div></div><div class=\"1138\" style=\"display: none;\"><div style=\"display: table-cell;\"></div><div style=\"display: table-cell;\">frame_height&nbsp;=&nbsp;None,</div></div><div class=\"1138\" style=\"display: none;\"><div style=\"display: table-cell;\"></div><div style=\"display: table-cell;\">frame_width&nbsp;=&nbsp;None,</div></div><div class=\"1138\" style=\"display: none;\"><div style=\"display: table-cell;\"></div><div style=\"display: table-cell;\">height&nbsp;=&nbsp;None,</div></div><div class=\"1138\" style=\"display: none;\"><div style=\"display: table-cell;\"></div><div style=\"display: table-cell;\">height_policy&nbsp;=&nbsp;'auto',</div></div><div class=\"1138\" style=\"display: none;\"><div style=\"display: table-cell;\"></div><div style=\"display: table-cell;\">hidpi&nbsp;=&nbsp;True,</div></div><div class=\"1138\" style=\"display: none;\"><div style=\"display: table-cell;\"></div><div style=\"display: table-cell;\">js_event_callbacks&nbsp;=&nbsp;{},</div></div><div class=\"1138\" style=\"display: none;\"><div style=\"display: table-cell;\"></div><div style=\"display: table-cell;\">js_property_callbacks&nbsp;=&nbsp;{},</div></div><div class=\"1138\" style=\"display: none;\"><div style=\"display: table-cell;\"></div><div style=\"display: table-cell;\">left&nbsp;=&nbsp;[LinearAxis(id='1017', ...)],</div></div><div class=\"1138\" style=\"display: none;\"><div style=\"display: table-cell;\"></div><div style=\"display: table-cell;\">lod_factor&nbsp;=&nbsp;10,</div></div><div class=\"1138\" style=\"display: none;\"><div style=\"display: table-cell;\"></div><div style=\"display: table-cell;\">lod_interval&nbsp;=&nbsp;300,</div></div><div class=\"1138\" style=\"display: none;\"><div style=\"display: table-cell;\"></div><div style=\"display: table-cell;\">lod_threshold&nbsp;=&nbsp;2000,</div></div><div class=\"1138\" style=\"display: none;\"><div style=\"display: table-cell;\"></div><div style=\"display: table-cell;\">lod_timeout&nbsp;=&nbsp;500,</div></div><div class=\"1138\" style=\"display: none;\"><div style=\"display: table-cell;\"></div><div style=\"display: table-cell;\">margin&nbsp;=&nbsp;(0, 0, 0, 0),</div></div><div class=\"1138\" style=\"display: none;\"><div style=\"display: table-cell;\"></div><div style=\"display: table-cell;\">match_aspect&nbsp;=&nbsp;False,</div></div><div class=\"1138\" style=\"display: none;\"><div style=\"display: table-cell;\"></div><div style=\"display: table-cell;\">max_height&nbsp;=&nbsp;None,</div></div><div class=\"1138\" style=\"display: none;\"><div style=\"display: table-cell;\"></div><div style=\"display: table-cell;\">max_width&nbsp;=&nbsp;None,</div></div><div class=\"1138\" style=\"display: none;\"><div style=\"display: table-cell;\"></div><div style=\"display: table-cell;\">min_border&nbsp;=&nbsp;5,</div></div><div class=\"1138\" style=\"display: none;\"><div style=\"display: table-cell;\"></div><div style=\"display: table-cell;\">min_border_bottom&nbsp;=&nbsp;None,</div></div><div class=\"1138\" style=\"display: none;\"><div style=\"display: table-cell;\"></div><div style=\"display: table-cell;\">min_border_left&nbsp;=&nbsp;None,</div></div><div class=\"1138\" style=\"display: none;\"><div style=\"display: table-cell;\"></div><div style=\"display: table-cell;\">min_border_right&nbsp;=&nbsp;None,</div></div><div class=\"1138\" style=\"display: none;\"><div style=\"display: table-cell;\"></div><div style=\"display: table-cell;\">min_border_top&nbsp;=&nbsp;None,</div></div><div class=\"1138\" style=\"display: none;\"><div style=\"display: table-cell;\"></div><div style=\"display: table-cell;\">min_height&nbsp;=&nbsp;None,</div></div><div class=\"1138\" style=\"display: none;\"><div style=\"display: table-cell;\"></div><div style=\"display: table-cell;\">min_width&nbsp;=&nbsp;None,</div></div><div class=\"1138\" style=\"display: none;\"><div style=\"display: table-cell;\"></div><div style=\"display: table-cell;\">name&nbsp;=&nbsp;None,</div></div><div class=\"1138\" style=\"display: none;\"><div style=\"display: table-cell;\"></div><div style=\"display: table-cell;\">outline_line_alpha&nbsp;=&nbsp;1.0,</div></div><div class=\"1138\" style=\"display: none;\"><div style=\"display: table-cell;\"></div><div style=\"display: table-cell;\">outline_line_cap&nbsp;=&nbsp;'butt',</div></div><div class=\"1138\" style=\"display: none;\"><div style=\"display: table-cell;\"></div><div style=\"display: table-cell;\">outline_line_color&nbsp;=&nbsp;'#e5e5e5',</div></div><div class=\"1138\" style=\"display: none;\"><div style=\"display: table-cell;\"></div><div style=\"display: table-cell;\">outline_line_dash&nbsp;=&nbsp;[],</div></div><div class=\"1138\" style=\"display: none;\"><div style=\"display: table-cell;\"></div><div style=\"display: table-cell;\">outline_line_dash_offset&nbsp;=&nbsp;0,</div></div><div class=\"1138\" style=\"display: none;\"><div style=\"display: table-cell;\"></div><div style=\"display: table-cell;\">outline_line_join&nbsp;=&nbsp;'bevel',</div></div><div class=\"1138\" style=\"display: none;\"><div style=\"display: table-cell;\"></div><div style=\"display: table-cell;\">outline_line_width&nbsp;=&nbsp;1,</div></div><div class=\"1138\" style=\"display: none;\"><div style=\"display: table-cell;\"></div><div style=\"display: table-cell;\">output_backend&nbsp;=&nbsp;'canvas',</div></div><div class=\"1138\" style=\"display: none;\"><div style=\"display: table-cell;\"></div><div style=\"display: table-cell;\">plot_height&nbsp;=&nbsp;300,</div></div><div class=\"1138\" style=\"display: none;\"><div style=\"display: table-cell;\"></div><div style=\"display: table-cell;\">plot_width&nbsp;=&nbsp;800,</div></div><div class=\"1138\" style=\"display: none;\"><div style=\"display: table-cell;\"></div><div style=\"display: table-cell;\">renderers&nbsp;=&nbsp;[GlyphRenderer(id='1033', ...), GlyphRenderer(id='1048', ...)],</div></div><div class=\"1138\" style=\"display: none;\"><div style=\"display: table-cell;\"></div><div style=\"display: table-cell;\">reset_policy&nbsp;=&nbsp;'standard',</div></div><div class=\"1138\" style=\"display: none;\"><div style=\"display: table-cell;\"></div><div style=\"display: table-cell;\">right&nbsp;=&nbsp;[LinearAxis(id='1060', ...)],</div></div><div class=\"1138\" style=\"display: none;\"><div style=\"display: table-cell;\"></div><div style=\"display: table-cell;\">sizing_mode&nbsp;=&nbsp;None,</div></div><div class=\"1138\" style=\"display: none;\"><div style=\"display: table-cell;\"></div><div style=\"display: table-cell;\">subscribed_events&nbsp;=&nbsp;[],</div></div><div class=\"1138\" style=\"display: none;\"><div style=\"display: table-cell;\"></div><div style=\"display: table-cell;\">tags&nbsp;=&nbsp;[],</div></div><div class=\"1138\" style=\"display: none;\"><div style=\"display: table-cell;\"></div><div style=\"display: table-cell;\">title&nbsp;=&nbsp;Title(id='1003', ...),</div></div><div class=\"1138\" style=\"display: none;\"><div style=\"display: table-cell;\"></div><div style=\"display: table-cell;\">title_location&nbsp;=&nbsp;'above',</div></div><div class=\"1138\" style=\"display: none;\"><div style=\"display: table-cell;\"></div><div style=\"display: table-cell;\">toolbar&nbsp;=&nbsp;Toolbar(id='1025', ...),</div></div><div class=\"1138\" style=\"display: none;\"><div style=\"display: table-cell;\"></div><div style=\"display: table-cell;\">toolbar_location&nbsp;=&nbsp;'above',</div></div><div class=\"1138\" style=\"display: none;\"><div style=\"display: table-cell;\"></div><div style=\"display: table-cell;\">toolbar_sticky&nbsp;=&nbsp;True,</div></div><div class=\"1138\" style=\"display: none;\"><div style=\"display: table-cell;\"></div><div style=\"display: table-cell;\">visible&nbsp;=&nbsp;True,</div></div><div class=\"1138\" style=\"display: none;\"><div style=\"display: table-cell;\"></div><div style=\"display: table-cell;\">width&nbsp;=&nbsp;None,</div></div><div class=\"1138\" style=\"display: none;\"><div style=\"display: table-cell;\"></div><div style=\"display: table-cell;\">width_policy&nbsp;=&nbsp;'auto',</div></div><div class=\"1138\" style=\"display: none;\"><div style=\"display: table-cell;\"></div><div style=\"display: table-cell;\">x_range&nbsp;=&nbsp;Range1d(id='1005', ...),</div></div><div class=\"1138\" style=\"display: none;\"><div style=\"display: table-cell;\"></div><div style=\"display: table-cell;\">x_scale&nbsp;=&nbsp;LinearScale(id='1009', ...),</div></div><div class=\"1138\" style=\"display: none;\"><div style=\"display: table-cell;\"></div><div style=\"display: table-cell;\">y_range&nbsp;=&nbsp;Range1d(id='1007', ...),</div></div><div class=\"1138\" style=\"display: none;\"><div style=\"display: table-cell;\"></div><div style=\"display: table-cell;\">y_scale&nbsp;=&nbsp;LinearScale(id='1011', ...))</div></div></div>\n",
       "<script>\n",
       "(function() {\n",
       "  var expanded = false;\n",
       "  var ellipsis = document.getElementById(\"1139\");\n",
       "  ellipsis.addEventListener(\"click\", function() {\n",
       "    var rows = document.getElementsByClassName(\"1138\");\n",
       "    for (var i = 0; i < rows.length; i++) {\n",
       "      var el = rows[i];\n",
       "      el.style.display = expanded ? \"none\" : \"table-row\";\n",
       "    }\n",
       "    ellipsis.innerHTML = expanded ? \"&hellip;)\" : \"&lsaquo;&lsaquo;&lsaquo;\";\n",
       "    expanded = !expanded;\n",
       "  });\n",
       "})();\n",
       "</script>\n"
      ],
      "text/plain": [
       "Figure(id='1002', ...)"
      ]
     },
     "execution_count": 8,
     "metadata": {},
     "output_type": "execute_result"
    }
   ],
   "source": [
    "prof.visualize()"
   ]
  },
  {
   "cell_type": "code",
   "execution_count": 9,
   "metadata": {},
   "outputs": [
    {
     "data": {
      "text/plain": [
       "count    10000.000000\n",
       "mean         0.143656\n",
       "std          0.342490\n",
       "min          0.000014\n",
       "25%          0.000385\n",
       "50%          0.001735\n",
       "75%          0.036393\n",
       "max          1.974507\n",
       "dtype: float64"
      ]
     },
     "execution_count": 9,
     "metadata": {},
     "output_type": "execute_result"
    }
   ],
   "source": [
    "pd.Series(m).describe()"
   ]
  },
  {
   "cell_type": "code",
   "execution_count": 10,
   "metadata": {},
   "outputs": [
    {
     "data": {
      "text/plain": [
       "<AxesSubplot:ylabel='Frequency'>"
      ]
     },
     "execution_count": 10,
     "metadata": {},
     "output_type": "execute_result"
    },
    {
     "data": {
      "image/png": "[encoded data removed]",
      "text/plain": [
       "<Figure size 432x288 with 1 Axes>"
      ]
     },
     "metadata": {
      "needs_background": "light"
     },
     "output_type": "display_data"
    }
   ],
   "source": [
    "pd.Series(m).plot(kind='hist')"
   ]
  }
 ],
 "metadata": {
  "kernelspec": {
   "display_name": "ukb-analysis",
   "language": "python",
   "name": "ukb-analysis"
  },
  "language_info": {
   "codemirror_mode": {
    "name": "ipython",
    "version": 3
   },
   "file_extension": ".py",
   "mimetype": "text/x-python",
   "name": "python",
   "nbconvert_exporter": "python",
   "pygments_lexer": "ipython3",
   "version": "3.7.8"
  }
 },
 "nbformat": 4,
 "nbformat_minor": 4
}
