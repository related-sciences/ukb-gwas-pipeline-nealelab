{
 "cells": [
  {
   "cell_type": "code",
   "execution_count": 1,
   "metadata": {},
   "outputs": [
    {
     "data": {
      "text/html": [
       "<table style=\"border: 2px solid white;\">\n",
       "<tr>\n",
       "<td style=\"vertical-align: top; border: 0px solid white\">\n",
       "<h3 style=\"text-align: left;\">Client</h3>\n",
       "<ul style=\"text-align: left; list-style: none; margin: 0; padding: 0;\">\n",
       "  <li><b>Scheduler: </b>tcp://127.0.0.1:39801</li>\n",
       "  <li><b>Dashboard: </b><a href='http://127.0.0.1:8787/status' target='_blank'>http://127.0.0.1:8787/status</a></li>\n",
       "</ul>\n",
       "</td>\n",
       "<td style=\"vertical-align: top; border: 0px solid white\">\n",
       "<h3 style=\"text-align: left;\">Cluster</h3>\n",
       "<ul style=\"text-align: left; list-style:none; margin: 0; padding: 0;\">\n",
       "  <li><b>Workers: </b>4</li>\n",
       "  <li><b>Cores: </b>16</li>\n",
       "  <li><b>Memory: </b>134.78 GB</li>\n",
       "</ul>\n",
       "</td>\n",
       "</tr>\n",
       "</table>"
      ],
      "text/plain": [
       "<Client: 'tcp://127.0.0.1:39801' processes=4 threads=16, memory=134.78 GB>"
      ]
     },
     "execution_count": 1,
     "metadata": {},
     "output_type": "execute_result"
    }
   ],
   "source": [
    "from dask.distributed import Client\n",
    "import xarray as xr\n",
    "import pandas as pd\n",
    "import numpy as np\n",
    "import gcsfs\n",
    "import sgkit\n",
    "from sgkit_bgen.bgen_reader import unpack_variables\n",
    "\n",
    "xr.set_options(display_style='text')\n",
    "client = Client()\n",
    "client"
   ]
  },
  {
   "cell_type": "code",
   "execution_count": 2,
   "metadata": {},
   "outputs": [
    {
     "data": {
      "text/html": [
       "<pre>&lt;xarray.Dataset&gt;\n",
       "Dimensions:                         (alleles: 2, genotypes: 3, samples: 486443, variants: 45906)\n",
       "Dimensions without coordinates: alleles, genotypes, samples, variants\n",
       "Data variables:\n",
       "    call_genotype_probability_mask  (variants, samples) bool dask.array&lt;chunksize=(10432, 11313), meta=np.ndarray&gt;\n",
       "    sample_id                       (samples) int32 dask.array&lt;chunksize=(60806,), meta=np.ndarray&gt;\n",
       "    sample_sex                      (samples) uint8 dask.array&lt;chunksize=(243222,), meta=np.ndarray&gt;\n",
       "    variant_allele                  (variants, alleles) |S8 dask.array&lt;chunksize=(22953, 1), meta=np.ndarray&gt;\n",
       "    variant_contig                  (variants) int16 dask.array&lt;chunksize=(45906,), meta=np.ndarray&gt;\n",
       "    variant_contig_name             (variants) |S4 dask.array&lt;chunksize=(45906,), meta=np.ndarray&gt;\n",
       "    variant_id                      (variants) |S15 dask.array&lt;chunksize=(22953,), meta=np.ndarray&gt;\n",
       "    variant_info                    (variants) float64 dask.array&lt;chunksize=(22953,), meta=np.ndarray&gt;\n",
       "    variant_maf                     (variants) float64 dask.array&lt;chunksize=(22953,), meta=np.ndarray&gt;\n",
       "    variant_minor_allele            (variants) |S3 dask.array&lt;chunksize=(45906,), meta=np.ndarray&gt;\n",
       "    variant_position                (variants) int32 dask.array&lt;chunksize=(45906,), meta=np.ndarray&gt;\n",
       "    variant_rsid                    (variants) |S15 dask.array&lt;chunksize=(22953,), meta=np.ndarray&gt;\n",
       "    call_genotype_probability       (variants, samples, genotypes) float16 dask.array&lt;chunksize=(10432, 11313, 1), meta=np.ndarray&gt;\n",
       "    call_dosage                     (variants, samples) float16 dask.array&lt;chunksize=(10432, 11313), meta=np.ndarray&gt;\n",
       "    call_dosage_mask                (variants, samples) int8 dask.array&lt;chunksize=(10432, 11313), meta=np.ndarray&gt;\n",
       "Attributes:\n",
       "    contig_index:  24\n",
       "    contig_name:   XY\n",
       "    contigs:       [&#x27;PAR1&#x27;, &#x27;XY&#x27;]</pre>"
      ],
      "text/plain": [
       "<xarray.Dataset>\n",
       "Dimensions:                         (alleles: 2, genotypes: 3, samples: 486443, variants: 45906)\n",
       "Dimensions without coordinates: alleles, genotypes, samples, variants\n",
       "Data variables:\n",
       "    call_genotype_probability_mask  (variants, samples) bool dask.array<chunksize=(10432, 11313), meta=np.ndarray>\n",
       "    sample_id                       (samples) int32 dask.array<chunksize=(60806,), meta=np.ndarray>\n",
       "    sample_sex                      (samples) uint8 dask.array<chunksize=(243222,), meta=np.ndarray>\n",
       "    variant_allele                  (variants, alleles) |S8 dask.array<chunksize=(22953, 1), meta=np.ndarray>\n",
       "    variant_contig                  (variants) int16 dask.array<chunksize=(45906,), meta=np.ndarray>\n",
       "    variant_contig_name             (variants) |S4 dask.array<chunksize=(45906,), meta=np.ndarray>\n",
       "    variant_id                      (variants) |S15 dask.array<chunksize=(22953,), meta=np.ndarray>\n",
       "    variant_info                    (variants) float64 dask.array<chunksize=(22953,), meta=np.ndarray>\n",
       "    variant_maf                     (variants) float64 dask.array<chunksize=(22953,), meta=np.ndarray>\n",
       "    variant_minor_allele            (variants) |S3 dask.array<chunksize=(45906,), meta=np.ndarray>\n",
       "    variant_position                (variants) int32 dask.array<chunksize=(45906,), meta=np.ndarray>\n",
       "    variant_rsid                    (variants) |S15 dask.array<chunksize=(22953,), meta=np.ndarray>\n",
       "    call_genotype_probability       (variants, samples, genotypes) float16 dask.array<chunksize=(10432, 11313, 1), meta=np.ndarray>\n",
       "    call_dosage                     (variants, samples) float16 dask.array<chunksize=(10432, 11313), meta=np.ndarray>\n",
       "    call_dosage_mask                (variants, samples) int8 dask.array<chunksize=(10432, 11313), meta=np.ndarray>\n",
       "Attributes:\n",
       "    contig_index:  24\n",
       "    contig_name:   XY\n",
       "    contigs:       ['PAR1', 'XY']"
      ]
     },
     "execution_count": 2,
     "metadata": {},
     "output_type": "execute_result"
    }
   ],
   "source": [
    "fs = gcsfs.GCSFileSystem()\n",
    "store = gcsfs.mapping.GCSMap('rs-ukb/prep-data/gt-imputation/ukb_chrXY.zarr', gcs=fs, check=True, create=False)\n",
    "ds = xr.open_zarr(store)\n",
    "ds = unpack_variables(ds, dtype='float16')\n",
    "\n",
    "# Workaround for https://github.com/pydata/xarray/issues/4386\n",
    "ds['call_genotype_probability_mask'] = ds['call_genotype_probability_mask'].astype(bool)\n",
    "ds"
   ]
  },
  {
   "cell_type": "code",
   "execution_count": 3,
   "metadata": {},
   "outputs": [
    {
     "data": {
      "text/html": [
       "<pre>&lt;xarray.DataArray &#x27;call_genotype_probability_mask&#x27; ()&gt;\n",
       "array(0.)</pre>"
      ],
      "text/plain": [
       "<xarray.DataArray 'call_genotype_probability_mask' ()>\n",
       "array(0.)"
      ]
     },
     "execution_count": 3,
     "metadata": {},
     "output_type": "execute_result"
    }
   ],
   "source": [
    "cr = ds.call_genotype_probability_mask.mean(dim='samples').compute()\n",
    "cr.max()"
   ]
  },
  {
   "cell_type": "code",
   "execution_count": 3,
   "metadata": {},
   "outputs": [
    {
     "data": {
      "text/html": [
       "<div>\n",
       "<style scoped>\n",
       "    .dataframe tbody tr th:only-of-type {\n",
       "        vertical-align: middle;\n",
       "    }\n",
       "\n",
       "    .dataframe tbody tr th {\n",
       "        vertical-align: top;\n",
       "    }\n",
       "\n",
       "    .dataframe thead th {\n",
       "        text-align: right;\n",
       "    }\n",
       "</style>\n",
       "<table border=\"1\" class=\"dataframe\">\n",
       "  <thead>\n",
       "    <tr style=\"text-align: right;\">\n",
       "      <th></th>\n",
       "      <th>eid</th>\n",
       "      <th>x22000_0_0</th>\n",
       "      <th>x22007_0_0</th>\n",
       "      <th>x22008_0_0</th>\n",
       "      <th>x22001_0_0</th>\n",
       "      <th>x22021_0_0</th>\n",
       "      <th>x22006_0_0</th>\n",
       "      <th>x22019_0_0</th>\n",
       "      <th>x22027_0_0</th>\n",
       "      <th>x22003_0_0</th>\n",
       "      <th>...</th>\n",
       "      <th>x22005_0_0</th>\n",
       "      <th>x22020_0_0</th>\n",
       "      <th>x22022_0_0</th>\n",
       "      <th>x22023_0_0</th>\n",
       "      <th>x22025_0_0</th>\n",
       "      <th>x22026_0_0</th>\n",
       "      <th>x22024_0_0</th>\n",
       "      <th>x22028_0_0</th>\n",
       "      <th>x22029_0_0</th>\n",
       "      <th>x22030_0_0</th>\n",
       "    </tr>\n",
       "  </thead>\n",
       "  <tbody>\n",
       "    <tr>\n",
       "      <th>0</th>\n",
       "      <td>4219054</td>\n",
       "      <td>38.0</td>\n",
       "      <td>SMP4_0012173A</td>\n",
       "      <td>F10</td>\n",
       "      <td>1.0</td>\n",
       "      <td>0.0</td>\n",
       "      <td>1.0</td>\n",
       "      <td>NaN</td>\n",
       "      <td>NaN</td>\n",
       "      <td>0.189547</td>\n",
       "      <td>...</td>\n",
       "      <td>0.003946</td>\n",
       "      <td>1.0</td>\n",
       "      <td>592.70</td>\n",
       "      <td>671.82</td>\n",
       "      <td>99.523</td>\n",
       "      <td>0.97</td>\n",
       "      <td>24.82</td>\n",
       "      <td>1.0</td>\n",
       "      <td>1.0</td>\n",
       "      <td>1.0</td>\n",
       "    </tr>\n",
       "    <tr>\n",
       "      <th>1</th>\n",
       "      <td>4219069</td>\n",
       "      <td>68.0</td>\n",
       "      <td>SMP4_0012961A</td>\n",
       "      <td>G12</td>\n",
       "      <td>1.0</td>\n",
       "      <td>0.0</td>\n",
       "      <td>1.0</td>\n",
       "      <td>NaN</td>\n",
       "      <td>NaN</td>\n",
       "      <td>0.188485</td>\n",
       "      <td>...</td>\n",
       "      <td>0.012330</td>\n",
       "      <td>1.0</td>\n",
       "      <td>357.16</td>\n",
       "      <td>406.66</td>\n",
       "      <td>98.711</td>\n",
       "      <td>0.97</td>\n",
       "      <td>31.27</td>\n",
       "      <td>1.0</td>\n",
       "      <td>1.0</td>\n",
       "      <td>1.0</td>\n",
       "    </tr>\n",
       "    <tr>\n",
       "      <th>2</th>\n",
       "      <td>4219076</td>\n",
       "      <td>78.0</td>\n",
       "      <td>SMP4_0016227A</td>\n",
       "      <td>E04</td>\n",
       "      <td>1.0</td>\n",
       "      <td>1.0</td>\n",
       "      <td>1.0</td>\n",
       "      <td>NaN</td>\n",
       "      <td>NaN</td>\n",
       "      <td>0.186575</td>\n",
       "      <td>...</td>\n",
       "      <td>0.007893</td>\n",
       "      <td>1.0</td>\n",
       "      <td>486.65</td>\n",
       "      <td>423.79</td>\n",
       "      <td>98.995</td>\n",
       "      <td>0.98</td>\n",
       "      <td>47.48</td>\n",
       "      <td>1.0</td>\n",
       "      <td>1.0</td>\n",
       "      <td>1.0</td>\n",
       "    </tr>\n",
       "    <tr>\n",
       "      <th>3</th>\n",
       "      <td>4219081</td>\n",
       "      <td>69.0</td>\n",
       "      <td>SMP4_0014664A</td>\n",
       "      <td>F09</td>\n",
       "      <td>0.0</td>\n",
       "      <td>0.0</td>\n",
       "      <td>1.0</td>\n",
       "      <td>NaN</td>\n",
       "      <td>NaN</td>\n",
       "      <td>0.187611</td>\n",
       "      <td>...</td>\n",
       "      <td>0.011950</td>\n",
       "      <td>1.0</td>\n",
       "      <td>479.92</td>\n",
       "      <td>187.74</td>\n",
       "      <td>98.730</td>\n",
       "      <td>0.98</td>\n",
       "      <td>39.84</td>\n",
       "      <td>1.0</td>\n",
       "      <td>1.0</td>\n",
       "      <td>1.0</td>\n",
       "    </tr>\n",
       "    <tr>\n",
       "      <th>4</th>\n",
       "      <td>4219097</td>\n",
       "      <td>69.0</td>\n",
       "      <td>SMP4_0014570A</td>\n",
       "      <td>B07</td>\n",
       "      <td>1.0</td>\n",
       "      <td>0.0</td>\n",
       "      <td>NaN</td>\n",
       "      <td>NaN</td>\n",
       "      <td>NaN</td>\n",
       "      <td>0.179372</td>\n",
       "      <td>...</td>\n",
       "      <td>0.003884</td>\n",
       "      <td>1.0</td>\n",
       "      <td>860.80</td>\n",
       "      <td>971.89</td>\n",
       "      <td>99.477</td>\n",
       "      <td>0.98</td>\n",
       "      <td>41.11</td>\n",
       "      <td>1.0</td>\n",
       "      <td>1.0</td>\n",
       "      <td>1.0</td>\n",
       "    </tr>\n",
       "  </tbody>\n",
       "</table>\n",
       "<p>5 rows × 21 columns</p>\n",
       "</div>"
      ],
      "text/plain": [
       "       eid  x22000_0_0     x22007_0_0 x22008_0_0  x22001_0_0  x22021_0_0  \\\n",
       "0  4219054        38.0  SMP4_0012173A        F10         1.0         0.0   \n",
       "1  4219069        68.0  SMP4_0012961A        G12         1.0         0.0   \n",
       "2  4219076        78.0  SMP4_0016227A        E04         1.0         1.0   \n",
       "3  4219081        69.0  SMP4_0014664A        F09         0.0         0.0   \n",
       "4  4219097        69.0  SMP4_0014570A        B07         1.0         0.0   \n",
       "\n",
       "   x22006_0_0  x22019_0_0  x22027_0_0  x22003_0_0  ...  x22005_0_0  \\\n",
       "0         1.0         NaN         NaN    0.189547  ...    0.003946   \n",
       "1         1.0         NaN         NaN    0.188485  ...    0.012330   \n",
       "2         1.0         NaN         NaN    0.186575  ...    0.007893   \n",
       "3         1.0         NaN         NaN    0.187611  ...    0.011950   \n",
       "4         NaN         NaN         NaN    0.179372  ...    0.003884   \n",
       "\n",
       "   x22020_0_0  x22022_0_0  x22023_0_0  x22025_0_0  x22026_0_0  x22024_0_0  \\\n",
       "0         1.0      592.70      671.82      99.523        0.97       24.82   \n",
       "1         1.0      357.16      406.66      98.711        0.97       31.27   \n",
       "2         1.0      486.65      423.79      98.995        0.98       47.48   \n",
       "3         1.0      479.92      187.74      98.730        0.98       39.84   \n",
       "4         1.0      860.80      971.89      99.477        0.98       41.11   \n",
       "\n",
       "   x22028_0_0  x22029_0_0  x22030_0_0  \n",
       "0         1.0         1.0         1.0  \n",
       "1         1.0         1.0         1.0  \n",
       "2         1.0         1.0         1.0  \n",
       "3         1.0         1.0         1.0  \n",
       "4         1.0         1.0         1.0  \n",
       "\n",
       "[5 rows x 21 columns]"
      ]
     },
     "execution_count": 3,
     "metadata": {},
     "output_type": "execute_result"
    }
   ],
   "source": [
    "# see:\n",
    "# - https://github.com/Nealelab/UK_Biobank_GWAS/blob/master/0.1/00.load_sample_qc_kt.py\n",
    "df = pd.read_csv('gs://rs-ukb/prep-data/main/ukb_sample_qc.csv', sep='\\t')\n",
    "df.head()"
   ]
  },
  {
   "cell_type": "code",
   "execution_count": 4,
   "metadata": {},
   "outputs": [
    {
     "data": {
      "text/plain": [
       "502505"
      ]
     },
     "execution_count": 4,
     "metadata": {},
     "output_type": "execute_result"
    }
   ],
   "source": [
    "len(df)"
   ]
  },
  {
   "cell_type": "code",
   "execution_count": 15,
   "metadata": {},
   "outputs": [
    {
     "data": {
      "text/plain": [
       "na     501854\n",
       "1.0       651\n",
       "Name: x22019_0_0, dtype: int64"
      ]
     },
     "execution_count": 15,
     "metadata": {},
     "output_type": "execute_result"
    }
   ],
   "source": [
    "df[\"x22019_0_0\"].fillna('na').value_counts()  # Sex chromosome aneuploidy"
   ]
  },
  {
   "cell_type": "code",
   "execution_count": 13,
   "metadata": {},
   "outputs": [
    {
     "data": {
      "text/plain": [
       "1.0    407127\n",
       "na      95378\n",
       "Name: x22020_0_0, dtype: int64"
      ]
     },
     "execution_count": 13,
     "metadata": {},
     "output_type": "execute_result"
    }
   ],
   "source": [
    "df[\"x22020_0_0\"].fillna('na').value_counts()  # Used in genetic principal components"
   ]
  },
  {
   "cell_type": "code",
   "execution_count": null,
   "metadata": {},
   "outputs": [],
   "source": []
  },
  {
   "cell_type": "code",
   "execution_count": 3,
   "metadata": {},
   "outputs": [
    {
     "data": {
      "text/html": [
       "<pre>&lt;xarray.Dataset&gt;\n",
       "Dimensions:                         (alleles: 2, genotypes: 3, samples: 486443, variants: 45906)\n",
       "Dimensions without coordinates: alleles, genotypes, samples, variants\n",
       "Data variables:\n",
       "    call_genotype_probability_mask  (variants, samples) int8 dask.array&lt;chunksize=(10432, 11313), meta=np.ndarray&gt;\n",
       "    sample_id                       (samples) int32 dask.array&lt;chunksize=(60806,), meta=np.ndarray&gt;\n",
       "    sample_sex                      (samples) uint8 dask.array&lt;chunksize=(243222,), meta=np.ndarray&gt;\n",
       "    variant_allele                  (variants, alleles) |S8 dask.array&lt;chunksize=(22953, 1), meta=np.ndarray&gt;\n",
       "    variant_contig                  (variants) int16 dask.array&lt;chunksize=(45906,), meta=np.ndarray&gt;\n",
       "    variant_contig_name             (variants) |S4 dask.array&lt;chunksize=(45906,), meta=np.ndarray&gt;\n",
       "    variant_id                      (variants) |S15 dask.array&lt;chunksize=(22953,), meta=np.ndarray&gt;\n",
       "    variant_info                    (variants) float64 dask.array&lt;chunksize=(22953,), meta=np.ndarray&gt;\n",
       "    variant_maf                     (variants) float64 dask.array&lt;chunksize=(22953,), meta=np.ndarray&gt;\n",
       "    variant_minor_allele            (variants) |S3 dask.array&lt;chunksize=(45906,), meta=np.ndarray&gt;\n",
       "    variant_position                (variants) int32 dask.array&lt;chunksize=(45906,), meta=np.ndarray&gt;\n",
       "    variant_rsid                    (variants) |S15 dask.array&lt;chunksize=(22953,), meta=np.ndarray&gt;\n",
       "    call_genotype_probability       (variants, samples, genotypes) float16 dask.array&lt;chunksize=(10432, 11313, 1), meta=np.ndarray&gt;\n",
       "    call_dosage                     (variants, samples) float16 dask.array&lt;chunksize=(10432, 11313), meta=np.ndarray&gt;\n",
       "    call_dosage_mask                (variants, samples) int8 dask.array&lt;chunksize=(10432, 11313), meta=np.ndarray&gt;\n",
       "    variant_genotype_counts         (variants, genotypes) uint32 dask.array&lt;chunksize=(10432, 3), meta=np.ndarray&gt;\n",
       "Attributes:\n",
       "    contig_index:  24\n",
       "    contig_name:   XY\n",
       "    contigs:       [&#x27;PAR1&#x27;, &#x27;XY&#x27;]</pre>"
      ],
      "text/plain": [
       "<xarray.Dataset>\n",
       "Dimensions:                         (alleles: 2, genotypes: 3, samples: 486443, variants: 45906)\n",
       "Dimensions without coordinates: alleles, genotypes, samples, variants\n",
       "Data variables:\n",
       "    call_genotype_probability_mask  (variants, samples) int8 dask.array<chunksize=(10432, 11313), meta=np.ndarray>\n",
       "    sample_id                       (samples) int32 dask.array<chunksize=(60806,), meta=np.ndarray>\n",
       "    sample_sex                      (samples) uint8 dask.array<chunksize=(243222,), meta=np.ndarray>\n",
       "    variant_allele                  (variants, alleles) |S8 dask.array<chunksize=(22953, 1), meta=np.ndarray>\n",
       "    variant_contig                  (variants) int16 dask.array<chunksize=(45906,), meta=np.ndarray>\n",
       "    variant_contig_name             (variants) |S4 dask.array<chunksize=(45906,), meta=np.ndarray>\n",
       "    variant_id                      (variants) |S15 dask.array<chunksize=(22953,), meta=np.ndarray>\n",
       "    variant_info                    (variants) float64 dask.array<chunksize=(22953,), meta=np.ndarray>\n",
       "    variant_maf                     (variants) float64 dask.array<chunksize=(22953,), meta=np.ndarray>\n",
       "    variant_minor_allele            (variants) |S3 dask.array<chunksize=(45906,), meta=np.ndarray>\n",
       "    variant_position                (variants) int32 dask.array<chunksize=(45906,), meta=np.ndarray>\n",
       "    variant_rsid                    (variants) |S15 dask.array<chunksize=(22953,), meta=np.ndarray>\n",
       "    call_genotype_probability       (variants, samples, genotypes) float16 dask.array<chunksize=(10432, 11313, 1), meta=np.ndarray>\n",
       "    call_dosage                     (variants, samples) float16 dask.array<chunksize=(10432, 11313), meta=np.ndarray>\n",
       "    call_dosage_mask                (variants, samples) int8 dask.array<chunksize=(10432, 11313), meta=np.ndarray>\n",
       "    variant_genotype_counts         (variants, genotypes) uint32 dask.array<chunksize=(10432, 3), meta=np.ndarray>\n",
       "Attributes:\n",
       "    contig_index:  24\n",
       "    contig_name:   XY\n",
       "    contigs:       ['PAR1', 'XY']"
      ]
     },
     "execution_count": 3,
     "metadata": {},
     "output_type": "execute_result"
    }
   ],
   "source": [
    "import numpy as np\n",
    "import dask.array as da\n",
    "from sgkit.typing import ArrayLike\n",
    "from xarray import Dataset, DataArray\n",
    "    \n",
    "def variant_genotype_counts(ds: Dataset) -> DataArray:\n",
    "    gti = ds['call_genotype_probability'].argmax(dim='genotypes')\n",
    "    gti = gti.astype('uint8').expand_dims('genotypes', axis=-1)\n",
    "    gti = gti == da.arange(ds.dims['genotypes'], dtype='uint8')\n",
    "    return gti.sum(dim='samples', dtype='uint32')\n",
    "\n",
    "ds['variant_genotype_counts'] = variant_genotype_counts(ds)[:, [1, 0, 2]]\n",
    "ds"
   ]
  },
  {
   "cell_type": "code",
   "execution_count": 4,
   "metadata": {},
   "outputs": [
    {
     "data": {
      "text/html": [
       "<pre>&lt;xarray.Dataset&gt;\n",
       "Dimensions:                         (alleles: 2, genotypes: 3, ploidy: 2, samples: 486443, variants: 45906)\n",
       "Dimensions without coordinates: alleles, genotypes, ploidy, samples, variants\n",
       "Data variables:\n",
       "    call_genotype_probability_mask  (variants, samples) int8 dask.array&lt;chunksize=(10432, 11313), meta=np.ndarray&gt;\n",
       "    sample_id                       (samples) int32 dask.array&lt;chunksize=(60806,), meta=np.ndarray&gt;\n",
       "    sample_sex                      (samples) uint8 dask.array&lt;chunksize=(243222,), meta=np.ndarray&gt;\n",
       "    variant_allele                  (variants, alleles) |S8 dask.array&lt;chunksize=(22953, 1), meta=np.ndarray&gt;\n",
       "    variant_contig                  (variants) int16 dask.array&lt;chunksize=(45906,), meta=np.ndarray&gt;\n",
       "    variant_contig_name             (variants) |S4 dask.array&lt;chunksize=(45906,), meta=np.ndarray&gt;\n",
       "    variant_id                      (variants) |S15 dask.array&lt;chunksize=(22953,), meta=np.ndarray&gt;\n",
       "    variant_info                    (variants) float64 dask.array&lt;chunksize=(22953,), meta=np.ndarray&gt;\n",
       "    variant_maf                     (variants) float64 dask.array&lt;chunksize=(22953,), meta=np.ndarray&gt;\n",
       "    variant_minor_allele            (variants) |S3 dask.array&lt;chunksize=(45906,), meta=np.ndarray&gt;\n",
       "    variant_position                (variants) int32 dask.array&lt;chunksize=(45906,), meta=np.ndarray&gt;\n",
       "    variant_rsid                    (variants) |S15 dask.array&lt;chunksize=(22953,), meta=np.ndarray&gt;\n",
       "    call_genotype_probability       (variants, samples, genotypes) float16 dask.array&lt;chunksize=(10432, 11313, 1), meta=np.ndarray&gt;\n",
       "    call_dosage                     (variants, samples) float16 dask.array&lt;chunksize=(10432, 11313), meta=np.ndarray&gt;\n",
       "    call_dosage_mask                (variants, samples) int8 dask.array&lt;chunksize=(10432, 11313), meta=np.ndarray&gt;\n",
       "    variant_genotype_counts         (variants, genotypes) uint32 dask.array&lt;chunksize=(10432, 3), meta=np.ndarray&gt;\n",
       "    dummy                           (variants, samples, ploidy) float64 dask.array&lt;chunksize=(2186, 2896, 2), meta=np.ndarray&gt;\n",
       "    variant_hwe_p_value             (variants) float64 dask.array&lt;chunksize=(10432,), meta=np.ndarray&gt;\n",
       "Attributes:\n",
       "    contig_index:  24\n",
       "    contig_name:   XY\n",
       "    contigs:       [&#x27;PAR1&#x27;, &#x27;XY&#x27;]</pre>"
      ],
      "text/plain": [
       "<xarray.Dataset>\n",
       "Dimensions:                         (alleles: 2, genotypes: 3, ploidy: 2, samples: 486443, variants: 45906)\n",
       "Dimensions without coordinates: alleles, genotypes, ploidy, samples, variants\n",
       "Data variables:\n",
       "    call_genotype_probability_mask  (variants, samples) int8 dask.array<chunksize=(10432, 11313), meta=np.ndarray>\n",
       "    sample_id                       (samples) int32 dask.array<chunksize=(60806,), meta=np.ndarray>\n",
       "    sample_sex                      (samples) uint8 dask.array<chunksize=(243222,), meta=np.ndarray>\n",
       "    variant_allele                  (variants, alleles) |S8 dask.array<chunksize=(22953, 1), meta=np.ndarray>\n",
       "    variant_contig                  (variants) int16 dask.array<chunksize=(45906,), meta=np.ndarray>\n",
       "    variant_contig_name             (variants) |S4 dask.array<chunksize=(45906,), meta=np.ndarray>\n",
       "    variant_id                      (variants) |S15 dask.array<chunksize=(22953,), meta=np.ndarray>\n",
       "    variant_info                    (variants) float64 dask.array<chunksize=(22953,), meta=np.ndarray>\n",
       "    variant_maf                     (variants) float64 dask.array<chunksize=(22953,), meta=np.ndarray>\n",
       "    variant_minor_allele            (variants) |S3 dask.array<chunksize=(45906,), meta=np.ndarray>\n",
       "    variant_position                (variants) int32 dask.array<chunksize=(45906,), meta=np.ndarray>\n",
       "    variant_rsid                    (variants) |S15 dask.array<chunksize=(22953,), meta=np.ndarray>\n",
       "    call_genotype_probability       (variants, samples, genotypes) float16 dask.array<chunksize=(10432, 11313, 1), meta=np.ndarray>\n",
       "    call_dosage                     (variants, samples) float16 dask.array<chunksize=(10432, 11313), meta=np.ndarray>\n",
       "    call_dosage_mask                (variants, samples) int8 dask.array<chunksize=(10432, 11313), meta=np.ndarray>\n",
       "    variant_genotype_counts         (variants, genotypes) uint32 dask.array<chunksize=(10432, 3), meta=np.ndarray>\n",
       "    dummy                           (variants, samples, ploidy) float64 dask.array<chunksize=(2186, 2896, 2), meta=np.ndarray>\n",
       "    variant_hwe_p_value             (variants) float64 dask.array<chunksize=(10432,), meta=np.ndarray>\n",
       "Attributes:\n",
       "    contig_index:  24\n",
       "    contig_name:   XY\n",
       "    contigs:       ['PAR1', 'XY']"
      ]
     },
     "execution_count": 4,
     "metadata": {},
     "output_type": "execute_result"
    }
   ],
   "source": [
    "ds['dummy'] = xr.DataArray(da.empty((ds.dims['variants'], ds.dims['samples'], 2)), dims=('variants', 'samples', 'ploidy'))\n",
    "ds['variant_hwe_p_value'] = sgkit.hardy_weinberg_test(ds, genotype_counts='variant_genotype_counts')['variant_hwe_p_value']\n",
    "ds"
   ]
  },
  {
   "cell_type": "code",
   "execution_count": 5,
   "metadata": {},
   "outputs": [
    {
     "ename": "KeyboardInterrupt",
     "evalue": "",
     "output_type": "error",
     "traceback": [
      "\u001b[0;31m---------------------------------------------------------------------------\u001b[0m",
      "\u001b[0;31mKeyboardInterrupt\u001b[0m                         Traceback (most recent call last)",
      "\u001b[0;32m<ipython-input-5-13d85807467a>\u001b[0m in \u001b[0;36m<module>\u001b[0;34m\u001b[0m\n\u001b[1;32m      1\u001b[0m \u001b[0;31m# This requires about 16GiB per core\u001b[0m\u001b[0;34m\u001b[0m\u001b[0;34m\u001b[0m\u001b[0;34m\u001b[0m\u001b[0m\n\u001b[0;32m----> 2\u001b[0;31m \u001b[0mp\u001b[0m \u001b[0;34m=\u001b[0m \u001b[0mds\u001b[0m\u001b[0;34m[\u001b[0m\u001b[0;34m'variant_hwe_p_value'\u001b[0m\u001b[0;34m]\u001b[0m\u001b[0;34m.\u001b[0m\u001b[0mcompute\u001b[0m\u001b[0;34m(\u001b[0m\u001b[0;34m)\u001b[0m\u001b[0;34m\u001b[0m\u001b[0;34m\u001b[0m\u001b[0m\n\u001b[0m\u001b[1;32m      3\u001b[0m \u001b[0mp\u001b[0m\u001b[0;34m\u001b[0m\u001b[0;34m\u001b[0m\u001b[0m\n",
      "\u001b[0;32m~/miniconda3/envs/gwas/lib/python3.8/site-packages/xarray/core/dataarray.py\u001b[0m in \u001b[0;36mcompute\u001b[0;34m(self, **kwargs)\u001b[0m\n\u001b[1;32m    838\u001b[0m         \"\"\"\n\u001b[1;32m    839\u001b[0m         \u001b[0mnew\u001b[0m \u001b[0;34m=\u001b[0m \u001b[0mself\u001b[0m\u001b[0;34m.\u001b[0m\u001b[0mcopy\u001b[0m\u001b[0;34m(\u001b[0m\u001b[0mdeep\u001b[0m\u001b[0;34m=\u001b[0m\u001b[0;32mFalse\u001b[0m\u001b[0;34m)\u001b[0m\u001b[0;34m\u001b[0m\u001b[0;34m\u001b[0m\u001b[0m\n\u001b[0;32m--> 840\u001b[0;31m         \u001b[0;32mreturn\u001b[0m \u001b[0mnew\u001b[0m\u001b[0;34m.\u001b[0m\u001b[0mload\u001b[0m\u001b[0;34m(\u001b[0m\u001b[0;34m**\u001b[0m\u001b[0mkwargs\u001b[0m\u001b[0;34m)\u001b[0m\u001b[0;34m\u001b[0m\u001b[0;34m\u001b[0m\u001b[0m\n\u001b[0m\u001b[1;32m    841\u001b[0m \u001b[0;34m\u001b[0m\u001b[0m\n\u001b[1;32m    842\u001b[0m     \u001b[0;32mdef\u001b[0m \u001b[0mpersist\u001b[0m\u001b[0;34m(\u001b[0m\u001b[0mself\u001b[0m\u001b[0;34m,\u001b[0m \u001b[0;34m**\u001b[0m\u001b[0mkwargs\u001b[0m\u001b[0;34m)\u001b[0m \u001b[0;34m->\u001b[0m \u001b[0;34m\"DataArray\"\u001b[0m\u001b[0;34m:\u001b[0m\u001b[0;34m\u001b[0m\u001b[0;34m\u001b[0m\u001b[0m\n",
      "\u001b[0;32m~/miniconda3/envs/gwas/lib/python3.8/site-packages/xarray/core/dataarray.py\u001b[0m in \u001b[0;36mload\u001b[0;34m(self, **kwargs)\u001b[0m\n\u001b[1;32m    812\u001b[0m         \u001b[0mdask\u001b[0m\u001b[0;34m.\u001b[0m\u001b[0marray\u001b[0m\u001b[0;34m.\u001b[0m\u001b[0mcompute\u001b[0m\u001b[0;34m\u001b[0m\u001b[0;34m\u001b[0m\u001b[0m\n\u001b[1;32m    813\u001b[0m         \"\"\"\n\u001b[0;32m--> 814\u001b[0;31m         \u001b[0mds\u001b[0m \u001b[0;34m=\u001b[0m \u001b[0mself\u001b[0m\u001b[0;34m.\u001b[0m\u001b[0m_to_temp_dataset\u001b[0m\u001b[0;34m(\u001b[0m\u001b[0;34m)\u001b[0m\u001b[0;34m.\u001b[0m\u001b[0mload\u001b[0m\u001b[0;34m(\u001b[0m\u001b[0;34m**\u001b[0m\u001b[0mkwargs\u001b[0m\u001b[0;34m)\u001b[0m\u001b[0;34m\u001b[0m\u001b[0;34m\u001b[0m\u001b[0m\n\u001b[0m\u001b[1;32m    815\u001b[0m         \u001b[0mnew\u001b[0m \u001b[0;34m=\u001b[0m \u001b[0mself\u001b[0m\u001b[0;34m.\u001b[0m\u001b[0m_from_temp_dataset\u001b[0m\u001b[0;34m(\u001b[0m\u001b[0mds\u001b[0m\u001b[0;34m)\u001b[0m\u001b[0;34m\u001b[0m\u001b[0;34m\u001b[0m\u001b[0m\n\u001b[1;32m    816\u001b[0m         \u001b[0mself\u001b[0m\u001b[0;34m.\u001b[0m\u001b[0m_variable\u001b[0m \u001b[0;34m=\u001b[0m \u001b[0mnew\u001b[0m\u001b[0;34m.\u001b[0m\u001b[0m_variable\u001b[0m\u001b[0;34m\u001b[0m\u001b[0;34m\u001b[0m\u001b[0m\n",
      "\u001b[0;32m~/miniconda3/envs/gwas/lib/python3.8/site-packages/xarray/core/dataset.py\u001b[0m in \u001b[0;36mload\u001b[0;34m(self, **kwargs)\u001b[0m\n\u001b[1;32m    656\u001b[0m \u001b[0;34m\u001b[0m\u001b[0m\n\u001b[1;32m    657\u001b[0m             \u001b[0;31m# evaluate all the dask arrays simultaneously\u001b[0m\u001b[0;34m\u001b[0m\u001b[0;34m\u001b[0m\u001b[0;34m\u001b[0m\u001b[0m\n\u001b[0;32m--> 658\u001b[0;31m             \u001b[0mevaluated_data\u001b[0m \u001b[0;34m=\u001b[0m \u001b[0mda\u001b[0m\u001b[0;34m.\u001b[0m\u001b[0mcompute\u001b[0m\u001b[0;34m(\u001b[0m\u001b[0;34m*\u001b[0m\u001b[0mlazy_data\u001b[0m\u001b[0;34m.\u001b[0m\u001b[0mvalues\u001b[0m\u001b[0;34m(\u001b[0m\u001b[0;34m)\u001b[0m\u001b[0;34m,\u001b[0m \u001b[0;34m**\u001b[0m\u001b[0mkwargs\u001b[0m\u001b[0;34m)\u001b[0m\u001b[0;34m\u001b[0m\u001b[0;34m\u001b[0m\u001b[0m\n\u001b[0m\u001b[1;32m    659\u001b[0m \u001b[0;34m\u001b[0m\u001b[0m\n\u001b[1;32m    660\u001b[0m             \u001b[0;32mfor\u001b[0m \u001b[0mk\u001b[0m\u001b[0;34m,\u001b[0m \u001b[0mdata\u001b[0m \u001b[0;32min\u001b[0m \u001b[0mzip\u001b[0m\u001b[0;34m(\u001b[0m\u001b[0mlazy_data\u001b[0m\u001b[0;34m,\u001b[0m \u001b[0mevaluated_data\u001b[0m\u001b[0;34m)\u001b[0m\u001b[0;34m:\u001b[0m\u001b[0;34m\u001b[0m\u001b[0;34m\u001b[0m\u001b[0m\n",
      "\u001b[0;32m~/miniconda3/envs/gwas/lib/python3.8/site-packages/dask/base.py\u001b[0m in \u001b[0;36mcompute\u001b[0;34m(*args, **kwargs)\u001b[0m\n\u001b[1;32m    445\u001b[0m         \u001b[0mpostcomputes\u001b[0m\u001b[0;34m.\u001b[0m\u001b[0mappend\u001b[0m\u001b[0;34m(\u001b[0m\u001b[0mx\u001b[0m\u001b[0;34m.\u001b[0m\u001b[0m__dask_postcompute__\u001b[0m\u001b[0;34m(\u001b[0m\u001b[0;34m)\u001b[0m\u001b[0;34m)\u001b[0m\u001b[0;34m\u001b[0m\u001b[0;34m\u001b[0m\u001b[0m\n\u001b[1;32m    446\u001b[0m \u001b[0;34m\u001b[0m\u001b[0m\n\u001b[0;32m--> 447\u001b[0;31m     \u001b[0mresults\u001b[0m \u001b[0;34m=\u001b[0m \u001b[0mschedule\u001b[0m\u001b[0;34m(\u001b[0m\u001b[0mdsk\u001b[0m\u001b[0;34m,\u001b[0m \u001b[0mkeys\u001b[0m\u001b[0;34m,\u001b[0m \u001b[0;34m**\u001b[0m\u001b[0mkwargs\u001b[0m\u001b[0;34m)\u001b[0m\u001b[0;34m\u001b[0m\u001b[0;34m\u001b[0m\u001b[0m\n\u001b[0m\u001b[1;32m    448\u001b[0m     \u001b[0;32mreturn\u001b[0m \u001b[0mrepack\u001b[0m\u001b[0;34m(\u001b[0m\u001b[0;34m[\u001b[0m\u001b[0mf\u001b[0m\u001b[0;34m(\u001b[0m\u001b[0mr\u001b[0m\u001b[0;34m,\u001b[0m \u001b[0;34m*\u001b[0m\u001b[0ma\u001b[0m\u001b[0;34m)\u001b[0m \u001b[0;32mfor\u001b[0m \u001b[0mr\u001b[0m\u001b[0;34m,\u001b[0m \u001b[0;34m(\u001b[0m\u001b[0mf\u001b[0m\u001b[0;34m,\u001b[0m \u001b[0ma\u001b[0m\u001b[0;34m)\u001b[0m \u001b[0;32min\u001b[0m \u001b[0mzip\u001b[0m\u001b[0;34m(\u001b[0m\u001b[0mresults\u001b[0m\u001b[0;34m,\u001b[0m \u001b[0mpostcomputes\u001b[0m\u001b[0;34m)\u001b[0m\u001b[0;34m]\u001b[0m\u001b[0;34m)\u001b[0m\u001b[0;34m\u001b[0m\u001b[0;34m\u001b[0m\u001b[0m\n\u001b[1;32m    449\u001b[0m \u001b[0;34m\u001b[0m\u001b[0m\n",
      "\u001b[0;32m~/miniconda3/envs/gwas/lib/python3.8/site-packages/distributed/client.py\u001b[0m in \u001b[0;36mget\u001b[0;34m(self, dsk, keys, restrictions, loose_restrictions, resources, sync, asynchronous, direct, retries, priority, fifo_timeout, actors, **kwargs)\u001b[0m\n\u001b[1;32m   2711\u001b[0m                     \u001b[0mshould_rejoin\u001b[0m \u001b[0;34m=\u001b[0m \u001b[0;32mFalse\u001b[0m\u001b[0;34m\u001b[0m\u001b[0;34m\u001b[0m\u001b[0m\n\u001b[1;32m   2712\u001b[0m             \u001b[0;32mtry\u001b[0m\u001b[0;34m:\u001b[0m\u001b[0;34m\u001b[0m\u001b[0;34m\u001b[0m\u001b[0m\n\u001b[0;32m-> 2713\u001b[0;31m                 \u001b[0mresults\u001b[0m \u001b[0;34m=\u001b[0m \u001b[0mself\u001b[0m\u001b[0;34m.\u001b[0m\u001b[0mgather\u001b[0m\u001b[0;34m(\u001b[0m\u001b[0mpacked\u001b[0m\u001b[0;34m,\u001b[0m \u001b[0masynchronous\u001b[0m\u001b[0;34m=\u001b[0m\u001b[0masynchronous\u001b[0m\u001b[0;34m,\u001b[0m \u001b[0mdirect\u001b[0m\u001b[0;34m=\u001b[0m\u001b[0mdirect\u001b[0m\u001b[0;34m)\u001b[0m\u001b[0;34m\u001b[0m\u001b[0;34m\u001b[0m\u001b[0m\n\u001b[0m\u001b[1;32m   2714\u001b[0m             \u001b[0;32mfinally\u001b[0m\u001b[0;34m:\u001b[0m\u001b[0;34m\u001b[0m\u001b[0;34m\u001b[0m\u001b[0m\n\u001b[1;32m   2715\u001b[0m                 \u001b[0;32mfor\u001b[0m \u001b[0mf\u001b[0m \u001b[0;32min\u001b[0m \u001b[0mfutures\u001b[0m\u001b[0;34m.\u001b[0m\u001b[0mvalues\u001b[0m\u001b[0;34m(\u001b[0m\u001b[0;34m)\u001b[0m\u001b[0;34m:\u001b[0m\u001b[0;34m\u001b[0m\u001b[0;34m\u001b[0m\u001b[0m\n",
      "\u001b[0;32m~/miniconda3/envs/gwas/lib/python3.8/site-packages/distributed/client.py\u001b[0m in \u001b[0;36mgather\u001b[0;34m(self, futures, errors, direct, asynchronous)\u001b[0m\n\u001b[1;32m   1984\u001b[0m             \u001b[0;32melse\u001b[0m\u001b[0;34m:\u001b[0m\u001b[0;34m\u001b[0m\u001b[0;34m\u001b[0m\u001b[0m\n\u001b[1;32m   1985\u001b[0m                 \u001b[0mlocal_worker\u001b[0m \u001b[0;34m=\u001b[0m \u001b[0;32mNone\u001b[0m\u001b[0;34m\u001b[0m\u001b[0;34m\u001b[0m\u001b[0m\n\u001b[0;32m-> 1986\u001b[0;31m             return self.sync(\n\u001b[0m\u001b[1;32m   1987\u001b[0m                 \u001b[0mself\u001b[0m\u001b[0;34m.\u001b[0m\u001b[0m_gather\u001b[0m\u001b[0;34m,\u001b[0m\u001b[0;34m\u001b[0m\u001b[0;34m\u001b[0m\u001b[0m\n\u001b[1;32m   1988\u001b[0m                 \u001b[0mfutures\u001b[0m\u001b[0;34m,\u001b[0m\u001b[0;34m\u001b[0m\u001b[0;34m\u001b[0m\u001b[0m\n",
      "\u001b[0;32m~/miniconda3/envs/gwas/lib/python3.8/site-packages/distributed/client.py\u001b[0m in \u001b[0;36msync\u001b[0;34m(self, func, asynchronous, callback_timeout, *args, **kwargs)\u001b[0m\n\u001b[1;32m    832\u001b[0m             \u001b[0;32mreturn\u001b[0m \u001b[0mfuture\u001b[0m\u001b[0;34m\u001b[0m\u001b[0;34m\u001b[0m\u001b[0m\n\u001b[1;32m    833\u001b[0m         \u001b[0;32melse\u001b[0m\u001b[0;34m:\u001b[0m\u001b[0;34m\u001b[0m\u001b[0;34m\u001b[0m\u001b[0m\n\u001b[0;32m--> 834\u001b[0;31m             return sync(\n\u001b[0m\u001b[1;32m    835\u001b[0m                 \u001b[0mself\u001b[0m\u001b[0;34m.\u001b[0m\u001b[0mloop\u001b[0m\u001b[0;34m,\u001b[0m \u001b[0mfunc\u001b[0m\u001b[0;34m,\u001b[0m \u001b[0;34m*\u001b[0m\u001b[0margs\u001b[0m\u001b[0;34m,\u001b[0m \u001b[0mcallback_timeout\u001b[0m\u001b[0;34m=\u001b[0m\u001b[0mcallback_timeout\u001b[0m\u001b[0;34m,\u001b[0m \u001b[0;34m**\u001b[0m\u001b[0mkwargs\u001b[0m\u001b[0;34m\u001b[0m\u001b[0;34m\u001b[0m\u001b[0m\n\u001b[1;32m    836\u001b[0m             )\n",
      "\u001b[0;32m~/miniconda3/envs/gwas/lib/python3.8/site-packages/distributed/utils.py\u001b[0m in \u001b[0;36msync\u001b[0;34m(loop, func, callback_timeout, *args, **kwargs)\u001b[0m\n\u001b[1;32m    334\u001b[0m     \u001b[0;32melse\u001b[0m\u001b[0;34m:\u001b[0m\u001b[0;34m\u001b[0m\u001b[0;34m\u001b[0m\u001b[0m\n\u001b[1;32m    335\u001b[0m         \u001b[0;32mwhile\u001b[0m \u001b[0;32mnot\u001b[0m \u001b[0me\u001b[0m\u001b[0;34m.\u001b[0m\u001b[0mis_set\u001b[0m\u001b[0;34m(\u001b[0m\u001b[0;34m)\u001b[0m\u001b[0;34m:\u001b[0m\u001b[0;34m\u001b[0m\u001b[0;34m\u001b[0m\u001b[0m\n\u001b[0;32m--> 336\u001b[0;31m             \u001b[0me\u001b[0m\u001b[0;34m.\u001b[0m\u001b[0mwait\u001b[0m\u001b[0;34m(\u001b[0m\u001b[0;36m10\u001b[0m\u001b[0;34m)\u001b[0m\u001b[0;34m\u001b[0m\u001b[0;34m\u001b[0m\u001b[0m\n\u001b[0m\u001b[1;32m    337\u001b[0m     \u001b[0;32mif\u001b[0m \u001b[0merror\u001b[0m\u001b[0;34m[\u001b[0m\u001b[0;36m0\u001b[0m\u001b[0;34m]\u001b[0m\u001b[0;34m:\u001b[0m\u001b[0;34m\u001b[0m\u001b[0;34m\u001b[0m\u001b[0m\n\u001b[1;32m    338\u001b[0m         \u001b[0mtyp\u001b[0m\u001b[0;34m,\u001b[0m \u001b[0mexc\u001b[0m\u001b[0;34m,\u001b[0m \u001b[0mtb\u001b[0m \u001b[0;34m=\u001b[0m \u001b[0merror\u001b[0m\u001b[0;34m[\u001b[0m\u001b[0;36m0\u001b[0m\u001b[0;34m]\u001b[0m\u001b[0;34m\u001b[0m\u001b[0;34m\u001b[0m\u001b[0m\n",
      "\u001b[0;32m~/miniconda3/envs/gwas/lib/python3.8/threading.py\u001b[0m in \u001b[0;36mwait\u001b[0;34m(self, timeout)\u001b[0m\n\u001b[1;32m    556\u001b[0m             \u001b[0msignaled\u001b[0m \u001b[0;34m=\u001b[0m \u001b[0mself\u001b[0m\u001b[0;34m.\u001b[0m\u001b[0m_flag\u001b[0m\u001b[0;34m\u001b[0m\u001b[0;34m\u001b[0m\u001b[0m\n\u001b[1;32m    557\u001b[0m             \u001b[0;32mif\u001b[0m \u001b[0;32mnot\u001b[0m \u001b[0msignaled\u001b[0m\u001b[0;34m:\u001b[0m\u001b[0;34m\u001b[0m\u001b[0;34m\u001b[0m\u001b[0m\n\u001b[0;32m--> 558\u001b[0;31m                 \u001b[0msignaled\u001b[0m \u001b[0;34m=\u001b[0m \u001b[0mself\u001b[0m\u001b[0;34m.\u001b[0m\u001b[0m_cond\u001b[0m\u001b[0;34m.\u001b[0m\u001b[0mwait\u001b[0m\u001b[0;34m(\u001b[0m\u001b[0mtimeout\u001b[0m\u001b[0;34m)\u001b[0m\u001b[0;34m\u001b[0m\u001b[0;34m\u001b[0m\u001b[0m\n\u001b[0m\u001b[1;32m    559\u001b[0m             \u001b[0;32mreturn\u001b[0m \u001b[0msignaled\u001b[0m\u001b[0;34m\u001b[0m\u001b[0;34m\u001b[0m\u001b[0m\n\u001b[1;32m    560\u001b[0m \u001b[0;34m\u001b[0m\u001b[0m\n",
      "\u001b[0;32m~/miniconda3/envs/gwas/lib/python3.8/threading.py\u001b[0m in \u001b[0;36mwait\u001b[0;34m(self, timeout)\u001b[0m\n\u001b[1;32m    304\u001b[0m             \u001b[0;32melse\u001b[0m\u001b[0;34m:\u001b[0m\u001b[0;34m\u001b[0m\u001b[0;34m\u001b[0m\u001b[0m\n\u001b[1;32m    305\u001b[0m                 \u001b[0;32mif\u001b[0m \u001b[0mtimeout\u001b[0m \u001b[0;34m>\u001b[0m \u001b[0;36m0\u001b[0m\u001b[0;34m:\u001b[0m\u001b[0;34m\u001b[0m\u001b[0;34m\u001b[0m\u001b[0m\n\u001b[0;32m--> 306\u001b[0;31m                     \u001b[0mgotit\u001b[0m \u001b[0;34m=\u001b[0m \u001b[0mwaiter\u001b[0m\u001b[0;34m.\u001b[0m\u001b[0macquire\u001b[0m\u001b[0;34m(\u001b[0m\u001b[0;32mTrue\u001b[0m\u001b[0;34m,\u001b[0m \u001b[0mtimeout\u001b[0m\u001b[0;34m)\u001b[0m\u001b[0;34m\u001b[0m\u001b[0;34m\u001b[0m\u001b[0m\n\u001b[0m\u001b[1;32m    307\u001b[0m                 \u001b[0;32melse\u001b[0m\u001b[0;34m:\u001b[0m\u001b[0;34m\u001b[0m\u001b[0;34m\u001b[0m\u001b[0m\n\u001b[1;32m    308\u001b[0m                     \u001b[0mgotit\u001b[0m \u001b[0;34m=\u001b[0m \u001b[0mwaiter\u001b[0m\u001b[0;34m.\u001b[0m\u001b[0macquire\u001b[0m\u001b[0;34m(\u001b[0m\u001b[0;32mFalse\u001b[0m\u001b[0;34m)\u001b[0m\u001b[0;34m\u001b[0m\u001b[0;34m\u001b[0m\u001b[0m\n",
      "\u001b[0;31mKeyboardInterrupt\u001b[0m: "
     ]
    },
    {
     "name": "stderr",
     "output_type": "stream",
     "text": [
      "distributed.client - ERROR - Failed to reconnect to scheduler after 10.00 seconds, closing client\n",
      "ERROR:asyncio:_GatheringFuture exception was never retrieved\n",
      "future: <_GatheringFuture finished exception=CancelledError()>\n",
      "asyncio.exceptions.CancelledError\n"
     ]
    }
   ],
   "source": [
    "%%time\n",
    "# This requires about 4GiB per core\n",
    "p = ds['variant_hwe_p_value'].compute()\n",
    "p"
   ]
  },
  {
   "cell_type": "code",
   "execution_count": null,
   "metadata": {},
   "outputs": [],
   "source": []
  }
 ],
 "metadata": {
  "kernelspec": {
   "display_name": "Python 3",
   "language": "python",
   "name": "python3"
  },
  "language_info": {
   "codemirror_mode": {
    "name": "ipython",
    "version": 3
   },
   "file_extension": ".py",
   "mimetype": "text/x-python",
   "name": "python",
   "nbconvert_exporter": "python",
   "pygments_lexer": "ipython3",
   "version": "3.8.0"
  }
 },
 "nbformat": 4,
 "nbformat_minor": 4
}
