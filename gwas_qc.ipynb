{
 "cells": [
  {
   "cell_type": "code",
   "execution_count": 1,
   "metadata": {},
   "outputs": [
    {
     "data": {
      "text/html": [
       "<table style=\"border: 2px solid white;\">\n",
       "<tr>\n",
       "<td style=\"vertical-align: top; border: 0px solid white\">\n",
       "<h3 style=\"text-align: left;\">Client</h3>\n",
       "<ul style=\"text-align: left; list-style: none; margin: 0; padding: 0;\">\n",
       "  <li><b>Scheduler: </b>tcp://127.0.0.1:8086</li>\n",
       "  <li><b>Dashboard: </b><a href='http://127.0.0.1:8787/status' target='_blank'>http://127.0.0.1:8787/status</a></li>\n",
       "</ul>\n",
       "</td>\n",
       "<td style=\"vertical-align: top; border: 0px solid white\">\n",
       "<h3 style=\"text-align: left;\">Cluster</h3>\n",
       "<ul style=\"text-align: left; list-style:none; margin: 0; padding: 0;\">\n",
       "  <li><b>Workers: </b>0</li>\n",
       "  <li><b>Cores: </b>0</li>\n",
       "  <li><b>Memory: </b>0 B</li>\n",
       "</ul>\n",
       "</td>\n",
       "</tr>\n",
       "</table>"
      ],
      "text/plain": [
       "<Client: 'tcp://10.20.0.36:8786' processes=0 threads=0, memory=0 B>"
      ]
     },
     "execution_count": 1,
     "metadata": {},
     "output_type": "execute_result"
    }
   ],
   "source": [
    "from dask.distributed import Client\n",
    "import xarray as xr\n",
    "import gcsfs\n",
    "from sgkit_bgen.bgen_reader import unpack_variables\n",
    "xr.set_options(display_style='text')\n",
    "client = Client()\n",
    "client"
   ]
  },
  {
   "cell_type": "code",
   "execution_count": 2,
   "metadata": {},
   "outputs": [
    {
     "data": {
      "text/html": [
       "<pre>&lt;xarray.Dataset&gt;\n",
       "Dimensions:                         (alleles: 2, genotypes: 3, samples: 486443, variants: 45906)\n",
       "Dimensions without coordinates: alleles, genotypes, samples, variants\n",
       "Data variables:\n",
       "    call_genotype_probability_mask  (variants, samples) int8 dask.array&lt;chunksize=(10432, 11313), meta=np.ndarray&gt;\n",
       "    sample_id                       (samples) int32 dask.array&lt;chunksize=(60806,), meta=np.ndarray&gt;\n",
       "    sample_sex                      (samples) uint8 dask.array&lt;chunksize=(243222,), meta=np.ndarray&gt;\n",
       "    variant_allele                  (variants, alleles) |S8 dask.array&lt;chunksize=(22953, 1), meta=np.ndarray&gt;\n",
       "    variant_contig                  (variants) int16 dask.array&lt;chunksize=(45906,), meta=np.ndarray&gt;\n",
       "    variant_contig_name             (variants) |S4 dask.array&lt;chunksize=(45906,), meta=np.ndarray&gt;\n",
       "    variant_id                      (variants) |S15 dask.array&lt;chunksize=(22953,), meta=np.ndarray&gt;\n",
       "    variant_info                    (variants) float64 dask.array&lt;chunksize=(22953,), meta=np.ndarray&gt;\n",
       "    variant_maf                     (variants) float64 dask.array&lt;chunksize=(22953,), meta=np.ndarray&gt;\n",
       "    variant_minor_allele            (variants) |S3 dask.array&lt;chunksize=(45906,), meta=np.ndarray&gt;\n",
       "    variant_position                (variants) int32 dask.array&lt;chunksize=(45906,), meta=np.ndarray&gt;\n",
       "    variant_rsid                    (variants) |S15 dask.array&lt;chunksize=(22953,), meta=np.ndarray&gt;\n",
       "    call_genotype_probability       (variants, samples, genotypes) float16 dask.array&lt;chunksize=(10432, 11313, 1), meta=np.ndarray&gt;\n",
       "    call_dosage                     (variants, samples) float16 dask.array&lt;chunksize=(10432, 11313), meta=np.ndarray&gt;\n",
       "    call_dosage_mask                (variants, samples) int8 dask.array&lt;chunksize=(10432, 11313), meta=np.ndarray&gt;\n",
       "Attributes:\n",
       "    contig_index:  24\n",
       "    contig_name:   XY\n",
       "    contigs:       [&#x27;PAR1&#x27;, &#x27;XY&#x27;]</pre>"
      ],
      "text/plain": [
       "<xarray.Dataset>\n",
       "Dimensions:                         (alleles: 2, genotypes: 3, samples: 486443, variants: 45906)\n",
       "Dimensions without coordinates: alleles, genotypes, samples, variants\n",
       "Data variables:\n",
       "    call_genotype_probability_mask  (variants, samples) int8 dask.array<chunksize=(10432, 11313), meta=np.ndarray>\n",
       "    sample_id                       (samples) int32 dask.array<chunksize=(60806,), meta=np.ndarray>\n",
       "    sample_sex                      (samples) uint8 dask.array<chunksize=(243222,), meta=np.ndarray>\n",
       "    variant_allele                  (variants, alleles) |S8 dask.array<chunksize=(22953, 1), meta=np.ndarray>\n",
       "    variant_contig                  (variants) int16 dask.array<chunksize=(45906,), meta=np.ndarray>\n",
       "    variant_contig_name             (variants) |S4 dask.array<chunksize=(45906,), meta=np.ndarray>\n",
       "    variant_id                      (variants) |S15 dask.array<chunksize=(22953,), meta=np.ndarray>\n",
       "    variant_info                    (variants) float64 dask.array<chunksize=(22953,), meta=np.ndarray>\n",
       "    variant_maf                     (variants) float64 dask.array<chunksize=(22953,), meta=np.ndarray>\n",
       "    variant_minor_allele            (variants) |S3 dask.array<chunksize=(45906,), meta=np.ndarray>\n",
       "    variant_position                (variants) int32 dask.array<chunksize=(45906,), meta=np.ndarray>\n",
       "    variant_rsid                    (variants) |S15 dask.array<chunksize=(22953,), meta=np.ndarray>\n",
       "    call_genotype_probability       (variants, samples, genotypes) float16 dask.array<chunksize=(10432, 11313, 1), meta=np.ndarray>\n",
       "    call_dosage                     (variants, samples) float16 dask.array<chunksize=(10432, 11313), meta=np.ndarray>\n",
       "    call_dosage_mask                (variants, samples) int8 dask.array<chunksize=(10432, 11313), meta=np.ndarray>\n",
       "Attributes:\n",
       "    contig_index:  24\n",
       "    contig_name:   XY\n",
       "    contigs:       ['PAR1', 'XY']"
      ]
     },
     "execution_count": 2,
     "metadata": {},
     "output_type": "execute_result"
    }
   ],
   "source": [
    "fs = gcsfs.GCSFileSystem()\n",
    "store = gcsfs.mapping.GCSMap('rs-ukb/prep-data/gt-imputation/ukb_chrXY.zarr', gcs=fs, check=True, create=False)\n",
    "ds = xr.open_zarr(store)\n",
    "ds = unpack_variables(ds, dtype='float16')\n",
    "ds"
   ]
  },
  {
   "cell_type": "code",
   "execution_count": 3,
   "metadata": {},
   "outputs": [
    {
     "data": {
      "text/html": [
       "<pre>&lt;xarray.DataArray &#x27;call_genotype_probability_mask&#x27; ()&gt;\n",
       "array(0.)</pre>"
      ],
      "text/plain": [
       "<xarray.DataArray 'call_genotype_probability_mask' ()>\n",
       "array(0.)"
      ]
     },
     "execution_count": 3,
     "metadata": {},
     "output_type": "execute_result"
    }
   ],
   "source": [
    "cr = ds.call_genotype_probability_mask.mean(dim='samples').compute()\n",
    "cr.max()"
   ]
  },
  {
   "cell_type": "code",
   "execution_count": 6,
   "metadata": {},
   "outputs": [],
   "source": [
    "import numpy as np\n",
    "import dask.array as da\n",
    "from numba import guvectorize\n",
    "from sgkit.typing import ArrayLike\n",
    "from xarray import Dataset, DataArray\n",
    "\n",
    "@guvectorize(\n",
    "    [\n",
    "        \"void(float32[:], uint8[:], uint8[:])\",\n",
    "    ],\n",
    "    \"(k),(n)->(n)\",\n",
    "    nopython=True,\n",
    ")\n",
    "def _hard_calls(gp: ArrayLike, _: ArrayLike, out: ArrayLike) -> None:\n",
    "    out[:] = 0\n",
    "    n_genotype = len(gp)\n",
    "    i = np.argmax(gp)\n",
    "    if i == 1:\n",
    "        out[1] = 1\n",
    "    else:\n",
    "        out[:] = 1\n",
    "        \n",
    "# def hard_calls(ds: Dataset) -> DataArray:\n",
    "#     ploidy: int = 2\n",
    "#     n_genotypes = ds.dims[\"genotypes\"]\n",
    "#     G = da.asarray(ds[\"call_genotype_probability\"])\n",
    "#     shape = (G.chunks[0], G.chunks[1], ploidy)\n",
    "#     N = da.empty(ploidy, dtype=np.uint8)\n",
    "#     return xr.DataArray(\n",
    "#         da.map_blocks(_hard_calls, G, N, chunks=shape, drop_axis=2, new_axis=2),\n",
    "#         dims=(\"variants\", \"samples\", \"ploidy\"),\n",
    "#         name=\"call_genotype\",\n",
    "#     )\n",
    "\n",
    "def hard_calls(ds: Dataset) -> DataArray:\n",
    "    I = ds.call_genotype_probability.argmax(dim='genotypes').astype('uint8')\n",
    "    return xr.concat([\n",
    "        xr.where(I == np.uint8(0), np.uint8(0), np.uint8(1)),\n",
    "        xr.where(I == np.uint8(2), np.uint8(1), np.uint8(0)),\n",
    "    ], dim='ploidy').transpose('variants', 'samples', 'ploidy')"
   ]
  },
  {
   "cell_type": "code",
   "execution_count": 7,
   "metadata": {},
   "outputs": [
    {
     "data": {
      "text/html": [
       "<pre>&lt;xarray.Dataset&gt;\n",
       "Dimensions:                         (alleles: 2, genotypes: 3, ploidy: 2, samples: 486443, variants: 45906)\n",
       "Dimensions without coordinates: alleles, genotypes, ploidy, samples, variants\n",
       "Data variables:\n",
       "    call_genotype_probability_mask  (variants, samples) int8 dask.array&lt;chunksize=(10432, 11313), meta=np.ndarray&gt;\n",
       "    sample_id                       (samples) int32 dask.array&lt;chunksize=(60806,), meta=np.ndarray&gt;\n",
       "    sample_sex                      (samples) uint8 dask.array&lt;chunksize=(243222,), meta=np.ndarray&gt;\n",
       "    variant_allele                  (variants, alleles) |S8 dask.array&lt;chunksize=(22953, 1), meta=np.ndarray&gt;\n",
       "    variant_contig                  (variants) int16 dask.array&lt;chunksize=(45906,), meta=np.ndarray&gt;\n",
       "    variant_contig_name             (variants) |S4 dask.array&lt;chunksize=(45906,), meta=np.ndarray&gt;\n",
       "    variant_id                      (variants) |S15 dask.array&lt;chunksize=(22953,), meta=np.ndarray&gt;\n",
       "    variant_info                    (variants) float64 dask.array&lt;chunksize=(22953,), meta=np.ndarray&gt;\n",
       "    variant_maf                     (variants) float64 dask.array&lt;chunksize=(22953,), meta=np.ndarray&gt;\n",
       "    variant_minor_allele            (variants) |S3 dask.array&lt;chunksize=(45906,), meta=np.ndarray&gt;\n",
       "    variant_position                (variants) int32 dask.array&lt;chunksize=(45906,), meta=np.ndarray&gt;\n",
       "    variant_rsid                    (variants) |S15 dask.array&lt;chunksize=(22953,), meta=np.ndarray&gt;\n",
       "    call_genotype_probability       (variants, samples, genotypes) float16 dask.array&lt;chunksize=(10432, 11313, 1), meta=np.ndarray&gt;\n",
       "    call_dosage                     (variants, samples) float16 dask.array&lt;chunksize=(10432, 11313), meta=np.ndarray&gt;\n",
       "    call_dosage_mask                (variants, samples) int8 dask.array&lt;chunksize=(10432, 11313), meta=np.ndarray&gt;\n",
       "    call_genotype                   (variants, samples, ploidy) uint8 dask.array&lt;chunksize=(10432, 11313, 1), meta=np.ndarray&gt;\n",
       "Attributes:\n",
       "    contig_index:  24\n",
       "    contig_name:   XY\n",
       "    contigs:       [&#x27;PAR1&#x27;, &#x27;XY&#x27;]</pre>"
      ],
      "text/plain": [
       "<xarray.Dataset>\n",
       "Dimensions:                         (alleles: 2, genotypes: 3, ploidy: 2, samples: 486443, variants: 45906)\n",
       "Dimensions without coordinates: alleles, genotypes, ploidy, samples, variants\n",
       "Data variables:\n",
       "    call_genotype_probability_mask  (variants, samples) int8 dask.array<chunksize=(10432, 11313), meta=np.ndarray>\n",
       "    sample_id                       (samples) int32 dask.array<chunksize=(60806,), meta=np.ndarray>\n",
       "    sample_sex                      (samples) uint8 dask.array<chunksize=(243222,), meta=np.ndarray>\n",
       "    variant_allele                  (variants, alleles) |S8 dask.array<chunksize=(22953, 1), meta=np.ndarray>\n",
       "    variant_contig                  (variants) int16 dask.array<chunksize=(45906,), meta=np.ndarray>\n",
       "    variant_contig_name             (variants) |S4 dask.array<chunksize=(45906,), meta=np.ndarray>\n",
       "    variant_id                      (variants) |S15 dask.array<chunksize=(22953,), meta=np.ndarray>\n",
       "    variant_info                    (variants) float64 dask.array<chunksize=(22953,), meta=np.ndarray>\n",
       "    variant_maf                     (variants) float64 dask.array<chunksize=(22953,), meta=np.ndarray>\n",
       "    variant_minor_allele            (variants) |S3 dask.array<chunksize=(45906,), meta=np.ndarray>\n",
       "    variant_position                (variants) int32 dask.array<chunksize=(45906,), meta=np.ndarray>\n",
       "    variant_rsid                    (variants) |S15 dask.array<chunksize=(22953,), meta=np.ndarray>\n",
       "    call_genotype_probability       (variants, samples, genotypes) float16 dask.array<chunksize=(10432, 11313, 1), meta=np.ndarray>\n",
       "    call_dosage                     (variants, samples) float16 dask.array<chunksize=(10432, 11313), meta=np.ndarray>\n",
       "    call_dosage_mask                (variants, samples) int8 dask.array<chunksize=(10432, 11313), meta=np.ndarray>\n",
       "    call_genotype                   (variants, samples, ploidy) uint8 dask.array<chunksize=(10432, 11313, 1), meta=np.ndarray>\n",
       "Attributes:\n",
       "    contig_index:  24\n",
       "    contig_name:   XY\n",
       "    contigs:       ['PAR1', 'XY']"
      ]
     },
     "execution_count": 7,
     "metadata": {},
     "output_type": "execute_result"
    }
   ],
   "source": [
    "ds['call_genotype'] = hard_calls(ds)\n",
    "ds"
   ]
  },
  {
   "cell_type": "code",
   "execution_count": 6,
   "metadata": {},
   "outputs": [
    {
     "data": {
      "text/html": [
       "<pre>&lt;xarray.DataArray &#x27;call_genotype&#x27; (variants: 10, samples: 10)&gt;\n",
       "array([[0, 0, 0, 0, 0, 0, 0, 0, 0, 0],\n",
       "       [0, 0, 0, 0, 0, 0, 0, 0, 0, 0],\n",
       "       [0, 0, 0, 0, 0, 0, 0, 0, 0, 0],\n",
       "       [0, 0, 0, 0, 0, 0, 0, 0, 0, 0],\n",
       "       [0, 0, 0, 0, 0, 0, 0, 0, 0, 0],\n",
       "       [0, 0, 0, 0, 0, 0, 0, 0, 0, 0],\n",
       "       [0, 0, 0, 0, 0, 0, 0, 0, 0, 0],\n",
       "       [0, 0, 0, 0, 0, 0, 0, 0, 0, 0],\n",
       "       [0, 0, 0, 0, 0, 0, 0, 0, 0, 0],\n",
       "       [0, 0, 0, 0, 0, 0, 0, 0, 0, 0]], dtype=uint8)\n",
       "Dimensions without coordinates: variants, samples</pre>"
      ],
      "text/plain": [
       "<xarray.DataArray 'call_genotype' (variants: 10, samples: 10)>\n",
       "array([[0, 0, 0, 0, 0, 0, 0, 0, 0, 0],\n",
       "       [0, 0, 0, 0, 0, 0, 0, 0, 0, 0],\n",
       "       [0, 0, 0, 0, 0, 0, 0, 0, 0, 0],\n",
       "       [0, 0, 0, 0, 0, 0, 0, 0, 0, 0],\n",
       "       [0, 0, 0, 0, 0, 0, 0, 0, 0, 0],\n",
       "       [0, 0, 0, 0, 0, 0, 0, 0, 0, 0],\n",
       "       [0, 0, 0, 0, 0, 0, 0, 0, 0, 0],\n",
       "       [0, 0, 0, 0, 0, 0, 0, 0, 0, 0],\n",
       "       [0, 0, 0, 0, 0, 0, 0, 0, 0, 0],\n",
       "       [0, 0, 0, 0, 0, 0, 0, 0, 0, 0]], dtype=uint8)\n",
       "Dimensions without coordinates: variants, samples"
      ]
     },
     "execution_count": 6,
     "metadata": {},
     "output_type": "execute_result"
    }
   ],
   "source": [
    "ds['call_genotype'][:10, :10, 0].compute()"
   ]
  },
  {
   "cell_type": "code",
   "execution_count": 8,
   "metadata": {},
   "outputs": [
    {
     "data": {
      "text/html": [
       "<pre>&lt;xarray.Dataset&gt;\n",
       "Dimensions:                         (alleles: 2, genotypes: 3, ploidy: 2, samples: 486443, variants: 45906)\n",
       "Dimensions without coordinates: alleles, genotypes, ploidy, samples, variants\n",
       "Data variables:\n",
       "    call_genotype_probability_mask  (variants, samples) int8 dask.array&lt;chunksize=(10432, 11313), meta=np.ndarray&gt;\n",
       "    sample_id                       (samples) int32 dask.array&lt;chunksize=(60806,), meta=np.ndarray&gt;\n",
       "    sample_sex                      (samples) uint8 dask.array&lt;chunksize=(243222,), meta=np.ndarray&gt;\n",
       "    variant_allele                  (variants, alleles) |S8 dask.array&lt;chunksize=(22953, 1), meta=np.ndarray&gt;\n",
       "    variant_contig                  (variants) int16 dask.array&lt;chunksize=(45906,), meta=np.ndarray&gt;\n",
       "    variant_contig_name             (variants) |S4 dask.array&lt;chunksize=(45906,), meta=np.ndarray&gt;\n",
       "    variant_id                      (variants) |S15 dask.array&lt;chunksize=(22953,), meta=np.ndarray&gt;\n",
       "    variant_info                    (variants) float64 dask.array&lt;chunksize=(22953,), meta=np.ndarray&gt;\n",
       "    variant_maf                     (variants) float64 dask.array&lt;chunksize=(22953,), meta=np.ndarray&gt;\n",
       "    variant_minor_allele            (variants) |S3 dask.array&lt;chunksize=(45906,), meta=np.ndarray&gt;\n",
       "    variant_position                (variants) int32 dask.array&lt;chunksize=(45906,), meta=np.ndarray&gt;\n",
       "    variant_rsid                    (variants) |S15 dask.array&lt;chunksize=(22953,), meta=np.ndarray&gt;\n",
       "    call_genotype_probability       (variants, samples, genotypes) float16 dask.array&lt;chunksize=(10432, 11313, 1), meta=np.ndarray&gt;\n",
       "    call_dosage                     (variants, samples) float16 dask.array&lt;chunksize=(10432, 11313), meta=np.ndarray&gt;\n",
       "    call_dosage_mask                (variants, samples) int8 dask.array&lt;chunksize=(10432, 11313), meta=np.ndarray&gt;\n",
       "    call_genotype                   (variants, samples, ploidy) uint8 dask.array&lt;chunksize=(10432, 11313, 1), meta=np.ndarray&gt;\n",
       "    call_genotype_mask              (variants, samples, ploidy) bool dask.array&lt;chunksize=(10432, 11313, 2), meta=np.ndarray&gt;\n",
       "Attributes:\n",
       "    contig_index:  24\n",
       "    contig_name:   XY\n",
       "    contigs:       [&#x27;PAR1&#x27;, &#x27;XY&#x27;]</pre>"
      ],
      "text/plain": [
       "<xarray.Dataset>\n",
       "Dimensions:                         (alleles: 2, genotypes: 3, ploidy: 2, samples: 486443, variants: 45906)\n",
       "Dimensions without coordinates: alleles, genotypes, ploidy, samples, variants\n",
       "Data variables:\n",
       "    call_genotype_probability_mask  (variants, samples) int8 dask.array<chunksize=(10432, 11313), meta=np.ndarray>\n",
       "    sample_id                       (samples) int32 dask.array<chunksize=(60806,), meta=np.ndarray>\n",
       "    sample_sex                      (samples) uint8 dask.array<chunksize=(243222,), meta=np.ndarray>\n",
       "    variant_allele                  (variants, alleles) |S8 dask.array<chunksize=(22953, 1), meta=np.ndarray>\n",
       "    variant_contig                  (variants) int16 dask.array<chunksize=(45906,), meta=np.ndarray>\n",
       "    variant_contig_name             (variants) |S4 dask.array<chunksize=(45906,), meta=np.ndarray>\n",
       "    variant_id                      (variants) |S15 dask.array<chunksize=(22953,), meta=np.ndarray>\n",
       "    variant_info                    (variants) float64 dask.array<chunksize=(22953,), meta=np.ndarray>\n",
       "    variant_maf                     (variants) float64 dask.array<chunksize=(22953,), meta=np.ndarray>\n",
       "    variant_minor_allele            (variants) |S3 dask.array<chunksize=(45906,), meta=np.ndarray>\n",
       "    variant_position                (variants) int32 dask.array<chunksize=(45906,), meta=np.ndarray>\n",
       "    variant_rsid                    (variants) |S15 dask.array<chunksize=(22953,), meta=np.ndarray>\n",
       "    call_genotype_probability       (variants, samples, genotypes) float16 dask.array<chunksize=(10432, 11313, 1), meta=np.ndarray>\n",
       "    call_dosage                     (variants, samples) float16 dask.array<chunksize=(10432, 11313), meta=np.ndarray>\n",
       "    call_dosage_mask                (variants, samples) int8 dask.array<chunksize=(10432, 11313), meta=np.ndarray>\n",
       "    call_genotype                   (variants, samples, ploidy) uint8 dask.array<chunksize=(10432, 11313, 1), meta=np.ndarray>\n",
       "    call_genotype_mask              (variants, samples, ploidy) bool dask.array<chunksize=(10432, 11313, 2), meta=np.ndarray>\n",
       "Attributes:\n",
       "    contig_index:  24\n",
       "    contig_name:   XY\n",
       "    contigs:       ['PAR1', 'XY']"
      ]
     },
     "execution_count": 8,
     "metadata": {},
     "output_type": "execute_result"
    }
   ],
   "source": [
    "ds['call_genotype_mask'] = ds.call_dosage_mask.broadcast_like(ds.call_genotype).astype(bool)\n",
    "ds"
   ]
  },
  {
   "cell_type": "code",
   "execution_count": 10,
   "metadata": {},
   "outputs": [
    {
     "data": {
      "text/html": [
       "<pre>&lt;xarray.Dataset&gt;\n",
       "Dimensions:                         (alleles: 2, genotypes: 3, ploidy: 2, samples: 486443, variants: 45906)\n",
       "Dimensions without coordinates: alleles, genotypes, ploidy, samples, variants\n",
       "Data variables:\n",
       "    call_genotype_probability_mask  (variants, samples) int8 dask.array&lt;chunksize=(10432, 11313), meta=np.ndarray&gt;\n",
       "    sample_id                       (samples) int32 dask.array&lt;chunksize=(60806,), meta=np.ndarray&gt;\n",
       "    sample_sex                      (samples) uint8 dask.array&lt;chunksize=(243222,), meta=np.ndarray&gt;\n",
       "    variant_allele                  (variants, alleles) |S8 dask.array&lt;chunksize=(22953, 1), meta=np.ndarray&gt;\n",
       "    variant_contig                  (variants) int16 dask.array&lt;chunksize=(45906,), meta=np.ndarray&gt;\n",
       "    variant_contig_name             (variants) |S4 dask.array&lt;chunksize=(45906,), meta=np.ndarray&gt;\n",
       "    variant_id                      (variants) |S15 dask.array&lt;chunksize=(22953,), meta=np.ndarray&gt;\n",
       "    variant_info                    (variants) float64 dask.array&lt;chunksize=(22953,), meta=np.ndarray&gt;\n",
       "    variant_maf                     (variants) float64 dask.array&lt;chunksize=(22953,), meta=np.ndarray&gt;\n",
       "    variant_minor_allele            (variants) |S3 dask.array&lt;chunksize=(45906,), meta=np.ndarray&gt;\n",
       "    variant_position                (variants) int32 dask.array&lt;chunksize=(45906,), meta=np.ndarray&gt;\n",
       "    variant_rsid                    (variants) |S15 dask.array&lt;chunksize=(22953,), meta=np.ndarray&gt;\n",
       "    call_genotype_probability       (variants, samples, genotypes) float16 dask.array&lt;chunksize=(10432, 11313, 1), meta=np.ndarray&gt;\n",
       "    call_dosage                     (variants, samples) float16 dask.array&lt;chunksize=(10432, 11313), meta=np.ndarray&gt;\n",
       "    call_dosage_mask                (variants, samples) int8 dask.array&lt;chunksize=(10432, 11313), meta=np.ndarray&gt;\n",
       "    call_genotype                   (variants, samples, ploidy) uint8 dask.array&lt;chunksize=(10432, 11313, 1), meta=np.ndarray&gt;\n",
       "    call_genotype_mask              (variants, samples, ploidy) bool dask.array&lt;chunksize=(10432, 11313, 2), meta=np.ndarray&gt;\n",
       "    variant_hwe_p_value             (variants) float64 dask.array&lt;chunksize=(10432,), meta=np.ndarray&gt;\n",
       "Attributes:\n",
       "    contig_index:  24\n",
       "    contig_name:   XY\n",
       "    contigs:       [&#x27;PAR1&#x27;, &#x27;XY&#x27;]</pre>"
      ],
      "text/plain": [
       "<xarray.Dataset>\n",
       "Dimensions:                         (alleles: 2, genotypes: 3, ploidy: 2, samples: 486443, variants: 45906)\n",
       "Dimensions without coordinates: alleles, genotypes, ploidy, samples, variants\n",
       "Data variables:\n",
       "    call_genotype_probability_mask  (variants, samples) int8 dask.array<chunksize=(10432, 11313), meta=np.ndarray>\n",
       "    sample_id                       (samples) int32 dask.array<chunksize=(60806,), meta=np.ndarray>\n",
       "    sample_sex                      (samples) uint8 dask.array<chunksize=(243222,), meta=np.ndarray>\n",
       "    variant_allele                  (variants, alleles) |S8 dask.array<chunksize=(22953, 1), meta=np.ndarray>\n",
       "    variant_contig                  (variants) int16 dask.array<chunksize=(45906,), meta=np.ndarray>\n",
       "    variant_contig_name             (variants) |S4 dask.array<chunksize=(45906,), meta=np.ndarray>\n",
       "    variant_id                      (variants) |S15 dask.array<chunksize=(22953,), meta=np.ndarray>\n",
       "    variant_info                    (variants) float64 dask.array<chunksize=(22953,), meta=np.ndarray>\n",
       "    variant_maf                     (variants) float64 dask.array<chunksize=(22953,), meta=np.ndarray>\n",
       "    variant_minor_allele            (variants) |S3 dask.array<chunksize=(45906,), meta=np.ndarray>\n",
       "    variant_position                (variants) int32 dask.array<chunksize=(45906,), meta=np.ndarray>\n",
       "    variant_rsid                    (variants) |S15 dask.array<chunksize=(22953,), meta=np.ndarray>\n",
       "    call_genotype_probability       (variants, samples, genotypes) float16 dask.array<chunksize=(10432, 11313, 1), meta=np.ndarray>\n",
       "    call_dosage                     (variants, samples) float16 dask.array<chunksize=(10432, 11313), meta=np.ndarray>\n",
       "    call_dosage_mask                (variants, samples) int8 dask.array<chunksize=(10432, 11313), meta=np.ndarray>\n",
       "    call_genotype                   (variants, samples, ploidy) uint8 dask.array<chunksize=(10432, 11313, 1), meta=np.ndarray>\n",
       "    call_genotype_mask              (variants, samples, ploidy) bool dask.array<chunksize=(10432, 11313, 2), meta=np.ndarray>\n",
       "    variant_hwe_p_value             (variants) float64 dask.array<chunksize=(10432,), meta=np.ndarray>\n",
       "Attributes:\n",
       "    contig_index:  24\n",
       "    contig_name:   XY\n",
       "    contigs:       ['PAR1', 'XY']"
      ]
     },
     "execution_count": 10,
     "metadata": {},
     "output_type": "execute_result"
    }
   ],
   "source": [
    "import sgkit\n",
    "ds['variant_hwe_p_value'] = sgkit.hardy_weinberg_test(ds)['variant_hwe_p_value']\n",
    "ds"
   ]
  },
  {
   "cell_type": "code",
   "execution_count": null,
   "metadata": {},
   "outputs": [],
   "source": [
    "# This requires about 12GiB per core\n",
    "p = ds['variant_hwe_p_value'].compute()\n",
    "p"
   ]
  },
  {
   "cell_type": "code",
   "execution_count": null,
   "metadata": {},
   "outputs": [],
   "source": []
  }
 ],
 "metadata": {
  "kernelspec": {
   "display_name": "Python 3",
   "language": "python",
   "name": "python3"
  },
  "language_info": {
   "codemirror_mode": {
    "name": "ipython",
    "version": 3
   },
   "file_extension": ".py",
   "mimetype": "text/x-python",
   "name": "python",
   "nbconvert_exporter": "python",
   "pygments_lexer": "ipython3",
   "version": "3.8.0"
  }
 },
 "nbformat": 4,
 "nbformat_minor": 4
}
