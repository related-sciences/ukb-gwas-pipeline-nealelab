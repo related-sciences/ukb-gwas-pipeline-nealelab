{
 "cells": [
  {
   "cell_type": "code",
   "execution_count": 1,
   "metadata": {},
   "outputs": [
    {
     "data": {
      "text/html": [
       "<table style=\"border: 2px solid white;\">\n",
       "<tr>\n",
       "<td style=\"vertical-align: top; border: 0px solid white\">\n",
       "<h3 style=\"text-align: left;\">Client</h3>\n",
       "<ul style=\"text-align: left; list-style: none; margin: 0; padding: 0;\">\n",
       "  <li><b>Scheduler: </b>tcp://127.0.0.1:8086</li>\n",
       "  <li><b>Dashboard: </b><a href='http://127.0.0.1:8787/status' target='_blank'>http://127.0.0.1:8787/status</a></li>\n",
       "</ul>\n",
       "</td>\n",
       "<td style=\"vertical-align: top; border: 0px solid white\">\n",
       "<h3 style=\"text-align: left;\">Cluster</h3>\n",
       "<ul style=\"text-align: left; list-style:none; margin: 0; padding: 0;\">\n",
       "  <li><b>Workers: </b>1</li>\n",
       "  <li><b>Cores: </b>2</li>\n",
       "  <li><b>Memory: </b>21.00 GB</li>\n",
       "</ul>\n",
       "</td>\n",
       "</tr>\n",
       "</table>"
      ],
      "text/plain": [
       "<Client: 'tcp://10.20.1.4:8786' processes=1 threads=2, memory=21.00 GB>"
      ]
     },
     "execution_count": 1,
     "metadata": {},
     "output_type": "execute_result"
    }
   ],
   "source": [
    "from dask.distributed import Client\n",
    "import xarray as xr\n",
    "import gcsfs\n",
    "import sgkit\n",
    "from sgkit_bgen.bgen_reader import unpack_variables\n",
    "xr.set_options(display_style='text')\n",
    "client = Client()\n",
    "client"
   ]
  },
  {
   "cell_type": "code",
   "execution_count": 2,
   "metadata": {},
   "outputs": [
    {
     "data": {
      "text/html": [
       "<pre>&lt;xarray.Dataset&gt;\n",
       "Dimensions:                         (alleles: 2, genotypes: 3, samples: 486443, variants: 45906)\n",
       "Dimensions without coordinates: alleles, genotypes, samples, variants\n",
       "Data variables:\n",
       "    call_genotype_probability_mask  (variants, samples) int8 dask.array&lt;chunksize=(10432, 11313), meta=np.ndarray&gt;\n",
       "    sample_id                       (samples) int32 dask.array&lt;chunksize=(60806,), meta=np.ndarray&gt;\n",
       "    sample_sex                      (samples) uint8 dask.array&lt;chunksize=(243222,), meta=np.ndarray&gt;\n",
       "    variant_allele                  (variants, alleles) |S8 dask.array&lt;chunksize=(22953, 1), meta=np.ndarray&gt;\n",
       "    variant_contig                  (variants) int16 dask.array&lt;chunksize=(45906,), meta=np.ndarray&gt;\n",
       "    variant_contig_name             (variants) |S4 dask.array&lt;chunksize=(45906,), meta=np.ndarray&gt;\n",
       "    variant_id                      (variants) |S15 dask.array&lt;chunksize=(22953,), meta=np.ndarray&gt;\n",
       "    variant_info                    (variants) float64 dask.array&lt;chunksize=(22953,), meta=np.ndarray&gt;\n",
       "    variant_maf                     (variants) float64 dask.array&lt;chunksize=(22953,), meta=np.ndarray&gt;\n",
       "    variant_minor_allele            (variants) |S3 dask.array&lt;chunksize=(45906,), meta=np.ndarray&gt;\n",
       "    variant_position                (variants) int32 dask.array&lt;chunksize=(45906,), meta=np.ndarray&gt;\n",
       "    variant_rsid                    (variants) |S15 dask.array&lt;chunksize=(22953,), meta=np.ndarray&gt;\n",
       "    call_genotype_probability       (variants, samples, genotypes) float16 dask.array&lt;chunksize=(10432, 11313, 1), meta=np.ndarray&gt;\n",
       "    call_dosage                     (variants, samples) float16 dask.array&lt;chunksize=(10432, 11313), meta=np.ndarray&gt;\n",
       "    call_dosage_mask                (variants, samples) int8 dask.array&lt;chunksize=(10432, 11313), meta=np.ndarray&gt;\n",
       "Attributes:\n",
       "    contig_index:  24\n",
       "    contig_name:   XY\n",
       "    contigs:       [&#x27;PAR1&#x27;, &#x27;XY&#x27;]</pre>"
      ],
      "text/plain": [
       "<xarray.Dataset>\n",
       "Dimensions:                         (alleles: 2, genotypes: 3, samples: 486443, variants: 45906)\n",
       "Dimensions without coordinates: alleles, genotypes, samples, variants\n",
       "Data variables:\n",
       "    call_genotype_probability_mask  (variants, samples) int8 dask.array<chunksize=(10432, 11313), meta=np.ndarray>\n",
       "    sample_id                       (samples) int32 dask.array<chunksize=(60806,), meta=np.ndarray>\n",
       "    sample_sex                      (samples) uint8 dask.array<chunksize=(243222,), meta=np.ndarray>\n",
       "    variant_allele                  (variants, alleles) |S8 dask.array<chunksize=(22953, 1), meta=np.ndarray>\n",
       "    variant_contig                  (variants) int16 dask.array<chunksize=(45906,), meta=np.ndarray>\n",
       "    variant_contig_name             (variants) |S4 dask.array<chunksize=(45906,), meta=np.ndarray>\n",
       "    variant_id                      (variants) |S15 dask.array<chunksize=(22953,), meta=np.ndarray>\n",
       "    variant_info                    (variants) float64 dask.array<chunksize=(22953,), meta=np.ndarray>\n",
       "    variant_maf                     (variants) float64 dask.array<chunksize=(22953,), meta=np.ndarray>\n",
       "    variant_minor_allele            (variants) |S3 dask.array<chunksize=(45906,), meta=np.ndarray>\n",
       "    variant_position                (variants) int32 dask.array<chunksize=(45906,), meta=np.ndarray>\n",
       "    variant_rsid                    (variants) |S15 dask.array<chunksize=(22953,), meta=np.ndarray>\n",
       "    call_genotype_probability       (variants, samples, genotypes) float16 dask.array<chunksize=(10432, 11313, 1), meta=np.ndarray>\n",
       "    call_dosage                     (variants, samples) float16 dask.array<chunksize=(10432, 11313), meta=np.ndarray>\n",
       "    call_dosage_mask                (variants, samples) int8 dask.array<chunksize=(10432, 11313), meta=np.ndarray>\n",
       "Attributes:\n",
       "    contig_index:  24\n",
       "    contig_name:   XY\n",
       "    contigs:       ['PAR1', 'XY']"
      ]
     },
     "execution_count": 2,
     "metadata": {},
     "output_type": "execute_result"
    }
   ],
   "source": [
    "fs = gcsfs.GCSFileSystem()\n",
    "store = gcsfs.mapping.GCSMap('rs-ukb/prep-data/gt-imputation/ukb_chrXY.zarr', gcs=fs, check=True, create=False)\n",
    "ds = xr.open_zarr(store)\n",
    "ds = unpack_variables(ds, dtype='float16')\n",
    "ds"
   ]
  },
  {
   "cell_type": "code",
   "execution_count": 3,
   "metadata": {},
   "outputs": [
    {
     "data": {
      "text/html": [
       "<pre>&lt;xarray.DataArray &#x27;call_genotype_probability_mask&#x27; ()&gt;\n",
       "array(0.)</pre>"
      ],
      "text/plain": [
       "<xarray.DataArray 'call_genotype_probability_mask' ()>\n",
       "array(0.)"
      ]
     },
     "execution_count": 3,
     "metadata": {},
     "output_type": "execute_result"
    }
   ],
   "source": [
    "cr = ds.call_genotype_probability_mask.mean(dim='samples').compute()\n",
    "cr.max()"
   ]
  },
  {
   "cell_type": "code",
   "execution_count": 3,
   "metadata": {},
   "outputs": [
    {
     "data": {
      "text/html": [
       "<pre>&lt;xarray.Dataset&gt;\n",
       "Dimensions:                         (alleles: 2, genotypes: 3, samples: 486443, variants: 45906)\n",
       "Dimensions without coordinates: alleles, genotypes, samples, variants\n",
       "Data variables:\n",
       "    call_genotype_probability_mask  (variants, samples) int8 dask.array&lt;chunksize=(10432, 11313), meta=np.ndarray&gt;\n",
       "    sample_id                       (samples) int32 dask.array&lt;chunksize=(60806,), meta=np.ndarray&gt;\n",
       "    sample_sex                      (samples) uint8 dask.array&lt;chunksize=(243222,), meta=np.ndarray&gt;\n",
       "    variant_allele                  (variants, alleles) |S8 dask.array&lt;chunksize=(22953, 1), meta=np.ndarray&gt;\n",
       "    variant_contig                  (variants) int16 dask.array&lt;chunksize=(45906,), meta=np.ndarray&gt;\n",
       "    variant_contig_name             (variants) |S4 dask.array&lt;chunksize=(45906,), meta=np.ndarray&gt;\n",
       "    variant_id                      (variants) |S15 dask.array&lt;chunksize=(22953,), meta=np.ndarray&gt;\n",
       "    variant_info                    (variants) float64 dask.array&lt;chunksize=(22953,), meta=np.ndarray&gt;\n",
       "    variant_maf                     (variants) float64 dask.array&lt;chunksize=(22953,), meta=np.ndarray&gt;\n",
       "    variant_minor_allele            (variants) |S3 dask.array&lt;chunksize=(45906,), meta=np.ndarray&gt;\n",
       "    variant_position                (variants) int32 dask.array&lt;chunksize=(45906,), meta=np.ndarray&gt;\n",
       "    variant_rsid                    (variants) |S15 dask.array&lt;chunksize=(22953,), meta=np.ndarray&gt;\n",
       "    call_genotype_probability       (variants, samples, genotypes) float16 dask.array&lt;chunksize=(10432, 11313, 1), meta=np.ndarray&gt;\n",
       "    call_dosage                     (variants, samples) float16 dask.array&lt;chunksize=(10432, 11313), meta=np.ndarray&gt;\n",
       "    call_dosage_mask                (variants, samples) int8 dask.array&lt;chunksize=(10432, 11313), meta=np.ndarray&gt;\n",
       "    variant_genotype_counts         (variants, genotypes) uint32 dask.array&lt;chunksize=(10432, 3), meta=np.ndarray&gt;\n",
       "Attributes:\n",
       "    contig_index:  24\n",
       "    contig_name:   XY\n",
       "    contigs:       [&#x27;PAR1&#x27;, &#x27;XY&#x27;]</pre>"
      ],
      "text/plain": [
       "<xarray.Dataset>\n",
       "Dimensions:                         (alleles: 2, genotypes: 3, samples: 486443, variants: 45906)\n",
       "Dimensions without coordinates: alleles, genotypes, samples, variants\n",
       "Data variables:\n",
       "    call_genotype_probability_mask  (variants, samples) int8 dask.array<chunksize=(10432, 11313), meta=np.ndarray>\n",
       "    sample_id                       (samples) int32 dask.array<chunksize=(60806,), meta=np.ndarray>\n",
       "    sample_sex                      (samples) uint8 dask.array<chunksize=(243222,), meta=np.ndarray>\n",
       "    variant_allele                  (variants, alleles) |S8 dask.array<chunksize=(22953, 1), meta=np.ndarray>\n",
       "    variant_contig                  (variants) int16 dask.array<chunksize=(45906,), meta=np.ndarray>\n",
       "    variant_contig_name             (variants) |S4 dask.array<chunksize=(45906,), meta=np.ndarray>\n",
       "    variant_id                      (variants) |S15 dask.array<chunksize=(22953,), meta=np.ndarray>\n",
       "    variant_info                    (variants) float64 dask.array<chunksize=(22953,), meta=np.ndarray>\n",
       "    variant_maf                     (variants) float64 dask.array<chunksize=(22953,), meta=np.ndarray>\n",
       "    variant_minor_allele            (variants) |S3 dask.array<chunksize=(45906,), meta=np.ndarray>\n",
       "    variant_position                (variants) int32 dask.array<chunksize=(45906,), meta=np.ndarray>\n",
       "    variant_rsid                    (variants) |S15 dask.array<chunksize=(22953,), meta=np.ndarray>\n",
       "    call_genotype_probability       (variants, samples, genotypes) float16 dask.array<chunksize=(10432, 11313, 1), meta=np.ndarray>\n",
       "    call_dosage                     (variants, samples) float16 dask.array<chunksize=(10432, 11313), meta=np.ndarray>\n",
       "    call_dosage_mask                (variants, samples) int8 dask.array<chunksize=(10432, 11313), meta=np.ndarray>\n",
       "    variant_genotype_counts         (variants, genotypes) uint32 dask.array<chunksize=(10432, 3), meta=np.ndarray>\n",
       "Attributes:\n",
       "    contig_index:  24\n",
       "    contig_name:   XY\n",
       "    contigs:       ['PAR1', 'XY']"
      ]
     },
     "execution_count": 3,
     "metadata": {},
     "output_type": "execute_result"
    }
   ],
   "source": [
    "import numpy as np\n",
    "import dask.array as da\n",
    "from sgkit.typing import ArrayLike\n",
    "from xarray import Dataset, DataArray\n",
    "    \n",
    "def variant_genotype_counts(ds: Dataset) -> DataArray:\n",
    "    gti = ds['call_genotype_probability'].argmax(dim='genotypes')\n",
    "    gti = gti.astype('uint8').expand_dims('genotypes', axis=-1)\n",
    "    gti = gti == da.arange(ds.dims['genotypes'], dtype='uint8')\n",
    "    return gti.sum(dim='samples', dtype='uint32')\n",
    "\n",
    "ds['variant_genotype_counts'] = variant_genotype_counts(ds)[:, [1, 0, 2]]\n",
    "ds"
   ]
  },
  {
   "cell_type": "code",
   "execution_count": 4,
   "metadata": {},
   "outputs": [
    {
     "data": {
      "text/html": [
       "<pre>&lt;xarray.Dataset&gt;\n",
       "Dimensions:                         (alleles: 2, genotypes: 3, ploidy: 2, samples: 486443, variants: 45906)\n",
       "Dimensions without coordinates: alleles, genotypes, ploidy, samples, variants\n",
       "Data variables:\n",
       "    call_genotype_probability_mask  (variants, samples) int8 dask.array&lt;chunksize=(10432, 11313), meta=np.ndarray&gt;\n",
       "    sample_id                       (samples) int32 dask.array&lt;chunksize=(60806,), meta=np.ndarray&gt;\n",
       "    sample_sex                      (samples) uint8 dask.array&lt;chunksize=(243222,), meta=np.ndarray&gt;\n",
       "    variant_allele                  (variants, alleles) |S8 dask.array&lt;chunksize=(22953, 1), meta=np.ndarray&gt;\n",
       "    variant_contig                  (variants) int16 dask.array&lt;chunksize=(45906,), meta=np.ndarray&gt;\n",
       "    variant_contig_name             (variants) |S4 dask.array&lt;chunksize=(45906,), meta=np.ndarray&gt;\n",
       "    variant_id                      (variants) |S15 dask.array&lt;chunksize=(22953,), meta=np.ndarray&gt;\n",
       "    variant_info                    (variants) float64 dask.array&lt;chunksize=(22953,), meta=np.ndarray&gt;\n",
       "    variant_maf                     (variants) float64 dask.array&lt;chunksize=(22953,), meta=np.ndarray&gt;\n",
       "    variant_minor_allele            (variants) |S3 dask.array&lt;chunksize=(45906,), meta=np.ndarray&gt;\n",
       "    variant_position                (variants) int32 dask.array&lt;chunksize=(45906,), meta=np.ndarray&gt;\n",
       "    variant_rsid                    (variants) |S15 dask.array&lt;chunksize=(22953,), meta=np.ndarray&gt;\n",
       "    call_genotype_probability       (variants, samples, genotypes) float16 dask.array&lt;chunksize=(10432, 11313, 1), meta=np.ndarray&gt;\n",
       "    call_dosage                     (variants, samples) float16 dask.array&lt;chunksize=(10432, 11313), meta=np.ndarray&gt;\n",
       "    call_dosage_mask                (variants, samples) int8 dask.array&lt;chunksize=(10432, 11313), meta=np.ndarray&gt;\n",
       "    variant_genotype_counts         (variants, genotypes) uint32 dask.array&lt;chunksize=(10432, 3), meta=np.ndarray&gt;\n",
       "    dummy                           (variants, samples, ploidy) float64 dask.array&lt;chunksize=(2186, 2896, 2), meta=np.ndarray&gt;\n",
       "    variant_hwe_p_value             (variants) float64 dask.array&lt;chunksize=(10432,), meta=np.ndarray&gt;\n",
       "Attributes:\n",
       "    contig_index:  24\n",
       "    contig_name:   XY\n",
       "    contigs:       [&#x27;PAR1&#x27;, &#x27;XY&#x27;]</pre>"
      ],
      "text/plain": [
       "<xarray.Dataset>\n",
       "Dimensions:                         (alleles: 2, genotypes: 3, ploidy: 2, samples: 486443, variants: 45906)\n",
       "Dimensions without coordinates: alleles, genotypes, ploidy, samples, variants\n",
       "Data variables:\n",
       "    call_genotype_probability_mask  (variants, samples) int8 dask.array<chunksize=(10432, 11313), meta=np.ndarray>\n",
       "    sample_id                       (samples) int32 dask.array<chunksize=(60806,), meta=np.ndarray>\n",
       "    sample_sex                      (samples) uint8 dask.array<chunksize=(243222,), meta=np.ndarray>\n",
       "    variant_allele                  (variants, alleles) |S8 dask.array<chunksize=(22953, 1), meta=np.ndarray>\n",
       "    variant_contig                  (variants) int16 dask.array<chunksize=(45906,), meta=np.ndarray>\n",
       "    variant_contig_name             (variants) |S4 dask.array<chunksize=(45906,), meta=np.ndarray>\n",
       "    variant_id                      (variants) |S15 dask.array<chunksize=(22953,), meta=np.ndarray>\n",
       "    variant_info                    (variants) float64 dask.array<chunksize=(22953,), meta=np.ndarray>\n",
       "    variant_maf                     (variants) float64 dask.array<chunksize=(22953,), meta=np.ndarray>\n",
       "    variant_minor_allele            (variants) |S3 dask.array<chunksize=(45906,), meta=np.ndarray>\n",
       "    variant_position                (variants) int32 dask.array<chunksize=(45906,), meta=np.ndarray>\n",
       "    variant_rsid                    (variants) |S15 dask.array<chunksize=(22953,), meta=np.ndarray>\n",
       "    call_genotype_probability       (variants, samples, genotypes) float16 dask.array<chunksize=(10432, 11313, 1), meta=np.ndarray>\n",
       "    call_dosage                     (variants, samples) float16 dask.array<chunksize=(10432, 11313), meta=np.ndarray>\n",
       "    call_dosage_mask                (variants, samples) int8 dask.array<chunksize=(10432, 11313), meta=np.ndarray>\n",
       "    variant_genotype_counts         (variants, genotypes) uint32 dask.array<chunksize=(10432, 3), meta=np.ndarray>\n",
       "    dummy                           (variants, samples, ploidy) float64 dask.array<chunksize=(2186, 2896, 2), meta=np.ndarray>\n",
       "    variant_hwe_p_value             (variants) float64 dask.array<chunksize=(10432,), meta=np.ndarray>\n",
       "Attributes:\n",
       "    contig_index:  24\n",
       "    contig_name:   XY\n",
       "    contigs:       ['PAR1', 'XY']"
      ]
     },
     "execution_count": 4,
     "metadata": {},
     "output_type": "execute_result"
    }
   ],
   "source": [
    "ds['dummy'] = xr.DataArray(da.empty((ds.dims['variants'], ds.dims['samples'], 2)), dims=('variants', 'samples', 'ploidy'))\n",
    "ds['variant_hwe_p_value'] = sgkit.hardy_weinberg_test(ds, genotype_counts='variant_genotype_counts')['variant_hwe_p_value']\n",
    "ds"
   ]
  },
  {
   "cell_type": "code",
   "execution_count": null,
   "metadata": {},
   "outputs": [],
   "source": [
    "# This requires about 4GiB per core\n",
    "p = ds['variant_hwe_p_value'].compute()\n",
    "p"
   ]
  },
  {
   "cell_type": "code",
   "execution_count": null,
   "metadata": {},
   "outputs": [],
   "source": []
  }
 ],
 "metadata": {
  "kernelspec": {
   "display_name": "Python 3",
   "language": "python",
   "name": "python3"
  },
  "language_info": {
   "codemirror_mode": {
    "name": "ipython",
    "version": 3
   },
   "file_extension": ".py",
   "mimetype": "text/x-python",
   "name": "python",
   "nbconvert_exporter": "python",
   "pygments_lexer": "ipython3",
   "version": "3.8.0"
  }
 },
 "nbformat": 4,
 "nbformat_minor": 4
}
